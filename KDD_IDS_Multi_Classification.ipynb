{
  "nbformat": 4,
  "nbformat_minor": 0,
  "metadata": {
    "accelerator": "TPU",
    "colab": {
      "name": "KDD_IDS_Multi_Classification.ipynb",
      "provenance": [],
      "collapsed_sections": []
    },
    "kernelspec": {
      "display_name": "Python 3",
      "language": "python",
      "name": "python3"
    },
    "language_info": {
      "codemirror_mode": {
        "name": "ipython",
        "version": 3
      },
      "file_extension": ".py",
      "mimetype": "text/x-python",
      "name": "python",
      "nbconvert_exporter": "python",
      "pygments_lexer": "ipython3",
      "version": "3.7.4"
    }
  },
  "cells": [
    {
      "cell_type": "code",
      "metadata": {
        "id": "zIigYiTMuM6C",
        "colab_type": "code",
        "outputId": "ac9ebdec-4eb7-4cc5-9e31-276bca441d0c",
        "colab": {
          "base_uri": "https://localhost:8080/",
          "height": 34
        }
      },
      "source": [
        "from google.colab import drive\n",
        "drive.mount('/content/drive')"
      ],
      "execution_count": 0,
      "outputs": [
        {
          "output_type": "stream",
          "text": [
            "Drive already mounted at /content/drive; to attempt to forcibly remount, call drive.mount(\"/content/drive\", force_remount=True).\n"
          ],
          "name": "stdout"
        }
      ]
    },
    {
      "cell_type": "code",
      "metadata": {
        "colab_type": "code",
        "id": "26DZhvzKatcV",
        "colab": {}
      },
      "source": [
        "# Ignore warnings\n",
        "import warnings\n",
        "warnings.simplefilter(action='ignore', category=FutureWarning)\n",
        "warnings.filterwarnings('ignore')\n",
        "\n",
        "\n",
        "import numpy as np\n",
        "import matplotlib.pyplot as plt\n",
        "import pandas as pd\n",
        "import seaborn as sns\n",
        "import imblearn\n",
        "import sklearn\n",
        "%matplotlib inline\n",
        "\n",
        "# Settings\n",
        "np.set_printoptions(precision=3)\n",
        "pd.set_option('display.max_columns', None)\n",
        "\n",
        "sns.set(style='darkgrid')\n",
        "plt.rcParams['axes.labelsize'] = 14\n",
        "plt.rcParams['xtick.labelsize'] = 12\n",
        "plt.rcParams['ytick.labelsize'] = 12"
      ],
      "execution_count": 0,
      "outputs": []
    },
    {
      "cell_type": "markdown",
      "metadata": {
        "colab_type": "text",
        "id": "CC4nKYIhmFl6"
      },
      "source": [
        "# Load Data"
      ]
    },
    {
      "cell_type": "code",
      "metadata": {
        "colab_type": "code",
        "id": "QSDAFcETnGW4",
        "colab": {}
      },
      "source": [
        "header = ['duration', 'protocol_type', 'service', 'flag', 'src_bytes',\n",
        "          'dst_bytes', 'land', 'wrong_fragment', 'urgent', 'hot',\n",
        "          'num_failed_logins', 'logged_in', 'num_compromised', 'root_shell',\n",
        "          'su_attempted', 'num_root', 'num_file_creations', 'num_shells',\n",
        "          'num_access_files', 'num_outbound_cmds', 'is_host_login',\n",
        "          'is_guest_login', 'count', 'srv_count', 'serror_rate',\n",
        "          'srv_serror_rate', 'rerror_rate', 'srv_rerror_rate', 'same_srv_rate',\n",
        "          'diff_srv_rate', 'srv_diff_host_rate', 'dst_host_count',\n",
        "          'dst_host_srv_count', 'dst_host_same_srv_rate', 'dst_host_diff_srv_rate', 'dst_host_same_src_port_rate',\n",
        "          'dst_host_srv_diff_host_rate', 'dst_host_serror_rate',\n",
        "          'dst_host_srv_serror_rate', 'dst_host_rerror_rate',\n",
        "          'dst_host_srv_rerror_rate', 'attack_type', 'difficulty_level']"
      ],
      "execution_count": 0,
      "outputs": []
    },
    {
      "cell_type": "code",
      "metadata": {
        "colab_type": "code",
        "id": "KB6MyNwBlw2k",
        "colab": {}
      },
      "source": [
        "data = pd.read_csv('/content/drive/My Drive/ML_Project/NSL_KDD-master/KDDTrain+_20Percent.txt', names=header)"
      ],
      "execution_count": 0,
      "outputs": []
    },
    {
      "cell_type": "code",
      "metadata": {
        "colab_type": "code",
        "id": "4fegHeuQm-Al",
        "outputId": "a45bce5c-e8d9-4975-fde5-fc3a67b30b9b",
        "colab": {
          "base_uri": "https://localhost:8080/",
          "height": 232
        }
      },
      "source": [
        "print('Data has {} rows & {} columns'.format(data.shape[0],data.shape[1]))\n",
        "data.head()"
      ],
      "execution_count": 0,
      "outputs": [
        {
          "output_type": "stream",
          "text": [
            "Data has 25192 rows & 43 columns\n"
          ],
          "name": "stdout"
        },
        {
          "output_type": "execute_result",
          "data": {
            "text/html": [
              "<div>\n",
              "<style scoped>\n",
              "    .dataframe tbody tr th:only-of-type {\n",
              "        vertical-align: middle;\n",
              "    }\n",
              "\n",
              "    .dataframe tbody tr th {\n",
              "        vertical-align: top;\n",
              "    }\n",
              "\n",
              "    .dataframe thead th {\n",
              "        text-align: right;\n",
              "    }\n",
              "</style>\n",
              "<table border=\"1\" class=\"dataframe\">\n",
              "  <thead>\n",
              "    <tr style=\"text-align: right;\">\n",
              "      <th></th>\n",
              "      <th>duration</th>\n",
              "      <th>protocol_type</th>\n",
              "      <th>service</th>\n",
              "      <th>flag</th>\n",
              "      <th>src_bytes</th>\n",
              "      <th>dst_bytes</th>\n",
              "      <th>land</th>\n",
              "      <th>wrong_fragment</th>\n",
              "      <th>urgent</th>\n",
              "      <th>hot</th>\n",
              "      <th>num_failed_logins</th>\n",
              "      <th>logged_in</th>\n",
              "      <th>num_compromised</th>\n",
              "      <th>root_shell</th>\n",
              "      <th>su_attempted</th>\n",
              "      <th>num_root</th>\n",
              "      <th>num_file_creations</th>\n",
              "      <th>num_shells</th>\n",
              "      <th>num_access_files</th>\n",
              "      <th>num_outbound_cmds</th>\n",
              "      <th>is_host_login</th>\n",
              "      <th>is_guest_login</th>\n",
              "      <th>count</th>\n",
              "      <th>srv_count</th>\n",
              "      <th>serror_rate</th>\n",
              "      <th>srv_serror_rate</th>\n",
              "      <th>rerror_rate</th>\n",
              "      <th>srv_rerror_rate</th>\n",
              "      <th>same_srv_rate</th>\n",
              "      <th>diff_srv_rate</th>\n",
              "      <th>srv_diff_host_rate</th>\n",
              "      <th>dst_host_count</th>\n",
              "      <th>dst_host_srv_count</th>\n",
              "      <th>dst_host_same_srv_rate</th>\n",
              "      <th>dst_host_diff_srv_rate</th>\n",
              "      <th>dst_host_same_src_port_rate</th>\n",
              "      <th>dst_host_srv_diff_host_rate</th>\n",
              "      <th>dst_host_serror_rate</th>\n",
              "      <th>dst_host_srv_serror_rate</th>\n",
              "      <th>dst_host_rerror_rate</th>\n",
              "      <th>dst_host_srv_rerror_rate</th>\n",
              "      <th>attack_type</th>\n",
              "      <th>difficulty_level</th>\n",
              "    </tr>\n",
              "  </thead>\n",
              "  <tbody>\n",
              "    <tr>\n",
              "      <th>0</th>\n",
              "      <td>0</td>\n",
              "      <td>tcp</td>\n",
              "      <td>ftp_data</td>\n",
              "      <td>SF</td>\n",
              "      <td>491</td>\n",
              "      <td>0</td>\n",
              "      <td>0</td>\n",
              "      <td>0</td>\n",
              "      <td>0</td>\n",
              "      <td>0</td>\n",
              "      <td>0</td>\n",
              "      <td>0</td>\n",
              "      <td>0</td>\n",
              "      <td>0</td>\n",
              "      <td>0</td>\n",
              "      <td>0</td>\n",
              "      <td>0</td>\n",
              "      <td>0</td>\n",
              "      <td>0</td>\n",
              "      <td>0</td>\n",
              "      <td>0</td>\n",
              "      <td>0</td>\n",
              "      <td>2</td>\n",
              "      <td>2</td>\n",
              "      <td>0.0</td>\n",
              "      <td>0.0</td>\n",
              "      <td>0.0</td>\n",
              "      <td>0.0</td>\n",
              "      <td>1.00</td>\n",
              "      <td>0.00</td>\n",
              "      <td>0.00</td>\n",
              "      <td>150</td>\n",
              "      <td>25</td>\n",
              "      <td>0.17</td>\n",
              "      <td>0.03</td>\n",
              "      <td>0.17</td>\n",
              "      <td>0.00</td>\n",
              "      <td>0.00</td>\n",
              "      <td>0.00</td>\n",
              "      <td>0.05</td>\n",
              "      <td>0.00</td>\n",
              "      <td>normal</td>\n",
              "      <td>20</td>\n",
              "    </tr>\n",
              "    <tr>\n",
              "      <th>1</th>\n",
              "      <td>0</td>\n",
              "      <td>udp</td>\n",
              "      <td>other</td>\n",
              "      <td>SF</td>\n",
              "      <td>146</td>\n",
              "      <td>0</td>\n",
              "      <td>0</td>\n",
              "      <td>0</td>\n",
              "      <td>0</td>\n",
              "      <td>0</td>\n",
              "      <td>0</td>\n",
              "      <td>0</td>\n",
              "      <td>0</td>\n",
              "      <td>0</td>\n",
              "      <td>0</td>\n",
              "      <td>0</td>\n",
              "      <td>0</td>\n",
              "      <td>0</td>\n",
              "      <td>0</td>\n",
              "      <td>0</td>\n",
              "      <td>0</td>\n",
              "      <td>0</td>\n",
              "      <td>13</td>\n",
              "      <td>1</td>\n",
              "      <td>0.0</td>\n",
              "      <td>0.0</td>\n",
              "      <td>0.0</td>\n",
              "      <td>0.0</td>\n",
              "      <td>0.08</td>\n",
              "      <td>0.15</td>\n",
              "      <td>0.00</td>\n",
              "      <td>255</td>\n",
              "      <td>1</td>\n",
              "      <td>0.00</td>\n",
              "      <td>0.60</td>\n",
              "      <td>0.88</td>\n",
              "      <td>0.00</td>\n",
              "      <td>0.00</td>\n",
              "      <td>0.00</td>\n",
              "      <td>0.00</td>\n",
              "      <td>0.00</td>\n",
              "      <td>normal</td>\n",
              "      <td>15</td>\n",
              "    </tr>\n",
              "    <tr>\n",
              "      <th>2</th>\n",
              "      <td>0</td>\n",
              "      <td>tcp</td>\n",
              "      <td>private</td>\n",
              "      <td>S0</td>\n",
              "      <td>0</td>\n",
              "      <td>0</td>\n",
              "      <td>0</td>\n",
              "      <td>0</td>\n",
              "      <td>0</td>\n",
              "      <td>0</td>\n",
              "      <td>0</td>\n",
              "      <td>0</td>\n",
              "      <td>0</td>\n",
              "      <td>0</td>\n",
              "      <td>0</td>\n",
              "      <td>0</td>\n",
              "      <td>0</td>\n",
              "      <td>0</td>\n",
              "      <td>0</td>\n",
              "      <td>0</td>\n",
              "      <td>0</td>\n",
              "      <td>0</td>\n",
              "      <td>123</td>\n",
              "      <td>6</td>\n",
              "      <td>1.0</td>\n",
              "      <td>1.0</td>\n",
              "      <td>0.0</td>\n",
              "      <td>0.0</td>\n",
              "      <td>0.05</td>\n",
              "      <td>0.07</td>\n",
              "      <td>0.00</td>\n",
              "      <td>255</td>\n",
              "      <td>26</td>\n",
              "      <td>0.10</td>\n",
              "      <td>0.05</td>\n",
              "      <td>0.00</td>\n",
              "      <td>0.00</td>\n",
              "      <td>1.00</td>\n",
              "      <td>1.00</td>\n",
              "      <td>0.00</td>\n",
              "      <td>0.00</td>\n",
              "      <td>neptune</td>\n",
              "      <td>19</td>\n",
              "    </tr>\n",
              "    <tr>\n",
              "      <th>3</th>\n",
              "      <td>0</td>\n",
              "      <td>tcp</td>\n",
              "      <td>http</td>\n",
              "      <td>SF</td>\n",
              "      <td>232</td>\n",
              "      <td>8153</td>\n",
              "      <td>0</td>\n",
              "      <td>0</td>\n",
              "      <td>0</td>\n",
              "      <td>0</td>\n",
              "      <td>0</td>\n",
              "      <td>1</td>\n",
              "      <td>0</td>\n",
              "      <td>0</td>\n",
              "      <td>0</td>\n",
              "      <td>0</td>\n",
              "      <td>0</td>\n",
              "      <td>0</td>\n",
              "      <td>0</td>\n",
              "      <td>0</td>\n",
              "      <td>0</td>\n",
              "      <td>0</td>\n",
              "      <td>5</td>\n",
              "      <td>5</td>\n",
              "      <td>0.2</td>\n",
              "      <td>0.2</td>\n",
              "      <td>0.0</td>\n",
              "      <td>0.0</td>\n",
              "      <td>1.00</td>\n",
              "      <td>0.00</td>\n",
              "      <td>0.00</td>\n",
              "      <td>30</td>\n",
              "      <td>255</td>\n",
              "      <td>1.00</td>\n",
              "      <td>0.00</td>\n",
              "      <td>0.03</td>\n",
              "      <td>0.04</td>\n",
              "      <td>0.03</td>\n",
              "      <td>0.01</td>\n",
              "      <td>0.00</td>\n",
              "      <td>0.01</td>\n",
              "      <td>normal</td>\n",
              "      <td>21</td>\n",
              "    </tr>\n",
              "    <tr>\n",
              "      <th>4</th>\n",
              "      <td>0</td>\n",
              "      <td>tcp</td>\n",
              "      <td>http</td>\n",
              "      <td>SF</td>\n",
              "      <td>199</td>\n",
              "      <td>420</td>\n",
              "      <td>0</td>\n",
              "      <td>0</td>\n",
              "      <td>0</td>\n",
              "      <td>0</td>\n",
              "      <td>0</td>\n",
              "      <td>1</td>\n",
              "      <td>0</td>\n",
              "      <td>0</td>\n",
              "      <td>0</td>\n",
              "      <td>0</td>\n",
              "      <td>0</td>\n",
              "      <td>0</td>\n",
              "      <td>0</td>\n",
              "      <td>0</td>\n",
              "      <td>0</td>\n",
              "      <td>0</td>\n",
              "      <td>30</td>\n",
              "      <td>32</td>\n",
              "      <td>0.0</td>\n",
              "      <td>0.0</td>\n",
              "      <td>0.0</td>\n",
              "      <td>0.0</td>\n",
              "      <td>1.00</td>\n",
              "      <td>0.00</td>\n",
              "      <td>0.09</td>\n",
              "      <td>255</td>\n",
              "      <td>255</td>\n",
              "      <td>1.00</td>\n",
              "      <td>0.00</td>\n",
              "      <td>0.00</td>\n",
              "      <td>0.00</td>\n",
              "      <td>0.00</td>\n",
              "      <td>0.00</td>\n",
              "      <td>0.00</td>\n",
              "      <td>0.00</td>\n",
              "      <td>normal</td>\n",
              "      <td>21</td>\n",
              "    </tr>\n",
              "  </tbody>\n",
              "</table>\n",
              "</div>"
            ],
            "text/plain": [
              "   duration protocol_type   service flag  src_bytes  dst_bytes  land  \\\n",
              "0         0           tcp  ftp_data   SF        491          0     0   \n",
              "1         0           udp     other   SF        146          0     0   \n",
              "2         0           tcp   private   S0          0          0     0   \n",
              "3         0           tcp      http   SF        232       8153     0   \n",
              "4         0           tcp      http   SF        199        420     0   \n",
              "\n",
              "   wrong_fragment  urgent  hot  num_failed_logins  logged_in  num_compromised  \\\n",
              "0               0       0    0                  0          0                0   \n",
              "1               0       0    0                  0          0                0   \n",
              "2               0       0    0                  0          0                0   \n",
              "3               0       0    0                  0          1                0   \n",
              "4               0       0    0                  0          1                0   \n",
              "\n",
              "   root_shell  su_attempted  num_root  num_file_creations  num_shells  \\\n",
              "0           0             0         0                   0           0   \n",
              "1           0             0         0                   0           0   \n",
              "2           0             0         0                   0           0   \n",
              "3           0             0         0                   0           0   \n",
              "4           0             0         0                   0           0   \n",
              "\n",
              "   num_access_files  num_outbound_cmds  is_host_login  is_guest_login  count  \\\n",
              "0                 0                  0              0               0      2   \n",
              "1                 0                  0              0               0     13   \n",
              "2                 0                  0              0               0    123   \n",
              "3                 0                  0              0               0      5   \n",
              "4                 0                  0              0               0     30   \n",
              "\n",
              "   srv_count  serror_rate  srv_serror_rate  rerror_rate  srv_rerror_rate  \\\n",
              "0          2          0.0              0.0          0.0              0.0   \n",
              "1          1          0.0              0.0          0.0              0.0   \n",
              "2          6          1.0              1.0          0.0              0.0   \n",
              "3          5          0.2              0.2          0.0              0.0   \n",
              "4         32          0.0              0.0          0.0              0.0   \n",
              "\n",
              "   same_srv_rate  diff_srv_rate  srv_diff_host_rate  dst_host_count  \\\n",
              "0           1.00           0.00                0.00             150   \n",
              "1           0.08           0.15                0.00             255   \n",
              "2           0.05           0.07                0.00             255   \n",
              "3           1.00           0.00                0.00              30   \n",
              "4           1.00           0.00                0.09             255   \n",
              "\n",
              "   dst_host_srv_count  dst_host_same_srv_rate  dst_host_diff_srv_rate  \\\n",
              "0                  25                    0.17                    0.03   \n",
              "1                   1                    0.00                    0.60   \n",
              "2                  26                    0.10                    0.05   \n",
              "3                 255                    1.00                    0.00   \n",
              "4                 255                    1.00                    0.00   \n",
              "\n",
              "   dst_host_same_src_port_rate  dst_host_srv_diff_host_rate  \\\n",
              "0                         0.17                         0.00   \n",
              "1                         0.88                         0.00   \n",
              "2                         0.00                         0.00   \n",
              "3                         0.03                         0.04   \n",
              "4                         0.00                         0.00   \n",
              "\n",
              "   dst_host_serror_rate  dst_host_srv_serror_rate  dst_host_rerror_rate  \\\n",
              "0                  0.00                      0.00                  0.05   \n",
              "1                  0.00                      0.00                  0.00   \n",
              "2                  1.00                      1.00                  0.00   \n",
              "3                  0.03                      0.01                  0.00   \n",
              "4                  0.00                      0.00                  0.00   \n",
              "\n",
              "   dst_host_srv_rerror_rate attack_type  difficulty_level  \n",
              "0                      0.00      normal                20  \n",
              "1                      0.00      normal                15  \n",
              "2                      0.00     neptune                19  \n",
              "3                      0.01      normal                21  \n",
              "4                      0.00      normal                21  "
            ]
          },
          "metadata": {
            "tags": []
          },
          "execution_count": 5
        }
      ]
    },
    {
      "cell_type": "markdown",
      "metadata": {
        "colab_type": "text",
        "id": "rn1qb3AKoC0x"
      },
      "source": [
        "# Exploratory Analysis"
      ]
    },
    {
      "cell_type": "code",
      "metadata": {
        "colab_type": "code",
        "id": "dqKS0Jq3n1F6",
        "outputId": "2604f255-b102-4d45-b781-1728444fc036",
        "colab": {
          "base_uri": "https://localhost:8080/",
          "height": 1000
        }
      },
      "source": [
        "# Descriptive Statistics\n",
        "data.describe().transpose()"
      ],
      "execution_count": 0,
      "outputs": [
        {
          "output_type": "execute_result",
          "data": {
            "text/html": [
              "<div>\n",
              "<style scoped>\n",
              "    .dataframe tbody tr th:only-of-type {\n",
              "        vertical-align: middle;\n",
              "    }\n",
              "\n",
              "    .dataframe tbody tr th {\n",
              "        vertical-align: top;\n",
              "    }\n",
              "\n",
              "    .dataframe thead th {\n",
              "        text-align: right;\n",
              "    }\n",
              "</style>\n",
              "<table border=\"1\" class=\"dataframe\">\n",
              "  <thead>\n",
              "    <tr style=\"text-align: right;\">\n",
              "      <th></th>\n",
              "      <th>count</th>\n",
              "      <th>mean</th>\n",
              "      <th>std</th>\n",
              "      <th>min</th>\n",
              "      <th>25%</th>\n",
              "      <th>50%</th>\n",
              "      <th>75%</th>\n",
              "      <th>max</th>\n",
              "    </tr>\n",
              "  </thead>\n",
              "  <tbody>\n",
              "    <tr>\n",
              "      <th>duration</th>\n",
              "      <td>25192.0</td>\n",
              "      <td>305.054104</td>\n",
              "      <td>2.686556e+03</td>\n",
              "      <td>0.0</td>\n",
              "      <td>0.00</td>\n",
              "      <td>0.00</td>\n",
              "      <td>0.00</td>\n",
              "      <td>42862.0</td>\n",
              "    </tr>\n",
              "    <tr>\n",
              "      <th>src_bytes</th>\n",
              "      <td>25192.0</td>\n",
              "      <td>24330.628215</td>\n",
              "      <td>2.410805e+06</td>\n",
              "      <td>0.0</td>\n",
              "      <td>0.00</td>\n",
              "      <td>44.00</td>\n",
              "      <td>279.00</td>\n",
              "      <td>381709090.0</td>\n",
              "    </tr>\n",
              "    <tr>\n",
              "      <th>dst_bytes</th>\n",
              "      <td>25192.0</td>\n",
              "      <td>3491.847174</td>\n",
              "      <td>8.883072e+04</td>\n",
              "      <td>0.0</td>\n",
              "      <td>0.00</td>\n",
              "      <td>0.00</td>\n",
              "      <td>530.25</td>\n",
              "      <td>5151385.0</td>\n",
              "    </tr>\n",
              "    <tr>\n",
              "      <th>land</th>\n",
              "      <td>25192.0</td>\n",
              "      <td>0.000079</td>\n",
              "      <td>8.909946e-03</td>\n",
              "      <td>0.0</td>\n",
              "      <td>0.00</td>\n",
              "      <td>0.00</td>\n",
              "      <td>0.00</td>\n",
              "      <td>1.0</td>\n",
              "    </tr>\n",
              "    <tr>\n",
              "      <th>wrong_fragment</th>\n",
              "      <td>25192.0</td>\n",
              "      <td>0.023738</td>\n",
              "      <td>2.602208e-01</td>\n",
              "      <td>0.0</td>\n",
              "      <td>0.00</td>\n",
              "      <td>0.00</td>\n",
              "      <td>0.00</td>\n",
              "      <td>3.0</td>\n",
              "    </tr>\n",
              "    <tr>\n",
              "      <th>urgent</th>\n",
              "      <td>25192.0</td>\n",
              "      <td>0.000040</td>\n",
              "      <td>6.300408e-03</td>\n",
              "      <td>0.0</td>\n",
              "      <td>0.00</td>\n",
              "      <td>0.00</td>\n",
              "      <td>0.00</td>\n",
              "      <td>1.0</td>\n",
              "    </tr>\n",
              "    <tr>\n",
              "      <th>hot</th>\n",
              "      <td>25192.0</td>\n",
              "      <td>0.198039</td>\n",
              "      <td>2.154202e+00</td>\n",
              "      <td>0.0</td>\n",
              "      <td>0.00</td>\n",
              "      <td>0.00</td>\n",
              "      <td>0.00</td>\n",
              "      <td>77.0</td>\n",
              "    </tr>\n",
              "    <tr>\n",
              "      <th>num_failed_logins</th>\n",
              "      <td>25192.0</td>\n",
              "      <td>0.001191</td>\n",
              "      <td>4.541818e-02</td>\n",
              "      <td>0.0</td>\n",
              "      <td>0.00</td>\n",
              "      <td>0.00</td>\n",
              "      <td>0.00</td>\n",
              "      <td>4.0</td>\n",
              "    </tr>\n",
              "    <tr>\n",
              "      <th>logged_in</th>\n",
              "      <td>25192.0</td>\n",
              "      <td>0.394768</td>\n",
              "      <td>4.888105e-01</td>\n",
              "      <td>0.0</td>\n",
              "      <td>0.00</td>\n",
              "      <td>0.00</td>\n",
              "      <td>1.00</td>\n",
              "      <td>1.0</td>\n",
              "    </tr>\n",
              "    <tr>\n",
              "      <th>num_compromised</th>\n",
              "      <td>25192.0</td>\n",
              "      <td>0.227850</td>\n",
              "      <td>1.041735e+01</td>\n",
              "      <td>0.0</td>\n",
              "      <td>0.00</td>\n",
              "      <td>0.00</td>\n",
              "      <td>0.00</td>\n",
              "      <td>884.0</td>\n",
              "    </tr>\n",
              "    <tr>\n",
              "      <th>root_shell</th>\n",
              "      <td>25192.0</td>\n",
              "      <td>0.001548</td>\n",
              "      <td>3.931635e-02</td>\n",
              "      <td>0.0</td>\n",
              "      <td>0.00</td>\n",
              "      <td>0.00</td>\n",
              "      <td>0.00</td>\n",
              "      <td>1.0</td>\n",
              "    </tr>\n",
              "    <tr>\n",
              "      <th>su_attempted</th>\n",
              "      <td>25192.0</td>\n",
              "      <td>0.001350</td>\n",
              "      <td>4.878505e-02</td>\n",
              "      <td>0.0</td>\n",
              "      <td>0.00</td>\n",
              "      <td>0.00</td>\n",
              "      <td>0.00</td>\n",
              "      <td>2.0</td>\n",
              "    </tr>\n",
              "    <tr>\n",
              "      <th>num_root</th>\n",
              "      <td>25192.0</td>\n",
              "      <td>0.249841</td>\n",
              "      <td>1.150084e+01</td>\n",
              "      <td>0.0</td>\n",
              "      <td>0.00</td>\n",
              "      <td>0.00</td>\n",
              "      <td>0.00</td>\n",
              "      <td>975.0</td>\n",
              "    </tr>\n",
              "    <tr>\n",
              "      <th>num_file_creations</th>\n",
              "      <td>25192.0</td>\n",
              "      <td>0.014727</td>\n",
              "      <td>5.296023e-01</td>\n",
              "      <td>0.0</td>\n",
              "      <td>0.00</td>\n",
              "      <td>0.00</td>\n",
              "      <td>0.00</td>\n",
              "      <td>40.0</td>\n",
              "    </tr>\n",
              "    <tr>\n",
              "      <th>num_shells</th>\n",
              "      <td>25192.0</td>\n",
              "      <td>0.000357</td>\n",
              "      <td>1.889822e-02</td>\n",
              "      <td>0.0</td>\n",
              "      <td>0.00</td>\n",
              "      <td>0.00</td>\n",
              "      <td>0.00</td>\n",
              "      <td>1.0</td>\n",
              "    </tr>\n",
              "    <tr>\n",
              "      <th>num_access_files</th>\n",
              "      <td>25192.0</td>\n",
              "      <td>0.004327</td>\n",
              "      <td>9.852398e-02</td>\n",
              "      <td>0.0</td>\n",
              "      <td>0.00</td>\n",
              "      <td>0.00</td>\n",
              "      <td>0.00</td>\n",
              "      <td>8.0</td>\n",
              "    </tr>\n",
              "    <tr>\n",
              "      <th>num_outbound_cmds</th>\n",
              "      <td>25192.0</td>\n",
              "      <td>0.000000</td>\n",
              "      <td>0.000000e+00</td>\n",
              "      <td>0.0</td>\n",
              "      <td>0.00</td>\n",
              "      <td>0.00</td>\n",
              "      <td>0.00</td>\n",
              "      <td>0.0</td>\n",
              "    </tr>\n",
              "    <tr>\n",
              "      <th>is_host_login</th>\n",
              "      <td>25192.0</td>\n",
              "      <td>0.000000</td>\n",
              "      <td>0.000000e+00</td>\n",
              "      <td>0.0</td>\n",
              "      <td>0.00</td>\n",
              "      <td>0.00</td>\n",
              "      <td>0.00</td>\n",
              "      <td>0.0</td>\n",
              "    </tr>\n",
              "    <tr>\n",
              "      <th>is_guest_login</th>\n",
              "      <td>25192.0</td>\n",
              "      <td>0.009130</td>\n",
              "      <td>9.511512e-02</td>\n",
              "      <td>0.0</td>\n",
              "      <td>0.00</td>\n",
              "      <td>0.00</td>\n",
              "      <td>0.00</td>\n",
              "      <td>1.0</td>\n",
              "    </tr>\n",
              "    <tr>\n",
              "      <th>count</th>\n",
              "      <td>25192.0</td>\n",
              "      <td>84.591180</td>\n",
              "      <td>1.146735e+02</td>\n",
              "      <td>1.0</td>\n",
              "      <td>2.00</td>\n",
              "      <td>14.00</td>\n",
              "      <td>144.00</td>\n",
              "      <td>511.0</td>\n",
              "    </tr>\n",
              "    <tr>\n",
              "      <th>srv_count</th>\n",
              "      <td>25192.0</td>\n",
              "      <td>27.698754</td>\n",
              "      <td>7.246824e+01</td>\n",
              "      <td>1.0</td>\n",
              "      <td>2.00</td>\n",
              "      <td>8.00</td>\n",
              "      <td>18.00</td>\n",
              "      <td>511.0</td>\n",
              "    </tr>\n",
              "    <tr>\n",
              "      <th>serror_rate</th>\n",
              "      <td>25192.0</td>\n",
              "      <td>0.286338</td>\n",
              "      <td>4.473123e-01</td>\n",
              "      <td>0.0</td>\n",
              "      <td>0.00</td>\n",
              "      <td>0.00</td>\n",
              "      <td>1.00</td>\n",
              "      <td>1.0</td>\n",
              "    </tr>\n",
              "    <tr>\n",
              "      <th>srv_serror_rate</th>\n",
              "      <td>25192.0</td>\n",
              "      <td>0.283762</td>\n",
              "      <td>4.475989e-01</td>\n",
              "      <td>0.0</td>\n",
              "      <td>0.00</td>\n",
              "      <td>0.00</td>\n",
              "      <td>1.00</td>\n",
              "      <td>1.0</td>\n",
              "    </tr>\n",
              "    <tr>\n",
              "      <th>rerror_rate</th>\n",
              "      <td>25192.0</td>\n",
              "      <td>0.118630</td>\n",
              "      <td>3.187455e-01</td>\n",
              "      <td>0.0</td>\n",
              "      <td>0.00</td>\n",
              "      <td>0.00</td>\n",
              "      <td>0.00</td>\n",
              "      <td>1.0</td>\n",
              "    </tr>\n",
              "    <tr>\n",
              "      <th>srv_rerror_rate</th>\n",
              "      <td>25192.0</td>\n",
              "      <td>0.120260</td>\n",
              "      <td>3.223354e-01</td>\n",
              "      <td>0.0</td>\n",
              "      <td>0.00</td>\n",
              "      <td>0.00</td>\n",
              "      <td>0.00</td>\n",
              "      <td>1.0</td>\n",
              "    </tr>\n",
              "    <tr>\n",
              "      <th>same_srv_rate</th>\n",
              "      <td>25192.0</td>\n",
              "      <td>0.660559</td>\n",
              "      <td>4.396374e-01</td>\n",
              "      <td>0.0</td>\n",
              "      <td>0.09</td>\n",
              "      <td>1.00</td>\n",
              "      <td>1.00</td>\n",
              "      <td>1.0</td>\n",
              "    </tr>\n",
              "    <tr>\n",
              "      <th>diff_srv_rate</th>\n",
              "      <td>25192.0</td>\n",
              "      <td>0.062363</td>\n",
              "      <td>1.785500e-01</td>\n",
              "      <td>0.0</td>\n",
              "      <td>0.00</td>\n",
              "      <td>0.00</td>\n",
              "      <td>0.06</td>\n",
              "      <td>1.0</td>\n",
              "    </tr>\n",
              "    <tr>\n",
              "      <th>srv_diff_host_rate</th>\n",
              "      <td>25192.0</td>\n",
              "      <td>0.095931</td>\n",
              "      <td>2.565828e-01</td>\n",
              "      <td>0.0</td>\n",
              "      <td>0.00</td>\n",
              "      <td>0.00</td>\n",
              "      <td>0.00</td>\n",
              "      <td>1.0</td>\n",
              "    </tr>\n",
              "    <tr>\n",
              "      <th>dst_host_count</th>\n",
              "      <td>25192.0</td>\n",
              "      <td>182.532074</td>\n",
              "      <td>9.899390e+01</td>\n",
              "      <td>0.0</td>\n",
              "      <td>84.00</td>\n",
              "      <td>255.00</td>\n",
              "      <td>255.00</td>\n",
              "      <td>255.0</td>\n",
              "    </tr>\n",
              "    <tr>\n",
              "      <th>dst_host_srv_count</th>\n",
              "      <td>25192.0</td>\n",
              "      <td>115.063036</td>\n",
              "      <td>1.106469e+02</td>\n",
              "      <td>0.0</td>\n",
              "      <td>10.00</td>\n",
              "      <td>61.00</td>\n",
              "      <td>255.00</td>\n",
              "      <td>255.0</td>\n",
              "    </tr>\n",
              "    <tr>\n",
              "      <th>dst_host_same_srv_rate</th>\n",
              "      <td>25192.0</td>\n",
              "      <td>0.519791</td>\n",
              "      <td>4.489439e-01</td>\n",
              "      <td>0.0</td>\n",
              "      <td>0.05</td>\n",
              "      <td>0.51</td>\n",
              "      <td>1.00</td>\n",
              "      <td>1.0</td>\n",
              "    </tr>\n",
              "    <tr>\n",
              "      <th>dst_host_diff_srv_rate</th>\n",
              "      <td>25192.0</td>\n",
              "      <td>0.082539</td>\n",
              "      <td>1.871911e-01</td>\n",
              "      <td>0.0</td>\n",
              "      <td>0.00</td>\n",
              "      <td>0.03</td>\n",
              "      <td>0.07</td>\n",
              "      <td>1.0</td>\n",
              "    </tr>\n",
              "    <tr>\n",
              "      <th>dst_host_same_src_port_rate</th>\n",
              "      <td>25192.0</td>\n",
              "      <td>0.147453</td>\n",
              "      <td>3.083666e-01</td>\n",
              "      <td>0.0</td>\n",
              "      <td>0.00</td>\n",
              "      <td>0.00</td>\n",
              "      <td>0.06</td>\n",
              "      <td>1.0</td>\n",
              "    </tr>\n",
              "    <tr>\n",
              "      <th>dst_host_srv_diff_host_rate</th>\n",
              "      <td>25192.0</td>\n",
              "      <td>0.031844</td>\n",
              "      <td>1.105750e-01</td>\n",
              "      <td>0.0</td>\n",
              "      <td>0.00</td>\n",
              "      <td>0.00</td>\n",
              "      <td>0.02</td>\n",
              "      <td>1.0</td>\n",
              "    </tr>\n",
              "    <tr>\n",
              "      <th>dst_host_serror_rate</th>\n",
              "      <td>25192.0</td>\n",
              "      <td>0.285800</td>\n",
              "      <td>4.453165e-01</td>\n",
              "      <td>0.0</td>\n",
              "      <td>0.00</td>\n",
              "      <td>0.00</td>\n",
              "      <td>1.00</td>\n",
              "      <td>1.0</td>\n",
              "    </tr>\n",
              "    <tr>\n",
              "      <th>dst_host_srv_serror_rate</th>\n",
              "      <td>25192.0</td>\n",
              "      <td>0.279846</td>\n",
              "      <td>4.460753e-01</td>\n",
              "      <td>0.0</td>\n",
              "      <td>0.00</td>\n",
              "      <td>0.00</td>\n",
              "      <td>1.00</td>\n",
              "      <td>1.0</td>\n",
              "    </tr>\n",
              "    <tr>\n",
              "      <th>dst_host_rerror_rate</th>\n",
              "      <td>25192.0</td>\n",
              "      <td>0.117800</td>\n",
              "      <td>3.058692e-01</td>\n",
              "      <td>0.0</td>\n",
              "      <td>0.00</td>\n",
              "      <td>0.00</td>\n",
              "      <td>0.00</td>\n",
              "      <td>1.0</td>\n",
              "    </tr>\n",
              "    <tr>\n",
              "      <th>dst_host_srv_rerror_rate</th>\n",
              "      <td>25192.0</td>\n",
              "      <td>0.118769</td>\n",
              "      <td>3.173335e-01</td>\n",
              "      <td>0.0</td>\n",
              "      <td>0.00</td>\n",
              "      <td>0.00</td>\n",
              "      <td>0.00</td>\n",
              "      <td>1.0</td>\n",
              "    </tr>\n",
              "    <tr>\n",
              "      <th>difficulty_level</th>\n",
              "      <td>25192.0</td>\n",
              "      <td>19.487695</td>\n",
              "      <td>2.328541e+00</td>\n",
              "      <td>0.0</td>\n",
              "      <td>18.00</td>\n",
              "      <td>20.00</td>\n",
              "      <td>21.00</td>\n",
              "      <td>21.0</td>\n",
              "    </tr>\n",
              "  </tbody>\n",
              "</table>\n",
              "</div>"
            ],
            "text/plain": [
              "                               count          mean           std  min    25%  \\\n",
              "duration                     25192.0    305.054104  2.686556e+03  0.0   0.00   \n",
              "src_bytes                    25192.0  24330.628215  2.410805e+06  0.0   0.00   \n",
              "dst_bytes                    25192.0   3491.847174  8.883072e+04  0.0   0.00   \n",
              "land                         25192.0      0.000079  8.909946e-03  0.0   0.00   \n",
              "wrong_fragment               25192.0      0.023738  2.602208e-01  0.0   0.00   \n",
              "urgent                       25192.0      0.000040  6.300408e-03  0.0   0.00   \n",
              "hot                          25192.0      0.198039  2.154202e+00  0.0   0.00   \n",
              "num_failed_logins            25192.0      0.001191  4.541818e-02  0.0   0.00   \n",
              "logged_in                    25192.0      0.394768  4.888105e-01  0.0   0.00   \n",
              "num_compromised              25192.0      0.227850  1.041735e+01  0.0   0.00   \n",
              "root_shell                   25192.0      0.001548  3.931635e-02  0.0   0.00   \n",
              "su_attempted                 25192.0      0.001350  4.878505e-02  0.0   0.00   \n",
              "num_root                     25192.0      0.249841  1.150084e+01  0.0   0.00   \n",
              "num_file_creations           25192.0      0.014727  5.296023e-01  0.0   0.00   \n",
              "num_shells                   25192.0      0.000357  1.889822e-02  0.0   0.00   \n",
              "num_access_files             25192.0      0.004327  9.852398e-02  0.0   0.00   \n",
              "num_outbound_cmds            25192.0      0.000000  0.000000e+00  0.0   0.00   \n",
              "is_host_login                25192.0      0.000000  0.000000e+00  0.0   0.00   \n",
              "is_guest_login               25192.0      0.009130  9.511512e-02  0.0   0.00   \n",
              "count                        25192.0     84.591180  1.146735e+02  1.0   2.00   \n",
              "srv_count                    25192.0     27.698754  7.246824e+01  1.0   2.00   \n",
              "serror_rate                  25192.0      0.286338  4.473123e-01  0.0   0.00   \n",
              "srv_serror_rate              25192.0      0.283762  4.475989e-01  0.0   0.00   \n",
              "rerror_rate                  25192.0      0.118630  3.187455e-01  0.0   0.00   \n",
              "srv_rerror_rate              25192.0      0.120260  3.223354e-01  0.0   0.00   \n",
              "same_srv_rate                25192.0      0.660559  4.396374e-01  0.0   0.09   \n",
              "diff_srv_rate                25192.0      0.062363  1.785500e-01  0.0   0.00   \n",
              "srv_diff_host_rate           25192.0      0.095931  2.565828e-01  0.0   0.00   \n",
              "dst_host_count               25192.0    182.532074  9.899390e+01  0.0  84.00   \n",
              "dst_host_srv_count           25192.0    115.063036  1.106469e+02  0.0  10.00   \n",
              "dst_host_same_srv_rate       25192.0      0.519791  4.489439e-01  0.0   0.05   \n",
              "dst_host_diff_srv_rate       25192.0      0.082539  1.871911e-01  0.0   0.00   \n",
              "dst_host_same_src_port_rate  25192.0      0.147453  3.083666e-01  0.0   0.00   \n",
              "dst_host_srv_diff_host_rate  25192.0      0.031844  1.105750e-01  0.0   0.00   \n",
              "dst_host_serror_rate         25192.0      0.285800  4.453165e-01  0.0   0.00   \n",
              "dst_host_srv_serror_rate     25192.0      0.279846  4.460753e-01  0.0   0.00   \n",
              "dst_host_rerror_rate         25192.0      0.117800  3.058692e-01  0.0   0.00   \n",
              "dst_host_srv_rerror_rate     25192.0      0.118769  3.173335e-01  0.0   0.00   \n",
              "difficulty_level             25192.0     19.487695  2.328541e+00  0.0  18.00   \n",
              "\n",
              "                                50%     75%          max  \n",
              "duration                       0.00    0.00      42862.0  \n",
              "src_bytes                     44.00  279.00  381709090.0  \n",
              "dst_bytes                      0.00  530.25    5151385.0  \n",
              "land                           0.00    0.00          1.0  \n",
              "wrong_fragment                 0.00    0.00          3.0  \n",
              "urgent                         0.00    0.00          1.0  \n",
              "hot                            0.00    0.00         77.0  \n",
              "num_failed_logins              0.00    0.00          4.0  \n",
              "logged_in                      0.00    1.00          1.0  \n",
              "num_compromised                0.00    0.00        884.0  \n",
              "root_shell                     0.00    0.00          1.0  \n",
              "su_attempted                   0.00    0.00          2.0  \n",
              "num_root                       0.00    0.00        975.0  \n",
              "num_file_creations             0.00    0.00         40.0  \n",
              "num_shells                     0.00    0.00          1.0  \n",
              "num_access_files               0.00    0.00          8.0  \n",
              "num_outbound_cmds              0.00    0.00          0.0  \n",
              "is_host_login                  0.00    0.00          0.0  \n",
              "is_guest_login                 0.00    0.00          1.0  \n",
              "count                         14.00  144.00        511.0  \n",
              "srv_count                      8.00   18.00        511.0  \n",
              "serror_rate                    0.00    1.00          1.0  \n",
              "srv_serror_rate                0.00    1.00          1.0  \n",
              "rerror_rate                    0.00    0.00          1.0  \n",
              "srv_rerror_rate                0.00    0.00          1.0  \n",
              "same_srv_rate                  1.00    1.00          1.0  \n",
              "diff_srv_rate                  0.00    0.06          1.0  \n",
              "srv_diff_host_rate             0.00    0.00          1.0  \n",
              "dst_host_count               255.00  255.00        255.0  \n",
              "dst_host_srv_count            61.00  255.00        255.0  \n",
              "dst_host_same_srv_rate         0.51    1.00          1.0  \n",
              "dst_host_diff_srv_rate         0.03    0.07          1.0  \n",
              "dst_host_same_src_port_rate    0.00    0.06          1.0  \n",
              "dst_host_srv_diff_host_rate    0.00    0.02          1.0  \n",
              "dst_host_serror_rate           0.00    1.00          1.0  \n",
              "dst_host_srv_serror_rate       0.00    1.00          1.0  \n",
              "dst_host_rerror_rate           0.00    0.00          1.0  \n",
              "dst_host_srv_rerror_rate       0.00    0.00          1.0  \n",
              "difficulty_level              20.00   21.00         21.0  "
            ]
          },
          "metadata": {
            "tags": []
          },
          "execution_count": 6
        }
      ]
    },
    {
      "cell_type": "code",
      "metadata": {
        "colab_type": "code",
        "id": "w5P7Ih4OoMva",
        "outputId": "e7e12d26-4fb1-463f-e842-99c61dc18d73",
        "colab": {
          "base_uri": "https://localhost:8080/",
          "height": 50
        }
      },
      "source": [
        "print(data['num_outbound_cmds'].value_counts())"
      ],
      "execution_count": 0,
      "outputs": [
        {
          "output_type": "stream",
          "text": [
            "0    25192\n",
            "Name: num_outbound_cmds, dtype: int64\n"
          ],
          "name": "stdout"
        }
      ]
    },
    {
      "cell_type": "code",
      "metadata": {
        "colab_type": "code",
        "id": "qdy92zeNofeA",
        "colab": {}
      },
      "source": [
        "# since num_outbound_cmds is a redundant colums, so remove it from dataset\n",
        "data.drop(['num_outbound_cmds'], axis=1, inplace=True)\n",
        "data.drop(['difficulty_level'], axis=1, inplace=True)"
      ],
      "execution_count": 0,
      "outputs": []
    },
    {
      "cell_type": "code",
      "metadata": {
        "colab_type": "code",
        "id": "nrtUuz5Uo5wg",
        "outputId": "56979093-e82f-4bfb-bdb1-a3701ee6265f",
        "colab": {
          "base_uri": "https://localhost:8080/",
          "height": 403
        }
      },
      "source": [
        "# Attack class Distribution\n",
        "data['attack_type'].value_counts()"
      ],
      "execution_count": 0,
      "outputs": [
        {
          "output_type": "execute_result",
          "data": {
            "text/plain": [
              "normal             13449\n",
              "neptune             8282\n",
              "ipsweep              710\n",
              "satan                691\n",
              "portsweep            587\n",
              "smurf                529\n",
              "nmap                 301\n",
              "back                 196\n",
              "teardrop             188\n",
              "warezclient          181\n",
              "pod                   38\n",
              "guess_passwd          10\n",
              "warezmaster            7\n",
              "buffer_overflow        6\n",
              "imap                   5\n",
              "rootkit                4\n",
              "phf                    2\n",
              "multihop               2\n",
              "spy                    1\n",
              "ftp_write              1\n",
              "land                   1\n",
              "loadmodule             1\n",
              "Name: attack_type, dtype: int64"
            ]
          },
          "metadata": {
            "tags": []
          },
          "execution_count": 9
        }
      ]
    },
    {
      "cell_type": "code",
      "metadata": {
        "id": "3iOFfhtCD4D9",
        "colab_type": "code",
        "outputId": "0e015a55-635c-456b-9fad-72ce7e97ed16",
        "colab": {
          "base_uri": "https://localhost:8080/",
          "height": 118
        }
      },
      "source": [
        "for i in range(len(data['attack_type'])):\n",
        "      if data['attack_type'][i] in ['neptune', 'land', 'back', 'pod', 'smurf', 'teardrop']:\n",
        "        data['attack_type'][i] = 'dos'\n",
        "      elif data['attack_type'][i] in ['buffer_overflow', 'loadmodule', 'perl', 'rootkit']:\n",
        "        data['attack_type'][i] = 'u2r'\n",
        "      elif data['attack_type'][i] in ['ftp_write', 'guess_passwd', 'imap', 'multihop', 'phf', 'spy', 'warezclient', 'warezmaster']:\n",
        "        data['attack_type'][i] = 'r2l'\n",
        "      elif data['attack_type'][i] in ['ipsweep', 'nmap', 'portsweep', 'satan']:\n",
        "        data['attack_type'][i] = 'probe'\n",
        "\n",
        "data['attack_type'].value_counts()"
      ],
      "execution_count": 0,
      "outputs": [
        {
          "output_type": "execute_result",
          "data": {
            "text/plain": [
              "normal    13449\n",
              "dos        9234\n",
              "probe      2289\n",
              "r2l         209\n",
              "u2r          11\n",
              "Name: attack_type, dtype: int64"
            ]
          },
          "metadata": {
            "tags": []
          },
          "execution_count": 10
        }
      ]
    },
    {
      "cell_type": "code",
      "metadata": {
        "id": "WTKQZhCRPGdp",
        "colab_type": "code",
        "outputId": "209eb8f8-120e-4136-f18d-d3b3c0fd27d8",
        "colab": {
          "base_uri": "https://localhost:8080/",
          "height": 151
        }
      },
      "source": [
        "X = data.iloc[:,:-1].values\n",
        "Y = data.iloc[:,-1].values\n",
        "Y = Y.reshape(-1,1)\n",
        "print([X.shape, Y.shape])\n",
        "Y"
      ],
      "execution_count": 0,
      "outputs": [
        {
          "output_type": "stream",
          "text": [
            "[(25192, 40), (25192, 1)]\n"
          ],
          "name": "stdout"
        },
        {
          "output_type": "execute_result",
          "data": {
            "text/plain": [
              "array([['normal'],\n",
              "       ['normal'],\n",
              "       ['dos'],\n",
              "       ...,\n",
              "       ['dos'],\n",
              "       ['dos'],\n",
              "       ['dos']], dtype=object)"
            ]
          },
          "metadata": {
            "tags": []
          },
          "execution_count": 11
        }
      ]
    },
    {
      "cell_type": "markdown",
      "metadata": {
        "colab_type": "text",
        "id": "Sn6P3lTJr9lH"
      },
      "source": [
        "# Encoding Categorical Attributes"
      ]
    },
    {
      "cell_type": "code",
      "metadata": {
        "colab_type": "code",
        "id": "koRKSD7crgv9",
        "outputId": "1a0f5f36-c8c1-4400-d2ea-e7534390dc94",
        "colab": {
          "base_uri": "https://localhost:8080/",
          "height": 134
        }
      },
      "source": [
        "from sklearn.preprocessing import LabelEncoder, OneHotEncoder\n",
        "encoder = LabelEncoder()\n",
        "\n",
        "X[:,1] = encoder.fit_transform(X[:,1])\n",
        "X[:,2] = encoder.fit_transform(X[:,2])\n",
        "X[:,3] = encoder.fit_transform(X[:,3])\n",
        "\n",
        "ohe_y = OneHotEncoder()\n",
        "y = encoder.fit_transform(Y).reshape(-1,1)\n",
        "Y = ohe_y.fit_transform(y).toarray()\n",
        "X.shape, Y.shape\n",
        "Y"
      ],
      "execution_count": 0,
      "outputs": [
        {
          "output_type": "execute_result",
          "data": {
            "text/plain": [
              "array([[0., 1., 0., 0., 0.],\n",
              "       [0., 1., 0., 0., 0.],\n",
              "       [1., 0., 0., 0., 0.],\n",
              "       ...,\n",
              "       [1., 0., 0., 0., 0.],\n",
              "       [1., 0., 0., 0., 0.],\n",
              "       [1., 0., 0., 0., 0.]])"
            ]
          },
          "metadata": {
            "tags": []
          },
          "execution_count": 12
        }
      ]
    },
    {
      "cell_type": "code",
      "metadata": {
        "id": "dMzYMjnEUX6d",
        "colab_type": "code",
        "colab": {}
      },
      "source": [
        "cols = ['duration', 'protocol_type', 'service', 'flag', 'src_bytes',\n",
        "          'dst_bytes', 'land', 'wrong_fragment', 'urgent', 'hot',\n",
        "          'num_failed_logins', 'logged_in', 'num_compromised', 'root_shell',\n",
        "          'su_attempted', 'num_root', 'num_file_creations', 'num_shells',\n",
        "          'num_access_files', 'is_host_login',\n",
        "          'is_guest_login', 'count', 'srv_count', 'serror_rate',\n",
        "          'srv_serror_rate', 'rerror_rate', 'srv_rerror_rate', 'same_srv_rate',\n",
        "          'diff_srv_rate', 'srv_diff_host_rate', 'dst_host_count',\n",
        "          'dst_host_srv_count', 'dst_host_same_srv_rate', 'dst_host_diff_srv_rate', 'dst_host_same_src_port_rate',\n",
        "          'dst_host_srv_diff_host_rate', 'dst_host_serror_rate',\n",
        "          'dst_host_srv_serror_rate', 'dst_host_rerror_rate',\n",
        "          'dst_host_srv_rerror_rate']"
      ],
      "execution_count": 0,
      "outputs": []
    },
    {
      "cell_type": "code",
      "metadata": {
        "id": "7BiCR0uMUGxy",
        "colab_type": "code",
        "outputId": "072ae350-87c2-42e6-bf9d-00e58711195c",
        "colab": {
          "base_uri": "https://localhost:8080/",
          "height": 402
        }
      },
      "source": [
        "data_x = pd.DataFrame(X,columns=cols)\n",
        "data_y = pd.DataFrame(y)\n",
        "data_y"
      ],
      "execution_count": 0,
      "outputs": [
        {
          "output_type": "execute_result",
          "data": {
            "text/html": [
              "<div>\n",
              "<style scoped>\n",
              "    .dataframe tbody tr th:only-of-type {\n",
              "        vertical-align: middle;\n",
              "    }\n",
              "\n",
              "    .dataframe tbody tr th {\n",
              "        vertical-align: top;\n",
              "    }\n",
              "\n",
              "    .dataframe thead th {\n",
              "        text-align: right;\n",
              "    }\n",
              "</style>\n",
              "<table border=\"1\" class=\"dataframe\">\n",
              "  <thead>\n",
              "    <tr style=\"text-align: right;\">\n",
              "      <th></th>\n",
              "      <th>0</th>\n",
              "    </tr>\n",
              "  </thead>\n",
              "  <tbody>\n",
              "    <tr>\n",
              "      <th>0</th>\n",
              "      <td>1</td>\n",
              "    </tr>\n",
              "    <tr>\n",
              "      <th>1</th>\n",
              "      <td>1</td>\n",
              "    </tr>\n",
              "    <tr>\n",
              "      <th>2</th>\n",
              "      <td>0</td>\n",
              "    </tr>\n",
              "    <tr>\n",
              "      <th>3</th>\n",
              "      <td>1</td>\n",
              "    </tr>\n",
              "    <tr>\n",
              "      <th>4</th>\n",
              "      <td>1</td>\n",
              "    </tr>\n",
              "    <tr>\n",
              "      <th>...</th>\n",
              "      <td>...</td>\n",
              "    </tr>\n",
              "    <tr>\n",
              "      <th>25187</th>\n",
              "      <td>0</td>\n",
              "    </tr>\n",
              "    <tr>\n",
              "      <th>25188</th>\n",
              "      <td>3</td>\n",
              "    </tr>\n",
              "    <tr>\n",
              "      <th>25189</th>\n",
              "      <td>0</td>\n",
              "    </tr>\n",
              "    <tr>\n",
              "      <th>25190</th>\n",
              "      <td>0</td>\n",
              "    </tr>\n",
              "    <tr>\n",
              "      <th>25191</th>\n",
              "      <td>0</td>\n",
              "    </tr>\n",
              "  </tbody>\n",
              "</table>\n",
              "<p>25192 rows × 1 columns</p>\n",
              "</div>"
            ],
            "text/plain": [
              "       0\n",
              "0      1\n",
              "1      1\n",
              "2      0\n",
              "3      1\n",
              "4      1\n",
              "...   ..\n",
              "25187  0\n",
              "25188  3\n",
              "25189  0\n",
              "25190  0\n",
              "25191  0\n",
              "\n",
              "[25192 rows x 1 columns]"
            ]
          },
          "metadata": {
            "tags": []
          },
          "execution_count": 14
        }
      ]
    },
    {
      "cell_type": "markdown",
      "metadata": {
        "colab_type": "text",
        "id": "kwAarQmCwKFr"
      },
      "source": [
        "# Feature Selection"
      ]
    },
    {
      "cell_type": "code",
      "metadata": {
        "id": "V1bKoi00ms4x",
        "colab_type": "code",
        "outputId": "7fa0c1ef-3793-46c8-e3ae-7a2331869b84",
        "colab": {
          "base_uri": "https://localhost:8080/",
          "height": 1000
        }
      },
      "source": [
        "corr_matrix = data.corr(method='pearson')\n",
        "print(corr_matrix)\n",
        "sns.heatmap(corr_matrix,cmap='viridis')"
      ],
      "execution_count": 0,
      "outputs": [
        {
          "output_type": "stream",
          "text": [
            "                             duration  src_bytes  dst_bytes      land  \\\n",
            "duration                     1.000000   0.084864   0.013258 -0.001012   \n",
            "src_bytes                    0.084864   1.000000   0.003611 -0.000090   \n",
            "dst_bytes                    0.013258   0.003611   1.000000 -0.000350   \n",
            "land                        -0.001012  -0.000090  -0.000350  1.000000   \n",
            "wrong_fragment              -0.010358  -0.000916  -0.003586 -0.000813   \n",
            "urgent                      -0.000486  -0.000062   0.000345 -0.000056   \n",
            "hot                          0.004202   0.000995   0.002539 -0.000819   \n",
            "num_failed_logins            0.011108  -0.000260   0.005197 -0.000234   \n",
            "logged_in                   -0.063703  -0.002040   0.012704 -0.007196   \n",
            "num_compromised              0.095215  -0.000196   0.035852 -0.000195   \n",
            "root_shell                   0.050547  -0.000383   0.020214 -0.000351   \n",
            "su_attempted                 0.094243  -0.000267   0.035041 -0.000247   \n",
            "num_root                     0.094066  -0.000209   0.035171 -0.000194   \n",
            "num_file_creations           0.088272  -0.000218   0.008456 -0.000248   \n",
            "num_shells                  -0.001585  -0.000158  -0.000146 -0.000168   \n",
            "num_access_files             0.070206  -0.000422   0.024142 -0.000391   \n",
            "is_host_login                     NaN        NaN        NaN       NaN   \n",
            "is_guest_login              -0.002050  -0.000932  -0.001161 -0.000855   \n",
            "count                       -0.081787  -0.007302  -0.027824 -0.006495   \n",
            "srv_count                   -0.040642  -0.003623  -0.012524 -0.003221   \n",
            "serror_rate                 -0.072458  -0.006312  -0.022390  0.014216   \n",
            "srv_serror_rate             -0.071832  -0.006225  -0.022443  0.014259   \n",
            "rerror_rate                  0.209441   0.016015  -0.013843 -0.003316   \n",
            "srv_rerror_rate              0.208354   0.015816  -0.013664 -0.003324   \n",
            "same_srv_rate                0.075723   0.007673   0.030018  0.006880   \n",
            "diff_srv_rate               -0.012009  -0.003098  -0.012300 -0.003112   \n",
            "srv_diff_host_rate          -0.041115  -0.003077  -0.007560  0.014033   \n",
            "dst_host_count               0.055174  -0.009764  -0.030930 -0.016340   \n",
            "dst_host_srv_count          -0.112530  -0.008520  -0.000980 -0.008743   \n",
            "dst_host_same_srv_rate      -0.119321  -0.006776   0.022392  0.009531   \n",
            "dst_host_diff_srv_rate       0.263489   0.001026  -0.012971 -0.003929   \n",
            "dst_host_same_src_port_rate  0.240970   0.002316   0.024078  0.024635   \n",
            "dst_host_srv_diff_host_rate -0.025485  -0.001238  -0.006006  0.053037   \n",
            "dst_host_serror_rate        -0.066513  -0.006346  -0.015584  0.014291   \n",
            "dst_host_srv_serror_rate    -0.066240  -0.006227  -0.014543  0.005596   \n",
            "dst_host_rerror_rate         0.187070  -0.002130  -0.014094 -0.003432   \n",
            "dst_host_srv_rerror_rate     0.208435   0.006190  -0.012803 -0.003335   \n",
            "\n",
            "                             wrong_fragment    urgent       hot  \\\n",
            "duration                          -0.010358 -0.000486  0.004202   \n",
            "src_bytes                         -0.000916 -0.000062  0.000995   \n",
            "dst_bytes                         -0.003586  0.000345  0.002539   \n",
            "land                              -0.000813 -0.000056 -0.000819   \n",
            "wrong_fragment                     1.000000 -0.000575 -0.008386   \n",
            "urgent                            -0.000575  1.000000  0.002346   \n",
            "hot                               -0.008386  0.002346  1.000000   \n",
            "num_failed_logins                 -0.002392 -0.000165  0.004893   \n",
            "logged_in                         -0.073674  0.007801  0.113115   \n",
            "num_compromised                   -0.001995  0.002886  0.002005   \n",
            "root_shell                        -0.003592  0.160007  0.021221   \n",
            "su_attempted                      -0.002524 -0.000174  0.000478   \n",
            "num_root                          -0.001982  0.007533  0.000703   \n",
            "num_file_creations                -0.002537  0.011722  0.067417   \n",
            "num_shells                        -0.001725 -0.000119  0.012888   \n",
            "num_access_files                  -0.004006 -0.000277  0.003070   \n",
            "is_host_login                           NaN       NaN       NaN   \n",
            "is_guest_login                    -0.008756 -0.000605  0.833556   \n",
            "count                             -0.023241 -0.004593 -0.066655   \n",
            "srv_count                          0.023377 -0.002321 -0.033420   \n",
            "serror_rate                       -0.045228 -0.004033 -0.057841   \n",
            "srv_serror_rate                   -0.057834 -0.003994 -0.057147   \n",
            "rerror_rate                       -0.033464 -0.002345 -0.031452   \n",
            "srv_rerror_rate                   -0.034035 -0.002351 -0.030326   \n",
            "same_srv_rate                      0.056683  0.004865  0.068594   \n",
            "diff_srv_rate                     -0.027428 -0.002201 -0.021225   \n",
            "srv_diff_host_rate                -0.028744 -0.002356 -0.023868   \n",
            "dst_host_count                     0.040020  0.004612 -0.009083   \n",
            "dst_host_srv_count                -0.047256 -0.006324 -0.048495   \n",
            "dst_host_same_srv_rate            -0.051845 -0.007014 -0.033442   \n",
            "dst_host_diff_srv_rate             0.053177 -0.002105 -0.007962   \n",
            "dst_host_same_src_port_rate        0.034670 -0.003013 -0.030640   \n",
            "dst_host_srv_diff_host_rate       -0.020174 -0.001815 -0.021170   \n",
            "dst_host_serror_rate              -0.053786 -0.004044 -0.055628   \n",
            "dst_host_srv_serror_rate          -0.057230 -0.003953 -0.056255   \n",
            "dst_host_rerror_rate               0.027718 -0.002427 -0.027628   \n",
            "dst_host_srv_rerror_rate          -0.034143 -0.002358 -0.029719   \n",
            "\n",
            "                             num_failed_logins  logged_in  num_compromised  \\\n",
            "duration                              0.011108  -0.063703         0.095215   \n",
            "src_bytes                            -0.000260  -0.002040        -0.000196   \n",
            "dst_bytes                             0.005197   0.012704         0.035852   \n",
            "land                                 -0.000234  -0.007196        -0.000195   \n",
            "wrong_fragment                       -0.002392  -0.073674        -0.001995   \n",
            "urgent                               -0.000165   0.007801         0.002886   \n",
            "hot                                   0.004893   0.113115         0.002005   \n",
            "num_failed_logins                     1.000000  -0.006872         0.015787   \n",
            "logged_in                            -0.006872   1.000000         0.027083   \n",
            "num_compromised                       0.015787   0.027083         1.000000   \n",
            "root_shell                           -0.001032   0.048756         0.479486   \n",
            "su_attempted                          0.088854   0.034255         0.776284   \n",
            "num_root                              0.012654   0.026899         0.998956   \n",
            "num_file_creations                    0.052082   0.034125         0.020380   \n",
            "num_shells                           -0.000496   0.023408         0.007249   \n",
            "num_access_files                     -0.001152   0.054378         0.680610   \n",
            "is_host_login                              NaN        NaN              NaN   \n",
            "is_guest_login                        0.034240   0.118000        -0.002100   \n",
            "count                                -0.019060  -0.539870        -0.015882   \n",
            "srv_count                            -0.009576  -0.198765        -0.008028   \n",
            "serror_rate                          -0.014831  -0.491999        -0.012905   \n",
            "srv_serror_rate                      -0.014670  -0.490154        -0.012847   \n",
            "rerror_rate                           0.025888  -0.284245        -0.002476   \n",
            "srv_rerror_rate                       0.025467  -0.279543        -0.002431   \n",
            "same_srv_rate                         0.020245   0.600093         0.016799   \n",
            "diff_srv_rate                        -0.009158  -0.220632        -0.007570   \n",
            "srv_diff_host_rate                   -0.009803   0.131740        -0.007839   \n",
            "dst_host_count                       -0.026460  -0.395905        -0.015637   \n",
            "dst_host_srv_count                   -0.022315   0.624839        -0.018220   \n",
            "dst_host_same_srv_rate               -0.003336   0.607379        -0.011794   \n",
            "dst_host_diff_srv_rate                0.000298  -0.255820         0.001757   \n",
            "dst_host_same_src_port_rate          -0.008910  -0.159278        -0.004146   \n",
            "dst_host_srv_diff_host_rate          -0.007551  -0.057390         0.013608   \n",
            "dst_host_serror_rate                 -0.009527  -0.490450        -0.007911   \n",
            "dst_host_srv_serror_rate             -0.010238  -0.492446        -0.007716   \n",
            "dst_host_rerror_rate                  0.016791  -0.274430        -0.007199   \n",
            "dst_host_srv_rerror_rate              0.018693  -0.270507        -0.004361   \n",
            "\n",
            "                             root_shell  su_attempted  num_root  \\\n",
            "duration                       0.050547      0.094243  0.094066   \n",
            "src_bytes                     -0.000383     -0.000267 -0.000209   \n",
            "dst_bytes                      0.020214      0.035041  0.035171   \n",
            "land                          -0.000351     -0.000247 -0.000194   \n",
            "wrong_fragment                -0.003592     -0.002524 -0.001982   \n",
            "urgent                         0.160007     -0.000174  0.007533   \n",
            "hot                            0.021221      0.000478  0.000703   \n",
            "num_failed_logins             -0.001032      0.088854  0.012654   \n",
            "logged_in                      0.048756      0.034255  0.026899   \n",
            "num_compromised                0.479486      0.776284  0.998956   \n",
            "root_shell                     1.000000      0.578410  0.480241   \n",
            "su_attempted                   0.578410      1.000000  0.774132   \n",
            "num_root                       0.480241      0.774132  1.000000   \n",
            "num_file_creations             0.048473      0.060689  0.017260   \n",
            "num_shells                     0.052683     -0.000523  0.009452   \n",
            "num_access_files               0.387695      0.568654  0.684160   \n",
            "is_host_login                       NaN           NaN       NaN   \n",
            "is_guest_login                -0.003780     -0.002656 -0.002085   \n",
            "count                         -0.027595     -0.020153 -0.015831   \n",
            "srv_count                     -0.012752     -0.010193 -0.007995   \n",
            "serror_rate                   -0.019564     -0.006795 -0.012868   \n",
            "srv_serror_rate               -0.018197     -0.004814 -0.012716   \n",
            "rerror_rate                   -0.003569     -0.002638 -0.002557   \n",
            "srv_rerror_rate               -0.003728     -0.005273 -0.002665   \n",
            "same_srv_rate                  0.028681      0.019510  0.016645   \n",
            "diff_srv_rate                 -0.005271     -0.000548 -0.007033   \n",
            "srv_diff_host_rate            -0.010590     -0.010344 -0.007858   \n",
            "dst_host_count                -0.036093     -0.024109 -0.016143   \n",
            "dst_host_srv_count            -0.009978     -0.025056 -0.018332   \n",
            "dst_host_same_srv_rate         0.011376     -0.014650 -0.012409   \n",
            "dst_host_diff_srv_rate        -0.006575      0.002928  0.002327   \n",
            "dst_host_same_src_port_rate    0.010541     -0.002252 -0.002507   \n",
            "dst_host_srv_diff_host_rate    0.018975      0.015875  0.013526   \n",
            "dst_host_serror_rate          -0.022098     -0.010940 -0.008318   \n",
            "dst_host_srv_serror_rate      -0.020584     -0.008692 -0.007920   \n",
            "dst_host_rerror_rate          -0.011765     -0.005068 -0.007042   \n",
            "dst_host_srv_rerror_rate      -0.010952     -0.003124 -0.004610   \n",
            "\n",
            "                             num_file_creations  num_shells  num_access_files  \\\n",
            "duration                               0.088272   -0.001585          0.070206   \n",
            "src_bytes                             -0.000218   -0.000158         -0.000422   \n",
            "dst_bytes                              0.008456   -0.000146          0.024142   \n",
            "land                                  -0.000248   -0.000168         -0.000391   \n",
            "wrong_fragment                        -0.002537   -0.001725         -0.004006   \n",
            "urgent                                 0.011722   -0.000119         -0.000277   \n",
            "hot                                    0.067417    0.012888          0.003070   \n",
            "num_failed_logins                      0.052082   -0.000496         -0.001152   \n",
            "logged_in                              0.034125    0.023408          0.054378   \n",
            "num_compromised                        0.020380    0.007249          0.680610   \n",
            "root_shell                             0.048473    0.052683          0.387695   \n",
            "su_attempted                           0.060689   -0.000523          0.568654   \n",
            "num_root                               0.017260    0.009452          0.684160   \n",
            "num_file_creations                     1.000000    0.015339          0.048230   \n",
            "num_shells                             0.015339    1.000000          0.041810   \n",
            "num_access_files                       0.048230    0.041810          1.000000   \n",
            "is_host_login                               NaN         NaN               NaN   \n",
            "is_guest_login                         0.017032   -0.001815          0.000021   \n",
            "count                                 -0.020204   -0.012425         -0.031178   \n",
            "srv_count                             -0.010184   -0.004762         -0.015007   \n",
            "serror_rate                           -0.011149   -0.012102         -0.026149   \n",
            "srv_serror_rate                       -0.010730   -0.011985         -0.026717   \n",
            "rerror_rate                           -0.006117   -0.007036         -0.011706   \n",
            "srv_rerror_rate                       -0.006654   -0.007053         -0.006373   \n",
            "same_srv_rate                          0.020259    0.014596          0.031791   \n",
            "diff_srv_rate                         -0.006799   -0.006603         -0.009156   \n",
            "srv_diff_host_rate                    -0.008060   -0.004285          0.013180   \n",
            "dst_host_count                         0.002264   -0.008526         -0.012259   \n",
            "dst_host_srv_count                    -0.022402   -0.011990          0.002793   \n",
            "dst_host_same_srv_rate                -0.022507    0.000898          0.009695   \n",
            "dst_host_diff_srv_rate                 0.006386   -0.004633         -0.004900   \n",
            "dst_host_same_src_port_rate           -0.009671    0.023861         -0.011527   \n",
            "dst_host_srv_diff_host_rate            0.002682   -0.004875          0.000579   \n",
            "dst_host_serror_rate                   0.001272   -0.010812         -0.020043   \n",
            "dst_host_srv_serror_rate              -0.006771   -0.010306         -0.021220   \n",
            "dst_host_rerror_rate                  -0.004493   -0.006869         -0.014569   \n",
            "dst_host_srv_rerror_rate              -0.002722   -0.007076         -0.012844   \n",
            "\n",
            "                             is_host_login  is_guest_login     count  \\\n",
            "duration                               NaN       -0.002050 -0.081787   \n",
            "src_bytes                              NaN       -0.000932 -0.007302   \n",
            "dst_bytes                              NaN       -0.001161 -0.027824   \n",
            "land                                   NaN       -0.000855 -0.006495   \n",
            "wrong_fragment                         NaN       -0.008756 -0.023241   \n",
            "urgent                                 NaN       -0.000605 -0.004593   \n",
            "hot                                    NaN        0.833556 -0.066655   \n",
            "num_failed_logins                      NaN        0.034240 -0.019060   \n",
            "logged_in                              NaN        0.118000 -0.539870   \n",
            "num_compromised                        NaN       -0.002100 -0.015882   \n",
            "root_shell                             NaN       -0.003780 -0.027595   \n",
            "su_attempted                           NaN       -0.002656 -0.020153   \n",
            "num_root                               NaN       -0.002085 -0.015831   \n",
            "num_file_creations                     NaN        0.017032 -0.020204   \n",
            "num_shells                             NaN       -0.001815 -0.012425   \n",
            "num_access_files                       NaN        0.000021 -0.031178   \n",
            "is_host_login                          NaN             NaN       NaN   \n",
            "is_guest_login                         NaN        1.000000 -0.069922   \n",
            "count                                  NaN       -0.069922  1.000000   \n",
            "srv_count                              NaN       -0.035319  0.469728   \n",
            "serror_rate                            NaN       -0.061447  0.462505   \n",
            "srv_serror_rate                        NaN       -0.060855  0.455964   \n",
            "rerror_rate                            NaN       -0.034639  0.159295   \n",
            "srv_rerror_rate                        NaN       -0.033224  0.160807   \n",
            "same_srv_rate                          NaN        0.069520 -0.631890   \n",
            "diff_srv_rate                          NaN       -0.014033  0.218920   \n",
            "srv_diff_host_rate                     NaN       -0.027756 -0.263691   \n",
            "dst_host_count                         NaN       -0.007751  0.466144   \n",
            "dst_host_srv_count                     NaN       -0.062277 -0.399974   \n",
            "dst_host_same_srv_rate                 NaN       -0.053196 -0.477335   \n",
            "dst_host_diff_srv_rate                 NaN       -0.004668  0.162274   \n",
            "dst_host_same_src_port_rate            NaN       -0.034965 -0.144247   \n",
            "dst_host_srv_diff_host_rate            NaN       -0.022285 -0.205608   \n",
            "dst_host_serror_rate                   NaN       -0.059845  0.464305   \n",
            "dst_host_srv_serror_rate               NaN       -0.059968  0.464837   \n",
            "dst_host_rerror_rate                   NaN       -0.029178  0.176579   \n",
            "dst_host_srv_rerror_rate               NaN       -0.030956  0.166997   \n",
            "\n",
            "                             srv_count  serror_rate  srv_serror_rate  \\\n",
            "duration                     -0.040642    -0.072458        -0.071832   \n",
            "src_bytes                    -0.003623    -0.006312        -0.006225   \n",
            "dst_bytes                    -0.012524    -0.022390        -0.022443   \n",
            "land                         -0.003221     0.014216         0.014259   \n",
            "wrong_fragment                0.023377    -0.045228        -0.057834   \n",
            "urgent                       -0.002321    -0.004033        -0.003994   \n",
            "hot                          -0.033420    -0.057841        -0.057147   \n",
            "num_failed_logins            -0.009576    -0.014831        -0.014670   \n",
            "logged_in                    -0.198765    -0.491999        -0.490154   \n",
            "num_compromised              -0.008028    -0.012905        -0.012847   \n",
            "root_shell                   -0.012752    -0.019564        -0.018197   \n",
            "su_attempted                 -0.010193    -0.006795        -0.004814   \n",
            "num_root                     -0.007995    -0.012868        -0.012716   \n",
            "num_file_creations           -0.010184    -0.011149        -0.010730   \n",
            "num_shells                   -0.004762    -0.012102        -0.011985   \n",
            "num_access_files             -0.015007    -0.026149        -0.026717   \n",
            "is_host_login                      NaN          NaN              NaN   \n",
            "is_guest_login               -0.035319    -0.061447        -0.060855   \n",
            "count                         0.469728     0.462505         0.455964   \n",
            "srv_count                     1.000000    -0.148388        -0.147190   \n",
            "serror_rate                  -0.148388     1.000000         0.993290   \n",
            "srv_serror_rate              -0.147190     0.993290         1.000000   \n",
            "rerror_rate                  -0.112631    -0.227522        -0.229120   \n",
            "srv_rerror_rate              -0.113174    -0.227618        -0.234571   \n",
            "same_srv_rate                 0.190199    -0.764557        -0.759104   \n",
            "diff_srv_rate                -0.108290     0.052455         0.043437   \n",
            "srv_diff_host_rate           -0.076921    -0.224884        -0.226674   \n",
            "dst_host_count                0.146949     0.394674         0.392535   \n",
            "dst_host_srv_count            0.196931    -0.558263        -0.555381   \n",
            "dst_host_same_srv_rate        0.177955    -0.624519        -0.620635   \n",
            "dst_host_diff_srv_rate       -0.106196    -0.019128        -0.032198   \n",
            "dst_host_same_src_port_rate   0.151041    -0.277873        -0.277204   \n",
            "dst_host_srv_diff_host_rate  -0.058855    -0.172512        -0.170884   \n",
            "dst_host_serror_rate         -0.145494     0.978022         0.976363   \n",
            "dst_host_srv_serror_rate     -0.145077     0.979602         0.984621   \n",
            "dst_host_rerror_rate         -0.099661    -0.230977        -0.235095   \n",
            "dst_host_srv_rerror_rate     -0.111955    -0.226133        -0.232318   \n",
            "\n",
            "                             rerror_rate  srv_rerror_rate  same_srv_rate  \\\n",
            "duration                        0.209441         0.208354       0.075723   \n",
            "src_bytes                       0.016015         0.015816       0.007673   \n",
            "dst_bytes                      -0.013843        -0.013664       0.030018   \n",
            "land                           -0.003316        -0.003324       0.006880   \n",
            "wrong_fragment                 -0.033464        -0.034035       0.056683   \n",
            "urgent                         -0.002345        -0.002351       0.004865   \n",
            "hot                            -0.031452        -0.030326       0.068594   \n",
            "num_failed_logins               0.025888         0.025467       0.020245   \n",
            "logged_in                      -0.284245        -0.279543       0.600093   \n",
            "num_compromised                -0.002476        -0.002431       0.016799   \n",
            "root_shell                     -0.003569        -0.003728       0.028681   \n",
            "su_attempted                   -0.002638        -0.005273       0.019510   \n",
            "num_root                       -0.002557        -0.002665       0.016645   \n",
            "num_file_creations             -0.006117        -0.006654       0.020259   \n",
            "num_shells                     -0.007036        -0.007053       0.014596   \n",
            "num_access_files               -0.011706        -0.006373       0.031791   \n",
            "is_host_login                        NaN              NaN            NaN   \n",
            "is_guest_login                 -0.034639        -0.033224       0.069520   \n",
            "count                           0.159295         0.160807      -0.631890   \n",
            "srv_count                      -0.112631        -0.113174       0.190199   \n",
            "serror_rate                    -0.227522        -0.227618      -0.764557   \n",
            "srv_serror_rate                -0.229120        -0.234571      -0.759104   \n",
            "rerror_rate                     1.000000         0.989134      -0.207791   \n",
            "srv_rerror_rate                 0.989134         1.000000      -0.207949   \n",
            "same_srv_rate                  -0.207791        -0.207949       1.000000   \n",
            "diff_srv_rate                   0.258269         0.266802      -0.372896   \n",
            "srv_diff_host_rate             -0.078896        -0.074138       0.277797   \n",
            "dst_host_count                  0.071321         0.074382      -0.508209   \n",
            "dst_host_srv_count             -0.251030        -0.249378       0.702810   \n",
            "dst_host_same_srv_rate         -0.259312        -0.257157       0.787433   \n",
            "dst_host_diff_srv_rate          0.379101         0.383078      -0.163693   \n",
            "dst_host_same_src_port_rate     0.037900         0.034445       0.279723   \n",
            "dst_host_srv_diff_host_rate     0.029341         0.026160       0.215362   \n",
            "dst_host_serror_rate           -0.226725        -0.227345      -0.763522   \n",
            "dst_host_srv_serror_rate       -0.226553        -0.231331      -0.767487   \n",
            "dst_host_rerror_rate            0.928992         0.919537      -0.211556   \n",
            "dst_host_srv_rerror_rate        0.964886         0.969841      -0.213591   \n",
            "\n",
            "                             diff_srv_rate  srv_diff_host_rate  \\\n",
            "duration                         -0.012009           -0.041115   \n",
            "src_bytes                        -0.003098           -0.003077   \n",
            "dst_bytes                        -0.012300           -0.007560   \n",
            "land                             -0.003112            0.014033   \n",
            "wrong_fragment                   -0.027428           -0.028744   \n",
            "urgent                           -0.002201           -0.002356   \n",
            "hot                              -0.021225           -0.023868   \n",
            "num_failed_logins                -0.009158           -0.009803   \n",
            "logged_in                        -0.220632            0.131740   \n",
            "num_compromised                  -0.007570           -0.007839   \n",
            "root_shell                       -0.005271           -0.010590   \n",
            "su_attempted                     -0.000548           -0.010344   \n",
            "num_root                         -0.007033           -0.007858   \n",
            "num_file_creations               -0.006799           -0.008060   \n",
            "num_shells                       -0.006603           -0.004285   \n",
            "num_access_files                 -0.009156            0.013180   \n",
            "is_host_login                          NaN                 NaN   \n",
            "is_guest_login                   -0.014033           -0.027756   \n",
            "count                             0.218920           -0.263691   \n",
            "srv_count                        -0.108290           -0.076921   \n",
            "serror_rate                       0.052455           -0.224884   \n",
            "srv_serror_rate                   0.043437           -0.226674   \n",
            "rerror_rate                       0.258269           -0.078896   \n",
            "srv_rerror_rate                   0.266802           -0.074138   \n",
            "same_srv_rate                    -0.372896            0.277797   \n",
            "diff_srv_rate                     1.000000           -0.105626   \n",
            "srv_diff_host_rate               -0.105626            1.000000   \n",
            "dst_host_count                    0.189046           -0.352286   \n",
            "dst_host_srv_count               -0.295846            0.162177   \n",
            "dst_host_same_srv_rate           -0.325349            0.293510   \n",
            "dst_host_diff_srv_rate            0.493426           -0.119897   \n",
            "dst_host_same_src_port_rate      -0.006978            0.244097   \n",
            "dst_host_srv_diff_host_rate      -0.086257            0.379232   \n",
            "dst_host_serror_rate              0.049793           -0.227813   \n",
            "dst_host_srv_serror_rate          0.045075           -0.228981   \n",
            "dst_host_rerror_rate              0.218824           -0.077448   \n",
            "dst_host_srv_rerror_rate          0.270256           -0.083221   \n",
            "\n",
            "                             dst_host_count  dst_host_srv_count  \\\n",
            "duration                           0.055174           -0.112530   \n",
            "src_bytes                         -0.009764           -0.008520   \n",
            "dst_bytes                         -0.030930           -0.000980   \n",
            "land                              -0.016340           -0.008743   \n",
            "wrong_fragment                     0.040020           -0.047256   \n",
            "urgent                             0.004612           -0.006324   \n",
            "hot                               -0.009083           -0.048495   \n",
            "num_failed_logins                 -0.026460           -0.022315   \n",
            "logged_in                         -0.395905            0.624839   \n",
            "num_compromised                   -0.015637           -0.018220   \n",
            "root_shell                        -0.036093           -0.009978   \n",
            "su_attempted                      -0.024109           -0.025056   \n",
            "num_root                          -0.016143           -0.018332   \n",
            "num_file_creations                 0.002264           -0.022402   \n",
            "num_shells                        -0.008526           -0.011990   \n",
            "num_access_files                  -0.012259            0.002793   \n",
            "is_host_login                           NaN                 NaN   \n",
            "is_guest_login                    -0.007751           -0.062277   \n",
            "count                              0.466144           -0.399974   \n",
            "srv_count                          0.146949            0.196931   \n",
            "serror_rate                        0.394674           -0.558263   \n",
            "srv_serror_rate                    0.392535           -0.555381   \n",
            "rerror_rate                        0.071321           -0.251030   \n",
            "srv_rerror_rate                    0.074382           -0.249378   \n",
            "same_srv_rate                     -0.508209            0.702810   \n",
            "diff_srv_rate                      0.189046           -0.295846   \n",
            "srv_diff_host_rate                -0.352286            0.162177   \n",
            "dst_host_count                     1.000000           -0.299240   \n",
            "dst_host_srv_count                -0.299240            1.000000   \n",
            "dst_host_same_srv_rate            -0.518816            0.895512   \n",
            "dst_host_diff_srv_rate             0.143403           -0.389749   \n",
            "dst_host_same_src_port_rate       -0.316226           -0.072576   \n",
            "dst_host_srv_diff_host_rate       -0.454017            0.003635   \n",
            "dst_host_serror_rate               0.409966           -0.572560   \n",
            "dst_host_srv_serror_rate           0.407254           -0.567893   \n",
            "dst_host_rerror_rate               0.074403           -0.249867   \n",
            "dst_host_srv_rerror_rate           0.072557           -0.254902   \n",
            "\n",
            "                             dst_host_same_srv_rate  dst_host_diff_srv_rate  \\\n",
            "duration                                  -0.119321                0.263489   \n",
            "src_bytes                                 -0.006776                0.001026   \n",
            "dst_bytes                                  0.022392               -0.012971   \n",
            "land                                       0.009531               -0.003929   \n",
            "wrong_fragment                            -0.051845                0.053177   \n",
            "urgent                                    -0.007014               -0.002105   \n",
            "hot                                       -0.033442               -0.007962   \n",
            "num_failed_logins                         -0.003336                0.000298   \n",
            "logged_in                                  0.607379               -0.255820   \n",
            "num_compromised                           -0.011794                0.001757   \n",
            "root_shell                                 0.011376               -0.006575   \n",
            "su_attempted                              -0.014650                0.002928   \n",
            "num_root                                  -0.012409                0.002327   \n",
            "num_file_creations                        -0.022507                0.006386   \n",
            "num_shells                                 0.000898               -0.004633   \n",
            "num_access_files                           0.009695               -0.004900   \n",
            "is_host_login                                   NaN                     NaN   \n",
            "is_guest_login                            -0.053196               -0.004668   \n",
            "count                                     -0.477335                0.162274   \n",
            "srv_count                                  0.177955               -0.106196   \n",
            "serror_rate                               -0.624519               -0.019128   \n",
            "srv_serror_rate                           -0.620635               -0.032198   \n",
            "rerror_rate                               -0.259312                0.379101   \n",
            "srv_rerror_rate                           -0.257157                0.383078   \n",
            "same_srv_rate                              0.787433               -0.163693   \n",
            "diff_srv_rate                             -0.325349                0.493426   \n",
            "srv_diff_host_rate                         0.293510               -0.119897   \n",
            "dst_host_count                            -0.518816                0.143403   \n",
            "dst_host_srv_count                         0.895512               -0.389749   \n",
            "dst_host_same_srv_rate                     1.000000               -0.417101   \n",
            "dst_host_diff_srv_rate                    -0.417101                1.000000   \n",
            "dst_host_same_src_port_rate                0.133540                0.239384   \n",
            "dst_host_srv_diff_host_rate                0.199967                0.012840   \n",
            "dst_host_serror_rate                      -0.640531               -0.021179   \n",
            "dst_host_srv_serror_rate                  -0.633419               -0.030305   \n",
            "dst_host_rerror_rate                      -0.259665                0.411739   \n",
            "dst_host_srv_rerror_rate                  -0.262958                0.390170   \n",
            "\n",
            "                             dst_host_same_src_port_rate  \\\n",
            "duration                                        0.240970   \n",
            "src_bytes                                       0.002316   \n",
            "dst_bytes                                       0.024078   \n",
            "land                                            0.024635   \n",
            "wrong_fragment                                  0.034670   \n",
            "urgent                                         -0.003013   \n",
            "hot                                            -0.030640   \n",
            "num_failed_logins                              -0.008910   \n",
            "logged_in                                      -0.159278   \n",
            "num_compromised                                -0.004146   \n",
            "root_shell                                      0.010541   \n",
            "su_attempted                                   -0.002252   \n",
            "num_root                                       -0.002507   \n",
            "num_file_creations                             -0.009671   \n",
            "num_shells                                      0.023861   \n",
            "num_access_files                               -0.011527   \n",
            "is_host_login                                        NaN   \n",
            "is_guest_login                                 -0.034965   \n",
            "count                                          -0.144247   \n",
            "srv_count                                       0.151041   \n",
            "serror_rate                                    -0.277873   \n",
            "srv_serror_rate                                -0.277204   \n",
            "rerror_rate                                     0.037900   \n",
            "srv_rerror_rate                                 0.034445   \n",
            "same_srv_rate                                   0.279723   \n",
            "diff_srv_rate                                  -0.006978   \n",
            "srv_diff_host_rate                              0.244097   \n",
            "dst_host_count                                 -0.316226   \n",
            "dst_host_srv_count                             -0.072576   \n",
            "dst_host_same_srv_rate                          0.133540   \n",
            "dst_host_diff_srv_rate                          0.239384   \n",
            "dst_host_same_src_port_rate                     1.000000   \n",
            "dst_host_srv_diff_host_rate                     0.405881   \n",
            "dst_host_serror_rate                           -0.281504   \n",
            "dst_host_srv_serror_rate                       -0.278720   \n",
            "dst_host_rerror_rate                            0.043397   \n",
            "dst_host_srv_rerror_rate                        0.033143   \n",
            "\n",
            "                             dst_host_srv_diff_host_rate  \\\n",
            "duration                                       -0.025485   \n",
            "src_bytes                                      -0.001238   \n",
            "dst_bytes                                      -0.006006   \n",
            "land                                            0.053037   \n",
            "wrong_fragment                                 -0.020174   \n",
            "urgent                                         -0.001815   \n",
            "hot                                            -0.021170   \n",
            "num_failed_logins                              -0.007551   \n",
            "logged_in                                      -0.057390   \n",
            "num_compromised                                 0.013608   \n",
            "root_shell                                      0.018975   \n",
            "su_attempted                                    0.015875   \n",
            "num_root                                        0.013526   \n",
            "num_file_creations                              0.002682   \n",
            "num_shells                                     -0.004875   \n",
            "num_access_files                                0.000579   \n",
            "is_host_login                                        NaN   \n",
            "is_guest_login                                 -0.022285   \n",
            "count                                          -0.205608   \n",
            "srv_count                                      -0.058855   \n",
            "serror_rate                                    -0.172512   \n",
            "srv_serror_rate                                -0.170884   \n",
            "rerror_rate                                     0.029341   \n",
            "srv_rerror_rate                                 0.026160   \n",
            "same_srv_rate                                   0.215362   \n",
            "diff_srv_rate                                  -0.086257   \n",
            "srv_diff_host_rate                              0.379232   \n",
            "dst_host_count                                 -0.454017   \n",
            "dst_host_srv_count                              0.003635   \n",
            "dst_host_same_srv_rate                          0.199967   \n",
            "dst_host_diff_srv_rate                          0.012840   \n",
            "dst_host_same_src_port_rate                     0.405881   \n",
            "dst_host_srv_diff_host_rate                     1.000000   \n",
            "dst_host_serror_rate                           -0.174847   \n",
            "dst_host_srv_serror_rate                       -0.172604   \n",
            "dst_host_rerror_rate                            0.036422   \n",
            "dst_host_srv_rerror_rate                        0.035728   \n",
            "\n",
            "                             dst_host_serror_rate  dst_host_srv_serror_rate  \\\n",
            "duration                                -0.066513                 -0.066240   \n",
            "src_bytes                               -0.006346                 -0.006227   \n",
            "dst_bytes                               -0.015584                 -0.014543   \n",
            "land                                     0.014291                  0.005596   \n",
            "wrong_fragment                          -0.053786                 -0.057230   \n",
            "urgent                                  -0.004044                 -0.003953   \n",
            "hot                                     -0.055628                 -0.056255   \n",
            "num_failed_logins                       -0.009527                 -0.010238   \n",
            "logged_in                               -0.490450                 -0.492446   \n",
            "num_compromised                         -0.007911                 -0.007716   \n",
            "root_shell                              -0.022098                 -0.020584   \n",
            "su_attempted                            -0.010940                 -0.008692   \n",
            "num_root                                -0.008318                 -0.007920   \n",
            "num_file_creations                       0.001272                 -0.006771   \n",
            "num_shells                              -0.010812                 -0.010306   \n",
            "num_access_files                        -0.020043                 -0.021220   \n",
            "is_host_login                                 NaN                       NaN   \n",
            "is_guest_login                          -0.059845                 -0.059968   \n",
            "count                                    0.464305                  0.464837   \n",
            "srv_count                               -0.145494                 -0.145077   \n",
            "serror_rate                              0.978022                  0.979602   \n",
            "srv_serror_rate                          0.976363                  0.984621   \n",
            "rerror_rate                             -0.226725                 -0.226553   \n",
            "srv_rerror_rate                         -0.227345                 -0.231331   \n",
            "same_srv_rate                           -0.763522                 -0.767487   \n",
            "diff_srv_rate                            0.049793                  0.045075   \n",
            "srv_diff_host_rate                      -0.227813                 -0.228981   \n",
            "dst_host_count                           0.409966                  0.407254   \n",
            "dst_host_srv_count                      -0.572560                 -0.567893   \n",
            "dst_host_same_srv_rate                  -0.640531                 -0.633419   \n",
            "dst_host_diff_srv_rate                  -0.021179                 -0.030305   \n",
            "dst_host_same_src_port_rate             -0.281504                 -0.278720   \n",
            "dst_host_srv_diff_host_rate             -0.174847                 -0.172604   \n",
            "dst_host_serror_rate                     1.000000                  0.984706   \n",
            "dst_host_srv_serror_rate                 0.984706                  1.000000   \n",
            "dst_host_rerror_rate                    -0.235487                 -0.234695   \n",
            "dst_host_srv_rerror_rate                -0.227803                 -0.232478   \n",
            "\n",
            "                             dst_host_rerror_rate  dst_host_srv_rerror_rate  \n",
            "duration                                 0.187070                  0.208435  \n",
            "src_bytes                               -0.002130                  0.006190  \n",
            "dst_bytes                               -0.014094                 -0.012803  \n",
            "land                                    -0.003432                 -0.003335  \n",
            "wrong_fragment                           0.027718                 -0.034143  \n",
            "urgent                                  -0.002427                 -0.002358  \n",
            "hot                                     -0.027628                 -0.029719  \n",
            "num_failed_logins                        0.016791                  0.018693  \n",
            "logged_in                               -0.274430                 -0.270507  \n",
            "num_compromised                         -0.007199                 -0.004361  \n",
            "root_shell                              -0.011765                 -0.010952  \n",
            "su_attempted                            -0.005068                 -0.003124  \n",
            "num_root                                -0.007042                 -0.004610  \n",
            "num_file_creations                      -0.004493                 -0.002722  \n",
            "num_shells                              -0.006869                 -0.007076  \n",
            "num_access_files                        -0.014569                 -0.012844  \n",
            "is_host_login                                 NaN                       NaN  \n",
            "is_guest_login                          -0.029178                 -0.030956  \n",
            "count                                    0.176579                  0.166997  \n",
            "srv_count                               -0.099661                 -0.111955  \n",
            "serror_rate                             -0.230977                 -0.226133  \n",
            "srv_serror_rate                         -0.235095                 -0.232318  \n",
            "rerror_rate                              0.928992                  0.964886  \n",
            "srv_rerror_rate                          0.919537                  0.969841  \n",
            "same_srv_rate                           -0.211556                 -0.213591  \n",
            "diff_srv_rate                            0.218824                  0.270256  \n",
            "srv_diff_host_rate                      -0.077448                 -0.083221  \n",
            "dst_host_count                           0.074403                  0.072557  \n",
            "dst_host_srv_count                      -0.249867                 -0.254902  \n",
            "dst_host_same_srv_rate                  -0.259665                 -0.262958  \n",
            "dst_host_diff_srv_rate                   0.411739                  0.390170  \n",
            "dst_host_same_src_port_rate              0.043397                  0.033143  \n",
            "dst_host_srv_diff_host_rate              0.036422                  0.035728  \n",
            "dst_host_serror_rate                    -0.235487                 -0.227803  \n",
            "dst_host_srv_serror_rate                -0.234695                 -0.232478  \n",
            "dst_host_rerror_rate                     1.000000                  0.925390  \n",
            "dst_host_srv_rerror_rate                 0.925390                  1.000000  \n"
          ],
          "name": "stdout"
        },
        {
          "output_type": "execute_result",
          "data": {
            "text/plain": [
              "<matplotlib.axes._subplots.AxesSubplot at 0x7f09fcc8b588>"
            ]
          },
          "metadata": {
            "tags": []
          },
          "execution_count": 15
        },
        {
          "output_type": "display_data",
          "data": {
            "image/png": "[encoded data removed]",
            "text/plain": [
              "<Figure size 432x288 with 2 Axes>"
            ]
          },
          "metadata": {
            "tags": []
          }
        }
      ]
    },
    {
      "cell_type": "code",
      "metadata": {
        "colab_type": "code",
        "id": "uxIjCzFpwDE_",
        "outputId": "a64cddbd-2a48-46aa-a3c8-c6bc77a0e057",
        "colab": {
          "base_uri": "https://localhost:8080/",
          "height": 576
        }
      },
      "source": [
        "from sklearn.ensemble import RandomForestClassifier\n",
        "rfc = RandomForestClassifier()\n",
        "rfc.fit(data_x,data_y)\n",
        "\n",
        "# extract important features\n",
        "score = np.round(rfc.feature_importances_,3)\n",
        "importances = pd.DataFrame({'feature':data_x.columns, 'importance':score})\n",
        "importances = importances.sort_values('importance',ascending=False).set_index('feature')\n",
        "# plot importances\n",
        "plt.rcParams['figure.figsize'] = (15,6)\n",
        "importances.plot.bar()"
      ],
      "execution_count": 0,
      "outputs": [
        {
          "output_type": "execute_result",
          "data": {
            "text/plain": [
              "<matplotlib.axes._subplots.AxesSubplot at 0x7f09f74827b8>"
            ]
          },
          "metadata": {
            "tags": []
          },
          "execution_count": 16
        },
        {
          "output_type": "display_data",
          "data": {
            "image/png": "[encoded data removed]",
            "text/plain": [
              "<Figure size 1080x432 with 1 Axes>"
            ]
          },
          "metadata": {
            "tags": []
          }
        }
      ]
    },
    {
      "cell_type": "code",
      "metadata": {
        "colab_type": "code",
        "id": "_-dGKbMhxNrL",
        "outputId": "4f3d8afd-0644-483b-d685-960b84de01d5",
        "colab": {
          "base_uri": "https://localhost:8080/",
          "height": 269
        }
      },
      "source": [
        "from sklearn.feature_selection import RFE\n",
        "import itertools\n",
        "rfc = RandomForestClassifier()\n",
        "\n",
        "# create RFE model and select 15 attributes\n",
        "rfe = RFE(rfc, n_features_to_select = 15)\n",
        "rfe = rfe.fit(data_x, data_y)\n",
        "\n",
        "# summarize the selection of the attributes\n",
        "feature_map = [(i, v) for i, v in itertools.zip_longest(rfe.get_support(), data_x.columns)]\n",
        "selected_features = [v for i, v in feature_map if i == True]\n",
        "\n",
        "selected_features"
      ],
      "execution_count": 0,
      "outputs": [
        {
          "output_type": "execute_result",
          "data": {
            "text/plain": [
              "['protocol_type',\n",
              " 'flag',\n",
              " 'src_bytes',\n",
              " 'dst_bytes',\n",
              " 'count',\n",
              " 'srv_count',\n",
              " 'serror_rate',\n",
              " 'same_srv_rate',\n",
              " 'diff_srv_rate',\n",
              " 'dst_host_srv_count',\n",
              " 'dst_host_same_srv_rate',\n",
              " 'dst_host_diff_srv_rate',\n",
              " 'dst_host_same_src_port_rate',\n",
              " 'dst_host_srv_diff_host_rate',\n",
              " 'dst_host_serror_rate']"
            ]
          },
          "metadata": {
            "tags": []
          },
          "execution_count": 17
        }
      ]
    },
    {
      "cell_type": "code",
      "metadata": {
        "id": "uID9ZgH8lk66",
        "colab_type": "code",
        "outputId": "f8182a1b-701b-4a91-d75f-8b0e5e0b68b5",
        "colab": {
          "base_uri": "https://localhost:8080/",
          "height": 215
        }
      },
      "source": [
        "data_x = data_x[selected_features]\n",
        "X = data_x[selected_features]\n",
        "X.head()"
      ],
      "execution_count": 0,
      "outputs": [
        {
          "output_type": "execute_result",
          "data": {
            "text/html": [
              "<div>\n",
              "<style scoped>\n",
              "    .dataframe tbody tr th:only-of-type {\n",
              "        vertical-align: middle;\n",
              "    }\n",
              "\n",
              "    .dataframe tbody tr th {\n",
              "        vertical-align: top;\n",
              "    }\n",
              "\n",
              "    .dataframe thead th {\n",
              "        text-align: right;\n",
              "    }\n",
              "</style>\n",
              "<table border=\"1\" class=\"dataframe\">\n",
              "  <thead>\n",
              "    <tr style=\"text-align: right;\">\n",
              "      <th></th>\n",
              "      <th>protocol_type</th>\n",
              "      <th>flag</th>\n",
              "      <th>src_bytes</th>\n",
              "      <th>dst_bytes</th>\n",
              "      <th>count</th>\n",
              "      <th>srv_count</th>\n",
              "      <th>serror_rate</th>\n",
              "      <th>same_srv_rate</th>\n",
              "      <th>diff_srv_rate</th>\n",
              "      <th>dst_host_srv_count</th>\n",
              "      <th>dst_host_same_srv_rate</th>\n",
              "      <th>dst_host_diff_srv_rate</th>\n",
              "      <th>dst_host_same_src_port_rate</th>\n",
              "      <th>dst_host_srv_diff_host_rate</th>\n",
              "      <th>dst_host_serror_rate</th>\n",
              "    </tr>\n",
              "  </thead>\n",
              "  <tbody>\n",
              "    <tr>\n",
              "      <th>0</th>\n",
              "      <td>1</td>\n",
              "      <td>9</td>\n",
              "      <td>491</td>\n",
              "      <td>0</td>\n",
              "      <td>2</td>\n",
              "      <td>2</td>\n",
              "      <td>0</td>\n",
              "      <td>1</td>\n",
              "      <td>0</td>\n",
              "      <td>25</td>\n",
              "      <td>0.17</td>\n",
              "      <td>0.03</td>\n",
              "      <td>0.17</td>\n",
              "      <td>0</td>\n",
              "      <td>0</td>\n",
              "    </tr>\n",
              "    <tr>\n",
              "      <th>1</th>\n",
              "      <td>2</td>\n",
              "      <td>9</td>\n",
              "      <td>146</td>\n",
              "      <td>0</td>\n",
              "      <td>13</td>\n",
              "      <td>1</td>\n",
              "      <td>0</td>\n",
              "      <td>0.08</td>\n",
              "      <td>0.15</td>\n",
              "      <td>1</td>\n",
              "      <td>0</td>\n",
              "      <td>0.6</td>\n",
              "      <td>0.88</td>\n",
              "      <td>0</td>\n",
              "      <td>0</td>\n",
              "    </tr>\n",
              "    <tr>\n",
              "      <th>2</th>\n",
              "      <td>1</td>\n",
              "      <td>5</td>\n",
              "      <td>0</td>\n",
              "      <td>0</td>\n",
              "      <td>123</td>\n",
              "      <td>6</td>\n",
              "      <td>1</td>\n",
              "      <td>0.05</td>\n",
              "      <td>0.07</td>\n",
              "      <td>26</td>\n",
              "      <td>0.1</td>\n",
              "      <td>0.05</td>\n",
              "      <td>0</td>\n",
              "      <td>0</td>\n",
              "      <td>1</td>\n",
              "    </tr>\n",
              "    <tr>\n",
              "      <th>3</th>\n",
              "      <td>1</td>\n",
              "      <td>9</td>\n",
              "      <td>232</td>\n",
              "      <td>8153</td>\n",
              "      <td>5</td>\n",
              "      <td>5</td>\n",
              "      <td>0.2</td>\n",
              "      <td>1</td>\n",
              "      <td>0</td>\n",
              "      <td>255</td>\n",
              "      <td>1</td>\n",
              "      <td>0</td>\n",
              "      <td>0.03</td>\n",
              "      <td>0.04</td>\n",
              "      <td>0.03</td>\n",
              "    </tr>\n",
              "    <tr>\n",
              "      <th>4</th>\n",
              "      <td>1</td>\n",
              "      <td>9</td>\n",
              "      <td>199</td>\n",
              "      <td>420</td>\n",
              "      <td>30</td>\n",
              "      <td>32</td>\n",
              "      <td>0</td>\n",
              "      <td>1</td>\n",
              "      <td>0</td>\n",
              "      <td>255</td>\n",
              "      <td>1</td>\n",
              "      <td>0</td>\n",
              "      <td>0</td>\n",
              "      <td>0</td>\n",
              "      <td>0</td>\n",
              "    </tr>\n",
              "  </tbody>\n",
              "</table>\n",
              "</div>"
            ],
            "text/plain": [
              "  protocol_type flag src_bytes dst_bytes count srv_count serror_rate  \\\n",
              "0             1    9       491         0     2         2           0   \n",
              "1             2    9       146         0    13         1           0   \n",
              "2             1    5         0         0   123         6           1   \n",
              "3             1    9       232      8153     5         5         0.2   \n",
              "4             1    9       199       420    30        32           0   \n",
              "\n",
              "  same_srv_rate diff_srv_rate dst_host_srv_count dst_host_same_srv_rate  \\\n",
              "0             1             0                 25                   0.17   \n",
              "1          0.08          0.15                  1                      0   \n",
              "2          0.05          0.07                 26                    0.1   \n",
              "3             1             0                255                      1   \n",
              "4             1             0                255                      1   \n",
              "\n",
              "  dst_host_diff_srv_rate dst_host_same_src_port_rate  \\\n",
              "0                   0.03                        0.17   \n",
              "1                    0.6                        0.88   \n",
              "2                   0.05                           0   \n",
              "3                      0                        0.03   \n",
              "4                      0                           0   \n",
              "\n",
              "  dst_host_srv_diff_host_rate dst_host_serror_rate  \n",
              "0                           0                    0  \n",
              "1                           0                    0  \n",
              "2                           0                    1  \n",
              "3                        0.04                 0.03  \n",
              "4                           0                    0  "
            ]
          },
          "metadata": {
            "tags": []
          },
          "execution_count": 18
        }
      ]
    },
    {
      "cell_type": "markdown",
      "metadata": {
        "colab_type": "text",
        "id": "nKTuJ5fByvm6"
      },
      "source": [
        "# Dataset Partition"
      ]
    },
    {
      "cell_type": "code",
      "metadata": {
        "colab_type": "code",
        "id": "qFw6FaQcyfaR",
        "outputId": "bebe5cc6-e000-46df-a2f9-c7bb14fd6da1",
        "colab": {
          "base_uri": "https://localhost:8080/",
          "height": 34
        }
      },
      "source": [
        "from sklearn.model_selection import train_test_split\n",
        "X_train, X_test, Y_train, Y_test = train_test_split(X, Y, test_size=0.3, random_state=42)\n",
        "print([X_train.shape, X_test.shape, Y_train.shape, Y_test.shape])"
      ],
      "execution_count": 0,
      "outputs": [
        {
          "output_type": "stream",
          "text": [
            "[(17634, 15), (7558, 15), (17634, 5), (7558, 5)]\n"
          ],
          "name": "stdout"
        }
      ]
    },
    {
      "cell_type": "code",
      "metadata": {
        "id": "Mp-cKDg7ntSH",
        "colab_type": "code",
        "outputId": "91da54ed-e562-4484-c92e-3d37996fadb2",
        "colab": {
          "base_uri": "https://localhost:8080/",
          "height": 34
        }
      },
      "source": [
        "# for RNN\n",
        "X_tr = X_train.to_numpy().reshape(X_train.shape[0],X_train.shape[1], 1)\n",
        "X_te = X_test.to_numpy().reshape(X_test.shape[0],X_test.shape[1], 1)\n",
        "X_tr.shape, X_te.shape"
      ],
      "execution_count": 0,
      "outputs": [
        {
          "output_type": "execute_result",
          "data": {
            "text/plain": [
              "((17634, 15, 1), (7558, 15, 1))"
            ]
          },
          "metadata": {
            "tags": []
          },
          "execution_count": 20
        }
      ]
    },
    {
      "cell_type": "code",
      "metadata": {
        "id": "OVCM2KD4ZVku",
        "colab_type": "code",
        "outputId": "948be4ab-b46d-4c3e-d98d-e05fdf6d6141",
        "colab": {
          "base_uri": "https://localhost:8080/",
          "height": 195
        }
      },
      "source": [
        "data_y.head()"
      ],
      "execution_count": 0,
      "outputs": [
        {
          "output_type": "execute_result",
          "data": {
            "text/html": [
              "<div>\n",
              "<style scoped>\n",
              "    .dataframe tbody tr th:only-of-type {\n",
              "        vertical-align: middle;\n",
              "    }\n",
              "\n",
              "    .dataframe tbody tr th {\n",
              "        vertical-align: top;\n",
              "    }\n",
              "\n",
              "    .dataframe thead th {\n",
              "        text-align: right;\n",
              "    }\n",
              "</style>\n",
              "<table border=\"1\" class=\"dataframe\">\n",
              "  <thead>\n",
              "    <tr style=\"text-align: right;\">\n",
              "      <th></th>\n",
              "      <th>0</th>\n",
              "    </tr>\n",
              "  </thead>\n",
              "  <tbody>\n",
              "    <tr>\n",
              "      <th>0</th>\n",
              "      <td>1</td>\n",
              "    </tr>\n",
              "    <tr>\n",
              "      <th>1</th>\n",
              "      <td>1</td>\n",
              "    </tr>\n",
              "    <tr>\n",
              "      <th>2</th>\n",
              "      <td>0</td>\n",
              "    </tr>\n",
              "    <tr>\n",
              "      <th>3</th>\n",
              "      <td>1</td>\n",
              "    </tr>\n",
              "    <tr>\n",
              "      <th>4</th>\n",
              "      <td>1</td>\n",
              "    </tr>\n",
              "  </tbody>\n",
              "</table>\n",
              "</div>"
            ],
            "text/plain": [
              "   0\n",
              "0  1\n",
              "1  1\n",
              "2  0\n",
              "3  1\n",
              "4  1"
            ]
          },
          "metadata": {
            "tags": []
          },
          "execution_count": 21
        }
      ]
    },
    {
      "cell_type": "markdown",
      "metadata": {
        "colab_type": "text",
        "id": "IQmcEZcaqKc1"
      },
      "source": [
        "# Scaling Numerical Attributes"
      ]
    },
    {
      "cell_type": "code",
      "metadata": {
        "colab_type": "code",
        "id": "gWWp-EL2qGox",
        "outputId": "6b6bff26-bfbf-466d-dc62-9b43f487ca1a",
        "colab": {
          "base_uri": "https://localhost:8080/",
          "height": 34
        }
      },
      "source": [
        "from sklearn.preprocessing import StandardScaler\n",
        "scaler = StandardScaler()\n",
        "X_train = scaler.fit_transform(X_train)\n",
        "X_test = scaler.transform(X_test)\n",
        "X_train.shape, X_test.shape"
      ],
      "execution_count": 0,
      "outputs": [
        {
          "output_type": "execute_result",
          "data": {
            "text/plain": [
              "((17634, 15), (7558, 15))"
            ]
          },
          "metadata": {
            "tags": []
          },
          "execution_count": 22
        }
      ]
    },
    {
      "cell_type": "markdown",
      "metadata": {
        "colab_type": "text",
        "id": "Jk3R1A0lzCwa"
      },
      "source": [
        "# Fitting Models\n"
      ]
    },
    {
      "cell_type": "code",
      "metadata": {
        "id": "RRlD8kRFlk7C",
        "colab_type": "code",
        "outputId": "9c46975c-2f46-44df-b306-252bf23b277d",
        "colab": {
          "base_uri": "https://localhost:8080/",
          "height": 34
        }
      },
      "source": [
        "import keras\n",
        "from keras.models import Sequential,Model\n",
        "from keras.layers import Dense,Dropout,LSTM,Input\n",
        "from sklearn.model_selection import cross_val_score\n",
        "from keras.wrappers.scikit_learn import KerasClassifier\n",
        "from sklearn.model_selection import KFold\n",
        "from sklearn.pipeline import Pipeline\n",
        "from sklearn.preprocessing import StandardScaler"
      ],
      "execution_count": 0,
      "outputs": [
        {
          "output_type": "stream",
          "text": [
            "Using TensorFlow backend.\n"
          ],
          "name": "stderr"
        }
      ]
    },
    {
      "cell_type": "code",
      "metadata": {
        "id": "9HGOJu-HSwF9",
        "colab_type": "code",
        "colab": {}
      },
      "source": [
        "acc_score_evaluate = [['Model', 'Accuracy']]\n",
        "acc_score_validation = [['Model', 'Accuracy']]"
      ],
      "execution_count": 0,
      "outputs": []
    },
    {
      "cell_type": "markdown",
      "metadata": {
        "id": "lqJ8lzYyAlKB",
        "colab_type": "text"
      },
      "source": [
        "# ANN"
      ]
    },
    {
      "cell_type": "code",
      "metadata": {
        "id": "v1XZXpLepGu_",
        "colab_type": "code",
        "colab": {}
      },
      "source": [
        "model_ann = Sequential()\n",
        "model_ann.add(Dense(60,activation='relu',input_dim=15))\n",
        "model_ann.add(Dropout(0.5))\n",
        "model_ann.add(Dense(30,activation='relu'))\n",
        "model_ann.add(Dropout(0.5))\n",
        "model_ann.add(Dense(5,activation='softmax'))\n",
        "model_ann.compile(optimizer='Adam', loss='categorical_crossentropy',metrics=['accuracy'])"
      ],
      "execution_count": 0,
      "outputs": []
    },
    {
      "cell_type": "code",
      "metadata": {
        "id": "JhYq64BPq4aS",
        "colab_type": "code",
        "outputId": "454e88b9-0e9c-46ca-95d3-a93db05bc1fb",
        "colab": {
          "base_uri": "https://localhost:8080/",
          "height": 874
        }
      },
      "source": [
        "model_ann.fit(X_train, Y_train,batch_size=32, epochs=25)"
      ],
      "execution_count": 0,
      "outputs": [
        {
          "output_type": "stream",
          "text": [
            "Epoch 1/25\n",
            "17634/17634 [==============================] - 1s 47us/step - loss: 0.4833 - accuracy: 0.8638\n",
            "Epoch 2/25\n",
            "17634/17634 [==============================] - 1s 39us/step - loss: 0.2736 - accuracy: 0.9268\n",
            "Epoch 3/25\n",
            "17634/17634 [==============================] - 1s 39us/step - loss: 0.2412 - accuracy: 0.9354\n",
            "Epoch 4/25\n",
            "17634/17634 [==============================] - 1s 39us/step - loss: 0.2198 - accuracy: 0.9406\n",
            "Epoch 5/25\n",
            "17634/17634 [==============================] - 1s 39us/step - loss: 0.2029 - accuracy: 0.9437\n",
            "Epoch 6/25\n",
            "17634/17634 [==============================] - 1s 39us/step - loss: 0.1869 - accuracy: 0.9448\n",
            "Epoch 7/25\n",
            "17634/17634 [==============================] - 1s 40us/step - loss: 0.1955 - accuracy: 0.9462\n",
            "Epoch 8/25\n",
            "17634/17634 [==============================] - 1s 40us/step - loss: 0.1799 - accuracy: 0.9496\n",
            "Epoch 9/25\n",
            "17634/17634 [==============================] - 1s 40us/step - loss: 0.1792 - accuracy: 0.9519\n",
            "Epoch 10/25\n",
            "17634/17634 [==============================] - 1s 40us/step - loss: 0.1722 - accuracy: 0.9520\n",
            "Epoch 11/25\n",
            "17634/17634 [==============================] - 1s 38us/step - loss: 0.1595 - accuracy: 0.9536\n",
            "Epoch 12/25\n",
            "17634/17634 [==============================] - 1s 38us/step - loss: 0.1567 - accuracy: 0.9546\n",
            "Epoch 13/25\n",
            "17634/17634 [==============================] - 1s 39us/step - loss: 0.1593 - accuracy: 0.9555\n",
            "Epoch 14/25\n",
            "17634/17634 [==============================] - 1s 39us/step - loss: 0.1572 - accuracy: 0.9557\n",
            "Epoch 15/25\n",
            "17634/17634 [==============================] - 1s 38us/step - loss: 0.1550 - accuracy: 0.9562\n",
            "Epoch 16/25\n",
            "17634/17634 [==============================] - 1s 39us/step - loss: 0.1491 - accuracy: 0.9567\n",
            "Epoch 17/25\n",
            "17634/17634 [==============================] - 1s 39us/step - loss: 0.1448 - accuracy: 0.9585\n",
            "Epoch 18/25\n",
            "17634/17634 [==============================] - 1s 39us/step - loss: 0.1458 - accuracy: 0.9584\n",
            "Epoch 19/25\n",
            "17634/17634 [==============================] - 1s 39us/step - loss: 0.1420 - accuracy: 0.9585\n",
            "Epoch 20/25\n",
            "17634/17634 [==============================] - 1s 39us/step - loss: 0.1410 - accuracy: 0.9608\n",
            "Epoch 21/25\n",
            "17634/17634 [==============================] - 1s 38us/step - loss: 0.1405 - accuracy: 0.9594\n",
            "Epoch 22/25\n",
            "17634/17634 [==============================] - 1s 40us/step - loss: 0.1382 - accuracy: 0.9612\n",
            "Epoch 23/25\n",
            "17634/17634 [==============================] - 1s 39us/step - loss: 0.1326 - accuracy: 0.9616\n",
            "Epoch 24/25\n",
            "17634/17634 [==============================] - 1s 39us/step - loss: 0.1397 - accuracy: 0.9619\n",
            "Epoch 25/25\n",
            "17634/17634 [==============================] - 1s 40us/step - loss: 0.1335 - accuracy: 0.9621\n"
          ],
          "name": "stdout"
        },
        {
          "output_type": "execute_result",
          "data": {
            "text/plain": [
              "<keras.callbacks.callbacks.History at 0x7f09b14359b0>"
            ]
          },
          "metadata": {
            "tags": []
          },
          "execution_count": 26
        }
      ]
    },
    {
      "cell_type": "code",
      "metadata": {
        "id": "LVwFxJbsS3ui",
        "colab_type": "code",
        "outputId": "7b904063-d177-4b85-d317-a91267c95f8a",
        "colab": {
          "base_uri": "https://localhost:8080/",
          "height": 67
        }
      },
      "source": [
        "score_ann_eval = model_ann.evaluate(X_train,Y_train)\n",
        "print(\"Loss: %.3f \\nAccuracy: %.3f \" %(score_ann_eval[0],score_ann_eval[1]))"
      ],
      "execution_count": 0,
      "outputs": [
        {
          "output_type": "stream",
          "text": [
            "17634/17634 [==============================] - 0s 21us/step\n",
            "Loss: 0.091 \n",
            "Accuracy: 0.969 \n"
          ],
          "name": "stdout"
        }
      ]
    },
    {
      "cell_type": "code",
      "metadata": {
        "id": "7YPePJcXrBci",
        "colab_type": "code",
        "outputId": "3cbb4eff-3518-40f8-daa7-61a9b1347391",
        "colab": {
          "base_uri": "https://localhost:8080/",
          "height": 67
        }
      },
      "source": [
        "score_ann_val = model_ann.evaluate(X_test,Y_test)\n",
        "print(\"Loss: %.3f \\nAccuracy: %.3f \" %(score_ann_val[0],score_ann_val[1]))"
      ],
      "execution_count": 0,
      "outputs": [
        {
          "output_type": "stream",
          "text": [
            "7558/7558 [==============================] - 0s 19us/step\n",
            "Loss: 0.091 \n",
            "Accuracy: 0.971 \n"
          ],
          "name": "stdout"
        }
      ]
    },
    {
      "cell_type": "code",
      "metadata": {
        "id": "jb8zosUoZQaV",
        "colab_type": "code",
        "colab": {}
      },
      "source": [
        "acc_score_evaluate.append(['ANN Classifier',score_ann_eval[1]])\n",
        "acc_score_validation.append(['ANN Classifier',score_ann_val[1]])"
      ],
      "execution_count": 0,
      "outputs": []
    },
    {
      "cell_type": "code",
      "metadata": {
        "id": "W8xIELsWy3l5",
        "colab_type": "code",
        "colab": {}
      },
      "source": [
        "from sklearn import metrics\n",
        "metrics.confusion_matrix(Y_test.argmax(axis=1), model_rnn.predict(X_test).argmax(axis=1))"
      ],
      "execution_count": 0,
      "outputs": []
    },
    {
      "cell_type": "markdown",
      "metadata": {
        "id": "t9PVhjwdAWPv",
        "colab_type": "text"
      },
      "source": [
        "# Keras Classifier with pipelining"
      ]
    },
    {
      "cell_type": "code",
      "metadata": {
        "id": "b92AMZXZlk7F",
        "colab_type": "code",
        "colab": {}
      },
      "source": [
        "def create_model():\n",
        "    model = Sequential()\n",
        "    model.add(Dense(60,activation='relu',input_dim=15))\n",
        "    model.add(Dropout(0.5))\n",
        "    model.add(Dense(30,activation='relu'))\n",
        "    model.add(Dropout(0.5))\n",
        "    model.add(Dense(5,activation='softmax'))\n",
        "    model.compile(optimizer='Adam', loss='categorical_crossentropy',metrics=['accuracy'])\n",
        "    return model"
      ],
      "execution_count": 0,
      "outputs": []
    },
    {
      "cell_type": "code",
      "metadata": {
        "id": "sn_GaJpslk7H",
        "colab_type": "code",
        "outputId": "010926a4-204e-42f4-c43f-f70f9fbd59f7",
        "colab": {
          "base_uri": "https://localhost:8080/",
          "height": 34
        }
      },
      "source": [
        "estimators = []\n",
        "estimators.append(('standardize', StandardScaler()))\n",
        "estimators.append(('mlp', KerasClassifier(build_fn=create_model, epochs=25, batch_size=32, verbose=0)))\n",
        "pipeline = Pipeline(estimators)\n",
        "kfold = KFold(n_splits=10, shuffle=True)\n",
        "results = cross_val_score(pipeline, X_train, Y_train, cv=kfold)\n",
        "score_kcp = results.mean()\n",
        "print(\"Model: %.2f%% (%.2f%%)\" % (results.mean()*100, results.std()*100))"
      ],
      "execution_count": 0,
      "outputs": [
        {
          "output_type": "stream",
          "text": [
            "Model: 96.98% (0.44%)\n"
          ],
          "name": "stdout"
        }
      ]
    },
    {
      "cell_type": "code",
      "metadata": {
        "id": "AMOV7sudTuV6",
        "colab_type": "code",
        "colab": {}
      },
      "source": [
        "acc_score_evaluate.append(['Keras Classifier', score_kcp])\n",
        "acc_score_validation.append(['Keras Classifier', score_kcp])"
      ],
      "execution_count": 0,
      "outputs": []
    },
    {
      "cell_type": "markdown",
      "metadata": {
        "id": "79kCk62xAQ9J",
        "colab_type": "text"
      },
      "source": [
        "# RNN\n"
      ]
    },
    {
      "cell_type": "code",
      "metadata": {
        "id": "Qjns0eSAsllP",
        "colab_type": "code",
        "colab": {}
      },
      "source": [
        "model_rnn = Sequential()\n",
        "model_rnn.add(LSTM(128, dropout=0.2, recurrent_dropout=0.2,input_shape = (15,1)))\n",
        "model_rnn.add(Dropout(0.5))\n",
        "model_rnn.add(Dense(256,activation='relu'))\n",
        "model_rnn.add(Dropout(0.5))\n",
        "model_rnn.add(Dense(5, activation='softmax'))\n",
        "model_rnn.compile('Adam','categorical_crossentropy',['accuracy'])"
      ],
      "execution_count": 0,
      "outputs": []
    },
    {
      "cell_type": "code",
      "metadata": {
        "id": "oaPLpiG-vF57",
        "colab_type": "code",
        "outputId": "872a4e0e-2261-4888-bde2-d0686e9d4031",
        "colab": {
          "base_uri": "https://localhost:8080/",
          "height": 874
        }
      },
      "source": [
        "model_rnn.fit(X_tr, Y_train, batch_size=32,epochs=25)"
      ],
      "execution_count": 0,
      "outputs": [
        {
          "output_type": "stream",
          "text": [
            "Epoch 1/25\n",
            "17634/17634 [==============================] - 12s 682us/step - loss: 0.3539 - accuracy: 0.8619\n",
            "Epoch 2/25\n",
            "17634/17634 [==============================] - 12s 666us/step - loss: 0.3141 - accuracy: 0.8739\n",
            "Epoch 3/25\n",
            "17634/17634 [==============================] - 12s 656us/step - loss: 0.3076 - accuracy: 0.8778\n",
            "Epoch 4/25\n",
            "17634/17634 [==============================] - 12s 665us/step - loss: 0.2952 - accuracy: 0.8796\n",
            "Epoch 5/25\n",
            "17634/17634 [==============================] - 12s 697us/step - loss: 0.2875 - accuracy: 0.8840\n",
            "Epoch 6/25\n",
            "17634/17634 [==============================] - 12s 673us/step - loss: 0.2793 - accuracy: 0.8817\n",
            "Epoch 7/25\n",
            "17634/17634 [==============================] - 12s 662us/step - loss: 0.2733 - accuracy: 0.8851\n",
            "Epoch 8/25\n",
            "17634/17634 [==============================] - 12s 664us/step - loss: 0.2627 - accuracy: 0.8909\n",
            "Epoch 9/25\n",
            "17634/17634 [==============================] - 12s 662us/step - loss: 0.2598 - accuracy: 0.8899\n",
            "Epoch 10/25\n",
            "17634/17634 [==============================] - 12s 662us/step - loss: 0.2566 - accuracy: 0.8936\n",
            "Epoch 11/25\n",
            "17634/17634 [==============================] - 12s 663us/step - loss: 0.2514 - accuracy: 0.8933\n",
            "Epoch 12/25\n",
            "17634/17634 [==============================] - 12s 659us/step - loss: 0.2592 - accuracy: 0.8874\n",
            "Epoch 13/25\n",
            "17634/17634 [==============================] - 11s 642us/step - loss: 0.2552 - accuracy: 0.8915\n",
            "Epoch 14/25\n",
            "17634/17634 [==============================] - 12s 658us/step - loss: 0.2473 - accuracy: 0.8925\n",
            "Epoch 15/25\n",
            "17634/17634 [==============================] - 12s 654us/step - loss: 0.2435 - accuracy: 0.8930\n",
            "Epoch 16/25\n",
            "17634/17634 [==============================] - 12s 664us/step - loss: 0.2356 - accuracy: 0.8959\n",
            "Epoch 17/25\n",
            "17634/17634 [==============================] - 12s 655us/step - loss: 0.2414 - accuracy: 0.8933\n",
            "Epoch 18/25\n",
            "17634/17634 [==============================] - 12s 662us/step - loss: 0.2408 - accuracy: 0.8921\n",
            "Epoch 19/25\n",
            "17634/17634 [==============================] - 12s 659us/step - loss: 0.2436 - accuracy: 0.8946\n",
            "Epoch 20/25\n",
            "17634/17634 [==============================] - 12s 661us/step - loss: 0.2358 - accuracy: 0.8967\n",
            "Epoch 21/25\n",
            "17634/17634 [==============================] - 12s 658us/step - loss: 0.2415 - accuracy: 0.8941\n",
            "Epoch 22/25\n",
            "17634/17634 [==============================] - 12s 654us/step - loss: 0.2463 - accuracy: 0.8932\n",
            "Epoch 23/25\n",
            "17634/17634 [==============================] - 12s 659us/step - loss: 0.2442 - accuracy: 0.8925\n",
            "Epoch 24/25\n",
            "17634/17634 [==============================] - 12s 656us/step - loss: 0.2325 - accuracy: 0.8961\n",
            "Epoch 25/25\n",
            "17634/17634 [==============================] - 12s 653us/step - loss: 0.2490 - accuracy: 0.8915\n"
          ],
          "name": "stdout"
        },
        {
          "output_type": "execute_result",
          "data": {
            "text/plain": [
              "<keras.callbacks.callbacks.History at 0x7f09af5d37f0>"
            ]
          },
          "metadata": {
            "tags": []
          },
          "execution_count": 35
        }
      ]
    },
    {
      "cell_type": "code",
      "metadata": {
        "id": "ZHXQNVx_YtR-",
        "colab_type": "code",
        "outputId": "2cf6529f-73e9-4f5b-a7dc-9ea836a49da7",
        "colab": {
          "base_uri": "https://localhost:8080/",
          "height": 319
        }
      },
      "source": [
        "model_rnn.summary()"
      ],
      "execution_count": 0,
      "outputs": [
        {
          "output_type": "stream",
          "text": [
            "Model: \"sequential_12\"\n",
            "_________________________________________________________________\n",
            "Layer (type)                 Output Shape              Param #   \n",
            "=================================================================\n",
            "lstm_1 (LSTM)                (None, 128)               66560     \n",
            "_________________________________________________________________\n",
            "dropout_23 (Dropout)         (None, 128)               0         \n",
            "_________________________________________________________________\n",
            "dense_34 (Dense)             (None, 256)               33024     \n",
            "_________________________________________________________________\n",
            "dropout_24 (Dropout)         (None, 256)               0         \n",
            "_________________________________________________________________\n",
            "dense_35 (Dense)             (None, 5)                 1285      \n",
            "=================================================================\n",
            "Total params: 100,869\n",
            "Trainable params: 100,869\n",
            "Non-trainable params: 0\n",
            "_________________________________________________________________\n"
          ],
          "name": "stdout"
        }
      ]
    },
    {
      "cell_type": "code",
      "metadata": {
        "id": "osuZwx71wYBF",
        "colab_type": "code",
        "outputId": "e2c8e263-9a31-4f70-c889-2112900e9e0f",
        "colab": {
          "base_uri": "https://localhost:8080/",
          "height": 644
        }
      },
      "source": [
        "keras.utils.plot_model(model_rnn, to_file='rnn_multi.png', show_shapes=True)"
      ],
      "execution_count": 0,
      "outputs": [
        {
          "output_type": "execute_result",
          "data": {
            "image/png": "[encoded data removed]",
            "text/plain": [
              "<IPython.core.display.Image object>"
            ]
          },
          "metadata": {
            "tags": []
          },
          "execution_count": 37
        }
      ]
    },
    {
      "cell_type": "code",
      "metadata": {
        "id": "I1lQ2703Q2N0",
        "colab_type": "code",
        "outputId": "dc19c26c-933b-4896-d80f-38fb647ff843",
        "colab": {
          "base_uri": "https://localhost:8080/",
          "height": 67
        }
      },
      "source": [
        "score_rnn_eval = model_rnn.evaluate(X_tr, Y_train)\n",
        "print(\"Loss: %.3f \\nAccuracy: %.3f \" %(score_rnn_eval[0],score_rnn_eval[1]))"
      ],
      "execution_count": 0,
      "outputs": [
        {
          "output_type": "stream",
          "text": [
            "17634/17634 [==============================] - 3s 179us/step\n",
            "Loss: 0.058 \n",
            "Accuracy: 0.985 \n"
          ],
          "name": "stdout"
        }
      ]
    },
    {
      "cell_type": "code",
      "metadata": {
        "id": "LfEQhCmClk7K",
        "colab_type": "code",
        "outputId": "a143d400-f250-4d53-86b5-c76a3de8e102",
        "colab": {
          "base_uri": "https://localhost:8080/",
          "height": 67
        }
      },
      "source": [
        "score_rnn_val = model_rnn.evaluate(X_te, Y_test)\n",
        "print(\"Loss: %.3f \\nAccuracy: %.3f \" %(score_rnn_val[0],score_rnn_val[1]))"
      ],
      "execution_count": 0,
      "outputs": [
        {
          "output_type": "stream",
          "text": [
            "7558/7558 [==============================] - 1s 177us/step\n",
            "Loss: 0.061 \n",
            "Accuracy: 0.985 \n"
          ],
          "name": "stdout"
        }
      ]
    },
    {
      "cell_type": "code",
      "metadata": {
        "id": "mytl1mEYWuzF",
        "colab_type": "code",
        "colab": {}
      },
      "source": [
        "acc_score_evaluate.append(['RNN Classifier', score_rnn_eval[1]])\n",
        "acc_score_validation.append(['RNN Classifier', score_rnn_val[1]])"
      ],
      "execution_count": 0,
      "outputs": []
    },
    {
      "cell_type": "code",
      "metadata": {
        "id": "6CG0hoi-vT6S",
        "colab_type": "code",
        "outputId": "53a4398a-229b-4771-ff2a-a83f624811b1",
        "colab": {
          "base_uri": "https://localhost:8080/",
          "height": 101
        }
      },
      "source": [
        "from sklearn import metrics\n",
        "metrics.confusion_matrix(Y_test.argmax(axis=1), model_rnn.predict(X_te).argmax(axis=1))"
      ],
      "execution_count": 0,
      "outputs": [
        {
          "output_type": "execute_result",
          "data": {
            "text/plain": [
              "array([[2749,   64,    0,    3,    0],\n",
              "       [   2, 4027,    5,    8,    0],\n",
              "       [   0,    9,  641,    0,    0],\n",
              "       [   0,   16,    1,   30,    0],\n",
              "       [   0,    2,    0,    1,    0]])"
            ]
          },
          "metadata": {
            "tags": []
          },
          "execution_count": 41
        }
      ]
    },
    {
      "cell_type": "markdown",
      "metadata": {
        "id": "S4Xf_CFlCCle",
        "colab_type": "text"
      },
      "source": [
        "# Multi-Layer Perceptron"
      ]
    },
    {
      "cell_type": "code",
      "metadata": {
        "id": "vnPe_sQTlk7j",
        "colab_type": "code",
        "outputId": "da0381a4-ba12-4d43-aaae-228ce15e46f3",
        "colab": {
          "base_uri": "https://localhost:8080/",
          "height": 151
        }
      },
      "source": [
        "from sklearn.neural_network import MLPClassifier\n",
        "clf_mlp = MLPClassifier(hidden_layer_sizes=(100, 30, 30), solver='adam', shuffle=False, tol = 0.0001, early_stopping = True)\n",
        "clf_mlp.fit(X_train, Y_train)"
      ],
      "execution_count": 0,
      "outputs": [
        {
          "output_type": "execute_result",
          "data": {
            "text/plain": [
              "MLPClassifier(activation='relu', alpha=0.0001, batch_size='auto', beta_1=0.9,\n",
              "              beta_2=0.999, early_stopping=True, epsilon=1e-08,\n",
              "              hidden_layer_sizes=(100, 30, 30), learning_rate='constant',\n",
              "              learning_rate_init=0.001, max_fun=15000, max_iter=200,\n",
              "              momentum=0.9, n_iter_no_change=10, nesterovs_momentum=True,\n",
              "              power_t=0.5, random_state=None, shuffle=False, solver='adam',\n",
              "              tol=0.0001, validation_fraction=0.1, verbose=False,\n",
              "              warm_start=False)"
            ]
          },
          "metadata": {
            "tags": []
          },
          "execution_count": 42
        }
      ]
    },
    {
      "cell_type": "code",
      "metadata": {
        "id": "R7OoV_LNlk7p",
        "colab_type": "code",
        "outputId": "278959a9-d2df-4cbd-e855-80a55e8fa83a",
        "colab": {
          "base_uri": "https://localhost:8080/",
          "height": 34
        }
      },
      "source": [
        "mlp_score_eval = clf_mlp.score(X_train, Y_train)\n",
        "\n",
        "print('MLP_final Score: %.3f ' % mlp_score_eval)"
      ],
      "execution_count": 0,
      "outputs": [
        {
          "output_type": "stream",
          "text": [
            "MLP_final Score: 0.987 \n"
          ],
          "name": "stdout"
        }
      ]
    },
    {
      "cell_type": "code",
      "metadata": {
        "id": "LqZe_OIwlk70",
        "colab_type": "code",
        "outputId": "529747ac-1286-4991-ece5-52a52c3ab3a3",
        "colab": {
          "base_uri": "https://localhost:8080/",
          "height": 34
        }
      },
      "source": [
        "mlp_score_val = clf_mlp.score(X_test, Y_test)\n",
        "print('MLP_final Score: %.3f ' % mlp_score_val)"
      ],
      "execution_count": 0,
      "outputs": [
        {
          "output_type": "stream",
          "text": [
            "MLP_final Score: 0.985 \n"
          ],
          "name": "stdout"
        }
      ]
    },
    {
      "cell_type": "code",
      "metadata": {
        "id": "pf2-TPV_ZbZ7",
        "colab_type": "code",
        "colab": {}
      },
      "source": [
        "acc_score_evaluate.append(['MLP Classifier', mlp_score_eval])\n",
        "acc_score_validation.append(['MLP Classifier', mlp_score_val])"
      ],
      "execution_count": 0,
      "outputs": []
    },
    {
      "cell_type": "code",
      "metadata": {
        "id": "rorIOIN-zUJr",
        "colab_type": "code",
        "outputId": "df275268-73b2-4af9-ccb0-d24943845c35",
        "colab": {
          "base_uri": "https://localhost:8080/",
          "height": 303
        }
      },
      "source": [
        "metrics.confusion_matrix(Y_test, clf_mlp.predict(X_test).round())"
      ],
      "execution_count": 0,
      "outputs": [
        {
          "output_type": "error",
          "ename": "ValueError",
          "evalue": "ignored",
          "traceback": [
            "\u001b[0;31m---------------------------------------------------------------------------\u001b[0m",
            "\u001b[0;31mValueError\u001b[0m                                Traceback (most recent call last)",
            "\u001b[0;32m<ipython-input-60-ade2b0ba6f48>\u001b[0m in \u001b[0;36m<module>\u001b[0;34m()\u001b[0m\n\u001b[0;32m----> 1\u001b[0;31m \u001b[0mmetrics\u001b[0m\u001b[0;34m.\u001b[0m\u001b[0mconfusion_matrix\u001b[0m\u001b[0;34m(\u001b[0m\u001b[0mY_test\u001b[0m\u001b[0;34m,\u001b[0m \u001b[0mclf_mlp\u001b[0m\u001b[0;34m.\u001b[0m\u001b[0mpredict\u001b[0m\u001b[0;34m(\u001b[0m\u001b[0mX_test\u001b[0m\u001b[0;34m)\u001b[0m\u001b[0;34m.\u001b[0m\u001b[0mround\u001b[0m\u001b[0;34m(\u001b[0m\u001b[0;34m)\u001b[0m\u001b[0;34m)\u001b[0m\u001b[0;34m\u001b[0m\u001b[0;34m\u001b[0m\u001b[0m\n\u001b[0m",
            "\u001b[0;32m/usr/local/lib/python3.6/dist-packages/sklearn/metrics/_classification.py\u001b[0m in \u001b[0;36mconfusion_matrix\u001b[0;34m(y_true, y_pred, labels, sample_weight, normalize)\u001b[0m\n\u001b[1;32m    266\u001b[0m \u001b[0;34m\u001b[0m\u001b[0m\n\u001b[1;32m    267\u001b[0m     \"\"\"\n\u001b[0;32m--> 268\u001b[0;31m     \u001b[0my_type\u001b[0m\u001b[0;34m,\u001b[0m \u001b[0my_true\u001b[0m\u001b[0;34m,\u001b[0m \u001b[0my_pred\u001b[0m \u001b[0;34m=\u001b[0m \u001b[0m_check_targets\u001b[0m\u001b[0;34m(\u001b[0m\u001b[0my_true\u001b[0m\u001b[0;34m,\u001b[0m \u001b[0my_pred\u001b[0m\u001b[0;34m)\u001b[0m\u001b[0;34m\u001b[0m\u001b[0;34m\u001b[0m\u001b[0m\n\u001b[0m\u001b[1;32m    269\u001b[0m     \u001b[0;32mif\u001b[0m \u001b[0my_type\u001b[0m \u001b[0;32mnot\u001b[0m \u001b[0;32min\u001b[0m \u001b[0;34m(\u001b[0m\u001b[0;34m\"binary\"\u001b[0m\u001b[0;34m,\u001b[0m \u001b[0;34m\"multiclass\"\u001b[0m\u001b[0;34m)\u001b[0m\u001b[0;34m:\u001b[0m\u001b[0;34m\u001b[0m\u001b[0;34m\u001b[0m\u001b[0m\n\u001b[1;32m    270\u001b[0m         \u001b[0;32mraise\u001b[0m \u001b[0mValueError\u001b[0m\u001b[0;34m(\u001b[0m\u001b[0;34m\"%s is not supported\"\u001b[0m \u001b[0;34m%\u001b[0m \u001b[0my_type\u001b[0m\u001b[0;34m)\u001b[0m\u001b[0;34m\u001b[0m\u001b[0;34m\u001b[0m\u001b[0m\n",
            "\u001b[0;32m/usr/local/lib/python3.6/dist-packages/sklearn/metrics/_classification.py\u001b[0m in \u001b[0;36m_check_targets\u001b[0;34m(y_true, y_pred)\u001b[0m\n\u001b[1;32m     88\u001b[0m     \u001b[0;32mif\u001b[0m \u001b[0mlen\u001b[0m\u001b[0;34m(\u001b[0m\u001b[0my_type\u001b[0m\u001b[0;34m)\u001b[0m \u001b[0;34m>\u001b[0m \u001b[0;36m1\u001b[0m\u001b[0;34m:\u001b[0m\u001b[0;34m\u001b[0m\u001b[0;34m\u001b[0m\u001b[0m\n\u001b[1;32m     89\u001b[0m         raise ValueError(\"Classification metrics can't handle a mix of {0} \"\n\u001b[0;32m---> 90\u001b[0;31m                          \"and {1} targets\".format(type_true, type_pred))\n\u001b[0m\u001b[1;32m     91\u001b[0m \u001b[0;34m\u001b[0m\u001b[0m\n\u001b[1;32m     92\u001b[0m     \u001b[0;31m# We can't have more than one value on y_type => The set is no more needed\u001b[0m\u001b[0;34m\u001b[0m\u001b[0;34m\u001b[0m\u001b[0;34m\u001b[0m\u001b[0m\n",
            "\u001b[0;31mValueError\u001b[0m: Classification metrics can't handle a mix of multiclass and multilabel-indicator targets"
          ]
        }
      ]
    },
    {
      "cell_type": "markdown",
      "metadata": {
        "id": "7iK_1BXLlk7a",
        "colab_type": "text"
      },
      "source": [
        "# Different Classifiers"
      ]
    },
    {
      "cell_type": "code",
      "metadata": {
        "colab_type": "code",
        "id": "XsvtD8L-zKy7",
        "colab": {}
      },
      "source": [
        "from sklearn.linear_model import LogisticRegression\n",
        "from sklearn.naive_bayes import BernoulliNB\n",
        "from sklearn.tree import DecisionTreeClassifier\n",
        "from sklearn.ensemble import RandomForestClassifier\n",
        "from sklearn.neighbors import KNeighborsClassifier\n",
        "from sklearn.svm import SVC\n",
        "from sklearn.model_selection import cross_val_score"
      ],
      "execution_count": 0,
      "outputs": []
    },
    {
      "cell_type": "code",
      "metadata": {
        "id": "uyR-t701dXft",
        "colab_type": "code",
        "outputId": "6103e1bb-28f3-4873-cf0b-cbc716ed2c7c",
        "colab": {
          "base_uri": "https://localhost:8080/",
          "height": 34
        }
      },
      "source": [
        "from sklearn.model_selection import train_test_split\n",
        "X_train, X_test, Y_train, Y_test = train_test_split(data_x, data_y, test_size=0.3, random_state=42)\n",
        "print([X_train.shape, X_test.shape, Y_train.shape, Y_test.shape])"
      ],
      "execution_count": 0,
      "outputs": [
        {
          "output_type": "stream",
          "text": [
            "[(17634, 15), (7558, 15), (17634, 1), (7558, 1)]\n"
          ],
          "name": "stdout"
        }
      ]
    },
    {
      "cell_type": "code",
      "metadata": {
        "colab_type": "code",
        "id": "NTMiBkLezznq",
        "outputId": "930b71ae-7586-424e-9e39-f8269149af70",
        "colab": {
          "base_uri": "https://localhost:8080/",
          "height": 84
        }
      },
      "source": [
        "# Train LogisticRegression Model\n",
        "LGR_Classifier = LogisticRegression(n_jobs=-1, random_state=0)\n",
        "LGR_Classifier.fit(X_train, Y_train)\n",
        "\n",
        "# Train Gaussian Naive Bayes Model\n",
        "BNB_Classifier = BernoulliNB()\n",
        "BNB_Classifier.fit(X_train, Y_train)\n",
        "\n",
        "# Train Decision Tree Model\n",
        "DTC_Classifier = DecisionTreeClassifier(criterion='entropy', random_state=0)\n",
        "DTC_Classifier.fit(X_train, Y_train)\n",
        "\n",
        "# Train Random Forest Model\n",
        "RFC_Classifier = RandomForestClassifier()\n",
        "RFC_Classifier.fit(X_train, Y_train)\n",
        "\n",
        "# Train KNeighborsClassifier Model\n",
        "KNN_Classifier = KNeighborsClassifier(n_jobs=-1)\n",
        "KNN_Classifier.fit(X_train, Y_train)\n",
        "\n",
        "# Train SVM Model\n",
        "svc_Classifier = SVC()\n",
        "svc_Classifier.fit(X_train, Y_train)"
      ],
      "execution_count": 0,
      "outputs": [
        {
          "output_type": "execute_result",
          "data": {
            "text/plain": [
              "SVC(C=1.0, break_ties=False, cache_size=200, class_weight=None, coef0=0.0,\n",
              "    decision_function_shape='ovr', degree=3, gamma='scale', kernel='rbf',\n",
              "    max_iter=-1, probability=False, random_state=None, shrinking=True,\n",
              "    tol=0.001, verbose=False)"
            ]
          },
          "metadata": {
            "tags": []
          },
          "execution_count": 48
        }
      ]
    },
    {
      "cell_type": "markdown",
      "metadata": {
        "colab_type": "text",
        "id": "fCx0mw850uBo"
      },
      "source": [
        "# Evaluate Models"
      ]
    },
    {
      "cell_type": "code",
      "metadata": {
        "colab_type": "code",
        "id": "BKX2Zzxx0jrm",
        "colab": {}
      },
      "source": [
        "from sklearn import metrics"
      ],
      "execution_count": 0,
      "outputs": []
    },
    {
      "cell_type": "code",
      "metadata": {
        "colab_type": "code",
        "id": "JGA6aUch06kg",
        "outputId": "92b95a6b-54a8-4085-9368-bc59fe0e3857",
        "colab": {
          "base_uri": "https://localhost:8080/",
          "height": 1000
        }
      },
      "source": [
        "models = []\n",
        "models.append(('Logistic Regression', LGR_Classifier))\n",
        "models.append(('Naive Bayes Classifier', BNB_Classifier))\n",
        "models.append(('Decision Tree Classifier', DTC_Classifier))\n",
        "models.append(('Random Forest Classifier', RFC_Classifier))\n",
        "models.append(('KNeighbors Classifier', KNN_Classifier))\n",
        "models.append(('Support Vector Classifier', svc_Classifier))\n",
        "for i, v in models:\n",
        "    \n",
        "    scores = cross_val_score(v, X_train, Y_train, cv = 10)\n",
        "\n",
        "    accuracy = metrics.accuracy_score(Y_train, v.predict(X_train))\n",
        "    cm = metrics.confusion_matrix(Y_train, v.predict(X_train))\n",
        "    cr = metrics.classification_report(Y_train, v.predict(X_train))\n",
        "    acc_score_evaluate.append([i, accuracy])\n",
        "    \n",
        "    \n",
        "    print()\n",
        "    print('============={} Model Evaluation========='.format(i))\n",
        "    print()\n",
        "    print(\"Cross Validation Mean Score: \" \"\\n\", scores.mean())\n",
        "    print()\n",
        "    print(\"Model Accuracy: \" \"\\n\", accuracy)\n",
        "    print()\n",
        "    print(\"Confusion Matrix: \" \"\\n\", cm)\n",
        "    print()\n",
        "    print(\"Classification Report: \" \"\\n\", cr)\n",
        "    print()"
      ],
      "execution_count": 0,
      "outputs": [
        {
          "output_type": "stream",
          "text": [
            "\n",
            "=============Logistic Regression Model Evaluation=========\n",
            "\n",
            "Cross Validation Mean Score: \n",
            " 0.8407624668320721\n",
            "\n",
            "Model Accuracy: \n",
            " 0.8409889985255756\n",
            "\n",
            "Confusion Matrix: \n",
            " [[5666  752    0    0    0]\n",
            " [ 245 9161    0    1    0]\n",
            " [ 507 1131    1    0    0]\n",
            " [   0  160    0    2    0]\n",
            " [   0    8    0    0    0]]\n",
            "\n",
            "Classification Report: \n",
            "               precision    recall  f1-score   support\n",
            "\n",
            "           0       0.88      0.88      0.88      6418\n",
            "           1       0.82      0.97      0.89      9407\n",
            "           2       1.00      0.00      0.00      1639\n",
            "           3       0.67      0.01      0.02       162\n",
            "           4       0.00      0.00      0.00         8\n",
            "\n",
            "    accuracy                           0.84     17634\n",
            "   macro avg       0.67      0.37      0.36     17634\n",
            "weighted avg       0.86      0.84      0.80     17634\n",
            "\n",
            "\n",
            "\n",
            "=============Naive Bayes Classifier Model Evaluation=========\n",
            "\n",
            "Cross Validation Mean Score: \n",
            " 0.8862978354510644\n",
            "\n",
            "Model Accuracy: \n",
            " 0.885505273902688\n",
            "\n",
            "Confusion Matrix: \n",
            " [[5759  196  463    0    0]\n",
            " [  78 8895  434    0    0]\n",
            " [ 424  254  961    0    0]\n",
            " [   4  155    3    0    0]\n",
            " [   0    8    0    0    0]]\n",
            "\n",
            "Classification Report: \n",
            "               precision    recall  f1-score   support\n",
            "\n",
            "           0       0.92      0.90      0.91      6418\n",
            "           1       0.94      0.95      0.94      9407\n",
            "           2       0.52      0.59      0.55      1639\n",
            "           3       0.00      0.00      0.00       162\n",
            "           4       0.00      0.00      0.00         8\n",
            "\n",
            "    accuracy                           0.89     17634\n",
            "   macro avg       0.47      0.49      0.48     17634\n",
            "weighted avg       0.88      0.89      0.88     17634\n",
            "\n",
            "\n",
            "\n",
            "=============Decision Tree Classifier Model Evaluation=========\n",
            "\n",
            "Cross Validation Mean Score: \n",
            " 0.9931947708181401\n",
            "\n",
            "Model Accuracy: \n",
            " 1.0\n",
            "\n",
            "Confusion Matrix: \n",
            " [[6418    0    0    0    0]\n",
            " [   0 9407    0    0    0]\n",
            " [   0    0 1639    0    0]\n",
            " [   0    0    0  162    0]\n",
            " [   0    0    0    0    8]]\n",
            "\n",
            "Classification Report: \n",
            "               precision    recall  f1-score   support\n",
            "\n",
            "           0       1.00      1.00      1.00      6418\n",
            "           1       1.00      1.00      1.00      9407\n",
            "           2       1.00      1.00      1.00      1639\n",
            "           3       1.00      1.00      1.00       162\n",
            "           4       1.00      1.00      1.00         8\n",
            "\n",
            "    accuracy                           1.00     17634\n",
            "   macro avg       1.00      1.00      1.00     17634\n",
            "weighted avg       1.00      1.00      1.00     17634\n",
            "\n",
            "\n",
            "\n",
            "=============Random Forest Classifier Model Evaluation=========\n",
            "\n",
            "Cross Validation Mean Score: \n",
            " 0.9960304919850337\n",
            "\n",
            "Model Accuracy: \n",
            " 1.0\n",
            "\n",
            "Confusion Matrix: \n",
            " [[6418    0    0    0    0]\n",
            " [   0 9407    0    0    0]\n",
            " [   0    0 1639    0    0]\n",
            " [   0    0    0  162    0]\n",
            " [   0    0    0    0    8]]\n",
            "\n",
            "Classification Report: \n",
            "               precision    recall  f1-score   support\n",
            "\n",
            "           0       1.00      1.00      1.00      6418\n",
            "           1       1.00      1.00      1.00      9407\n",
            "           2       1.00      1.00      1.00      1639\n",
            "           3       1.00      1.00      1.00       162\n",
            "           4       1.00      1.00      1.00         8\n",
            "\n",
            "    accuracy                           1.00     17634\n",
            "   macro avg       1.00      1.00      1.00     17634\n",
            "weighted avg       1.00      1.00      1.00     17634\n",
            "\n",
            "\n",
            "\n",
            "=============KNeighbors Classifier Model Evaluation=========\n",
            "\n",
            "Cross Validation Mean Score: \n",
            " 0.9783937076437683\n",
            "\n",
            "Model Accuracy: \n",
            " 0.9867868889645004\n",
            "\n",
            "Confusion Matrix: \n",
            " [[6375   28   15    0    0]\n",
            " [  17 9351   29   10    0]\n",
            " [  74   31 1533    1    0]\n",
            " [   0   18    2  142    0]\n",
            " [   0    7    1    0    0]]\n",
            "\n",
            "Classification Report: \n",
            "               precision    recall  f1-score   support\n",
            "\n",
            "           0       0.99      0.99      0.99      6418\n",
            "           1       0.99      0.99      0.99      9407\n",
            "           2       0.97      0.94      0.95      1639\n",
            "           3       0.93      0.88      0.90       162\n",
            "           4       0.00      0.00      0.00         8\n",
            "\n",
            "    accuracy                           0.99     17634\n",
            "   macro avg       0.78      0.76      0.77     17634\n",
            "weighted avg       0.99      0.99      0.99     17634\n",
            "\n",
            "\n",
            "\n",
            "=============Support Vector Classifier Model Evaluation=========\n",
            "\n",
            "Cross Validation Mean Score: \n",
            " 0.5342517778523774\n",
            "\n",
            "Model Accuracy: \n",
            " 0.5340251786321878\n",
            "\n",
            "Confusion Matrix: \n",
            " [[   0 6418    0    0    0]\n",
            " [   0 9406    0    1    0]\n",
            " [   0 1638    1    0    0]\n",
            " [   0  152    0   10    0]\n",
            " [   0    8    0    0    0]]\n",
            "\n",
            "Classification Report: \n",
            "               precision    recall  f1-score   support\n",
            "\n",
            "           0       0.00      0.00      0.00      6418\n",
            "           1       0.53      1.00      0.70      9407\n",
            "           2       1.00      0.00      0.00      1639\n",
            "           3       0.91      0.06      0.12       162\n",
            "           4       0.00      0.00      0.00         8\n",
            "\n",
            "    accuracy                           0.53     17634\n",
            "   macro avg       0.49      0.21      0.16     17634\n",
            "weighted avg       0.39      0.53      0.37     17634\n",
            "\n",
            "\n"
          ],
          "name": "stdout"
        }
      ]
    },
    {
      "cell_type": "code",
      "metadata": {
        "id": "6SbvoArp_40u",
        "colab_type": "code",
        "outputId": "1f3d2989-c8c7-45a7-cc97-434caa4dd2d0",
        "colab": {
          "base_uri": "https://localhost:8080/",
          "height": 84
        }
      },
      "source": [
        "!pip install texttable"
      ],
      "execution_count": 0,
      "outputs": [
        {
          "output_type": "stream",
          "text": [
            "Collecting texttable\n",
            "  Downloading https://files.pythonhosted.org/packages/ec/b1/8a1c659ce288bf771d5b1c7cae318ada466f73bd0e16df8d86f27a2a3ee7/texttable-1.6.2-py2.py3-none-any.whl\n",
            "Installing collected packages: texttable\n",
            "Successfully installed texttable-1.6.2\n"
          ],
          "name": "stdout"
        }
      ]
    },
    {
      "cell_type": "code",
      "metadata": {
        "id": "hQycdO_Hlk7r",
        "colab_type": "code",
        "outputId": "924422c1-7a42-46dc-9293-52566f17844a",
        "colab": {
          "base_uri": "https://localhost:8080/",
          "height": 403
        }
      },
      "source": [
        "from texttable import Texttable\n",
        "t = Texttable()\n",
        "t.add_rows(acc_score_evaluate,header=False)\n",
        "print(t.draw())"
      ],
      "execution_count": 0,
      "outputs": [
        {
          "output_type": "stream",
          "text": [
            "+---------------------------+----------+\n",
            "| Model                     | Accuracy |\n",
            "+---------------------------+----------+\n",
            "| ANN Classifier            | 0.969    |\n",
            "+---------------------------+----------+\n",
            "| Keras Classifier          | 0.970    |\n",
            "+---------------------------+----------+\n",
            "| RNN Classifier            | 0.985    |\n",
            "+---------------------------+----------+\n",
            "| MLP Classifier            | 0.987    |\n",
            "+---------------------------+----------+\n",
            "| Logistic Regression       | 0.841    |\n",
            "+---------------------------+----------+\n",
            "| Naive Bayes Classifier    | 0.886    |\n",
            "+---------------------------+----------+\n",
            "| Decision Tree Classifier  | 1        |\n",
            "+---------------------------+----------+\n",
            "| Random Forest Classifier  | 1        |\n",
            "+---------------------------+----------+\n",
            "| KNeighbors Classifier     | 0.987    |\n",
            "+---------------------------+----------+\n",
            "| Support Vector Classifier | 0.534    |\n",
            "+---------------------------+----------+\n"
          ],
          "name": "stdout"
        }
      ]
    },
    {
      "cell_type": "markdown",
      "metadata": {
        "colab_type": "text",
        "id": "nx5YYHgj9gux"
      },
      "source": [
        "# Validating Models"
      ]
    },
    {
      "cell_type": "code",
      "metadata": {
        "colab_type": "code",
        "id": "euavwoJo3av-",
        "outputId": "fb6702b0-e6e3-4c18-8f96-27e7b2ecb02b",
        "colab": {
          "base_uri": "https://localhost:8080/",
          "height": 1000
        }
      },
      "source": [
        "for i, v in models:\n",
        "    scores = cross_val_score(v, X_test, Y_test, cv = 10)\n",
        "    accuracy = metrics.accuracy_score(Y_test, v.predict(X_test))\n",
        "    cm = metrics.confusion_matrix(Y_test, v.predict(X_test))\n",
        "    cr = metrics.classification_report(Y_test, v.predict(X_test))\n",
        "    acc_score_validation.append([i,accuracy])\n",
        "    print()\n",
        "    print('============={} Model Evaluation========='.format(i))\n",
        "    print()\n",
        "    print(\"Cross Validation Mean Score: \" \"\\n\", scores.mean())\n",
        "    print()\n",
        "    print(\"Model Accuracy: \" \"\\n\", accuracy)\n",
        "    print()\n",
        "    print(\"Confusion Matrix: \" \"\\n\", cm)\n",
        "    print()\n",
        "    print(\"Classification Report: \" \"\\n\", cr)"
      ],
      "execution_count": 0,
      "outputs": [
        {
          "output_type": "stream",
          "text": [
            "\n",
            "=============Logistic Regression Model Evaluation=========\n",
            "\n",
            "Cross Validation Mean Score: \n",
            " 0.8512817547916885\n",
            "\n",
            "Model Accuracy: \n",
            " 0.8524741995236835\n",
            "\n",
            "Confusion Matrix: \n",
            " [[2503  313    0    0    0]\n",
            " [ 103 3937    0    2    0]\n",
            " [ 204  446    0    0    0]\n",
            " [   0   43    1    3    0]\n",
            " [   0    3    0    0    0]]\n",
            "\n",
            "Classification Report: \n",
            "               precision    recall  f1-score   support\n",
            "\n",
            "           0       0.89      0.89      0.89      2816\n",
            "           1       0.83      0.97      0.90      4042\n",
            "           2       0.00      0.00      0.00       650\n",
            "           3       0.60      0.06      0.12        47\n",
            "           4       0.00      0.00      0.00         3\n",
            "\n",
            "    accuracy                           0.85      7558\n",
            "   macro avg       0.46      0.39      0.38      7558\n",
            "weighted avg       0.78      0.85      0.81      7558\n",
            "\n",
            "\n",
            "=============Naive Bayes Classifier Model Evaluation=========\n",
            "\n",
            "Cross Validation Mean Score: \n",
            " 0.8856829251200111\n",
            "\n",
            "Model Accuracy: \n",
            " 0.8892564170415453\n",
            "\n",
            "Confusion Matrix: \n",
            " [[2517   90  209    0    0]\n",
            " [  33 3826  183    0    0]\n",
            " [ 182   90  378    0    0]\n",
            " [   1   44    2    0    0]\n",
            " [   0    3    0    0    0]]\n",
            "\n",
            "Classification Report: \n",
            "               precision    recall  f1-score   support\n",
            "\n",
            "           0       0.92      0.89      0.91      2816\n",
            "           1       0.94      0.95      0.95      4042\n",
            "           2       0.49      0.58      0.53       650\n",
            "           3       0.00      0.00      0.00        47\n",
            "           4       0.00      0.00      0.00         3\n",
            "\n",
            "    accuracy                           0.89      7558\n",
            "   macro avg       0.47      0.48      0.48      7558\n",
            "weighted avg       0.89      0.89      0.89      7558\n",
            "\n",
            "\n",
            "=============Decision Tree Classifier Model Evaluation=========\n",
            "\n",
            "Cross Validation Mean Score: \n",
            " 0.9903404113669014\n",
            "\n",
            "Model Accuracy: \n",
            " 0.9936491135220958\n",
            "\n",
            "Confusion Matrix: \n",
            " [[2811    3    2    0    0]\n",
            " [   3 4018   14    6    1]\n",
            " [   0    9  641    0    0]\n",
            " [   0    6    1   40    0]\n",
            " [   0    1    1    1    0]]\n",
            "\n",
            "Classification Report: \n",
            "               precision    recall  f1-score   support\n",
            "\n",
            "           0       1.00      1.00      1.00      2816\n",
            "           1       1.00      0.99      0.99      4042\n",
            "           2       0.97      0.99      0.98       650\n",
            "           3       0.85      0.85      0.85        47\n",
            "           4       0.00      0.00      0.00         3\n",
            "\n",
            "    accuracy                           0.99      7558\n",
            "   macro avg       0.76      0.77      0.76      7558\n",
            "weighted avg       0.99      0.99      0.99      7558\n",
            "\n",
            "\n",
            "=============Random Forest Classifier Model Evaluation=========\n",
            "\n",
            "Cross Validation Mean Score: \n",
            " 0.9943104173236621\n",
            "\n",
            "Model Accuracy: \n",
            " 0.9966922466260916\n",
            "\n",
            "Confusion Matrix: \n",
            " [[2815    1    0    0    0]\n",
            " [   1 4035    5    1    0]\n",
            " [   0    8  642    0    0]\n",
            " [   0    6    0   41    0]\n",
            " [   0    3    0    0    0]]\n",
            "\n",
            "Classification Report: \n",
            "               precision    recall  f1-score   support\n",
            "\n",
            "           0       1.00      1.00      1.00      2816\n",
            "           1       1.00      1.00      1.00      4042\n",
            "           2       0.99      0.99      0.99       650\n",
            "           3       0.98      0.87      0.92        47\n",
            "           4       0.00      0.00      0.00         3\n",
            "\n",
            "    accuracy                           1.00      7558\n",
            "   macro avg       0.79      0.77      0.78      7558\n",
            "weighted avg       1.00      1.00      1.00      7558\n",
            "\n",
            "\n",
            "=============KNeighbors Classifier Model Evaluation=========\n",
            "\n",
            "Cross Validation Mean Score: \n",
            " 0.9702295104944112\n",
            "\n",
            "Model Accuracy: \n",
            " 0.9826673723207198\n",
            "\n",
            "Confusion Matrix: \n",
            " [[2782   24   10    0    0]\n",
            " [  10 4005   16   11    0]\n",
            " [  31   16  603    0    0]\n",
            " [   0    9    1   37    0]\n",
            " [   0    3    0    0    0]]\n",
            "\n",
            "Classification Report: \n",
            "               precision    recall  f1-score   support\n",
            "\n",
            "           0       0.99      0.99      0.99      2816\n",
            "           1       0.99      0.99      0.99      4042\n",
            "           2       0.96      0.93      0.94       650\n",
            "           3       0.77      0.79      0.78        47\n",
            "           4       0.00      0.00      0.00         3\n",
            "\n",
            "    accuracy                           0.98      7558\n",
            "   macro avg       0.74      0.74      0.74      7558\n",
            "weighted avg       0.98      0.98      0.98      7558\n",
            "\n",
            "\n",
            "=============Support Vector Classifier Model Evaluation=========\n",
            "\n",
            "Cross Validation Mean Score: \n",
            " 0.535459196187673\n",
            "\n",
            "Model Accuracy: \n",
            " 0.5355914263032548\n",
            "\n",
            "Confusion Matrix: \n",
            " [[   0 2816    0    0    0]\n",
            " [   0 4040    0    2    0]\n",
            " [   0  650    0    0    0]\n",
            " [   0   39    0    8    0]\n",
            " [   0    3    0    0    0]]\n",
            "\n",
            "Classification Report: \n",
            "               precision    recall  f1-score   support\n",
            "\n",
            "           0       0.00      0.00      0.00      2816\n",
            "           1       0.54      1.00      0.70      4042\n",
            "           2       0.00      0.00      0.00       650\n",
            "           3       0.80      0.17      0.28        47\n",
            "           4       0.00      0.00      0.00         3\n",
            "\n",
            "    accuracy                           0.54      7558\n",
            "   macro avg       0.27      0.23      0.20      7558\n",
            "weighted avg       0.29      0.54      0.37      7558\n",
            "\n"
          ],
          "name": "stdout"
        }
      ]
    },
    {
      "cell_type": "code",
      "metadata": {
        "id": "sxV_q66Flk72",
        "colab_type": "code",
        "outputId": "c8d902d7-5486-4760-85fa-1e92cf49953a",
        "colab": {
          "base_uri": "https://localhost:8080/",
          "height": 403
        }
      },
      "source": [
        "from texttable import Texttable\n",
        "t = Texttable()\n",
        "t.add_rows(acc_score_validation,header=True)\n",
        "print(t.draw())"
      ],
      "execution_count": 0,
      "outputs": [
        {
          "output_type": "stream",
          "text": [
            "+---------------------------+----------+\n",
            "|           Model           | Accuracy |\n",
            "+===========================+==========+\n",
            "| ANN Classifier            | 0.971    |\n",
            "+---------------------------+----------+\n",
            "| Keras Classifier          | 0.970    |\n",
            "+---------------------------+----------+\n",
            "| RNN Classifier            | 0.985    |\n",
            "+---------------------------+----------+\n",
            "| MLP Classifier            | 0.985    |\n",
            "+---------------------------+----------+\n",
            "| Logistic Regression       | 0.852    |\n",
            "+---------------------------+----------+\n",
            "| Naive Bayes Classifier    | 0.889    |\n",
            "+---------------------------+----------+\n",
            "| Decision Tree Classifier  | 0.994    |\n",
            "+---------------------------+----------+\n",
            "| Random Forest Classifier  | 0.997    |\n",
            "+---------------------------+----------+\n",
            "| KNeighbors Classifier     | 0.983    |\n",
            "+---------------------------+----------+\n",
            "| Support Vector Classifier | 0.536    |\n",
            "+---------------------------+----------+\n"
          ],
          "name": "stdout"
        }
      ]
    },
    {
      "cell_type": "code",
      "metadata": {
        "id": "TlUa0bmTBeVM",
        "colab_type": "code",
        "outputId": "c0aaa7c3-80d4-4530-88dc-3d3a2a24cd9a",
        "colab": {
          "base_uri": "https://localhost:8080/",
          "height": 550
        }
      },
      "source": [
        "df = pd.DataFrame(acc_score_evaluate[1:],columns=['Model','Accuracy'])\n",
        "df_eval = df.set_index('Model')\n",
        "ax = df_eval.plot(kind='bar', title='Model Evaluation', figsize=(15,6), legend=True, fontsize=12)\n",
        "ax.set_xlabel('Models')\n",
        "ax.set_ylabel('Accuracy')\n",
        "plt.show()"
      ],
      "execution_count": 0,
      "outputs": [
        {
          "output_type": "display_data",
          "data": {
            "image/png": "[encoded data removed]",
            "text/plain": [
              "<Figure size 1080x432 with 1 Axes>"
            ]
          },
          "metadata": {
            "tags": []
          }
        }
      ]
    },
    {
      "cell_type": "code",
      "metadata": {
        "id": "u1fMphs9agFW",
        "colab_type": "code",
        "outputId": "753af20d-1a11-4629-d503-09100cec85a4",
        "colab": {
          "base_uri": "https://localhost:8080/",
          "height": 550
        }
      },
      "source": [
        "df_val = pd.DataFrame(acc_score_validation[1:],columns=['Model','Accuracy'],index=df['Model'])\n",
        "ax = df_val.plot(kind='bar', title='Model Validation', figsize=(15,6), legend=True, fontsize=12)\n",
        "ax.set_xlabel('Models')\n",
        "ax.set_ylabel('Accuracy')\n",
        "plt.show()"
      ],
      "execution_count": 0,
      "outputs": [
        {
          "output_type": "display_data",
          "data": {
            "image/png": "[encoded data removed]",
            "text/plain": [
              "<Figure size 1080x432 with 1 Axes>"
            ]
          },
          "metadata": {
            "tags": []
          }
        }
      ]
    },
    {
      "cell_type": "code",
      "metadata": {
        "id": "s3lcrYM_lpU_",
        "colab_type": "code",
        "colab": {}
      },
      "source": [
        ""
      ],
      "execution_count": 0,
      "outputs": []
    }
  ]
}