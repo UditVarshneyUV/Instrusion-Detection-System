{
  "nbformat": 4,
  "nbformat_minor": 0,
  "metadata": {
    "accelerator": "GPU",
    "colab": {
      "name": "KDD_IDS_Multi_Classification.ipynb",
      "provenance": [],
      "collapsed_sections": [
        "lqJ8lzYyAlKB",
        "t9PVhjwdAWPv",
        "S4Xf_CFlCCle",
        "7iK_1BXLlk7a",
        "fCx0mw850uBo",
        "nx5YYHgj9gux"
      ]
    },
    "kernelspec": {
      "display_name": "Python 3",
      "language": "python",
      "name": "python3"
    },
    "language_info": {
      "codemirror_mode": {
        "name": "ipython",
        "version": 3
      },
      "file_extension": ".py",
      "mimetype": "text/x-python",
      "name": "python",
      "nbconvert_exporter": "python",
      "pygments_lexer": "ipython3",
      "version": "3.7.4"
    }
  },
  "cells": [
    {
      "cell_type": "code",
      "metadata": {
        "id": "zIigYiTMuM6C",
        "colab_type": "code",
        "colab": {
          "base_uri": "https://localhost:8080/",
          "height": 121
        },
        "outputId": "1e949e15-18d6-4ad3-b8be-b08514d10f47"
      },
      "source": [
        "from google.colab import drive\n",
        "drive.mount('/content/drive')"
      ],
      "execution_count": null,
      "outputs": [
        {
          "output_type": "stream",
          "text": [
            "Go to this URL in a browser: https://accounts.google.com/o/oauth2/auth?client_id=947318989803-6bn6qk8qdgf4n4g3pfee6491hc0brc4i.apps.googleusercontent.com&redirect_uri=urn%3aietf%3awg%3aoauth%3a2.0%3aoob&response_type=code&scope=email%20https%3a%2f%2fwww.googleapis.com%2fauth%2fdocs.test%20https%3a%2f%2fwww.googleapis.com%2fauth%2fdrive%20https%3a%2f%2fwww.googleapis.com%2fauth%2fdrive.photos.readonly%20https%3a%2f%2fwww.googleapis.com%2fauth%2fpeopleapi.readonly\n",
            "\n",
            "Enter your authorization code:\n",
            "··········\n",
            "Mounted at /content/drive\n"
          ],
          "name": "stdout"
        }
      ]
    },
    {
      "cell_type": "code",
      "metadata": {
        "colab_type": "code",
        "id": "26DZhvzKatcV",
        "colab": {}
      },
      "source": [
        "# Ignore warnings\n",
        "from __future__ import print_function\n",
        "import warnings\n",
        "warnings.simplefilter(action='ignore', category=FutureWarning)\n",
        "warnings.filterwarnings('ignore')\n",
        "\n",
        "\n",
        "import numpy as np\n",
        "import matplotlib.pyplot as plt\n",
        "import pandas as pd\n",
        "import seaborn as sns\n",
        "import imblearn\n",
        "import sklearn\n",
        "%matplotlib inline\n",
        "\n",
        "# Settings\n",
        "np.set_printoptions(precision=3)\n",
        "pd.set_option('display.max_columns', None)\n",
        "\n",
        "sns.set_style(style='darkgrid')\n",
        "plt.rcParams['axes.labelsize'] = 12\n",
        "plt.rcParams['xtick.labelsize'] = 8\n",
        "plt.rcParams['ytick.labelsize'] = 8"
      ],
      "execution_count": null,
      "outputs": []
    },
    {
      "cell_type": "markdown",
      "metadata": {
        "colab_type": "text",
        "id": "CC4nKYIhmFl6"
      },
      "source": [
        "# Load Data"
      ]
    },
    {
      "cell_type": "code",
      "metadata": {
        "colab_type": "code",
        "id": "QSDAFcETnGW4",
        "colab": {}
      },
      "source": [
        "header = ['duration', 'protocol_type', 'service', 'flag', 'src_bytes',\n",
        "          'dst_bytes', 'land', 'wrong_fragment', 'urgent', 'hot',\n",
        "          'num_failed_logins', 'logged_in', 'num_compromised', 'root_shell',\n",
        "          'su_attempted', 'num_root', 'num_file_creations', 'num_shells',\n",
        "          'num_access_files', 'num_outbound_cmds', 'is_host_login',\n",
        "          'is_guest_login', 'count', 'srv_count', 'serror_rate',\n",
        "          'srv_serror_rate', 'rerror_rate', 'srv_rerror_rate', 'same_srv_rate',\n",
        "          'diff_srv_rate', 'srv_diff_host_rate', 'dst_host_count',\n",
        "          'dst_host_srv_count', 'dst_host_same_srv_rate', 'dst_host_diff_srv_rate', 'dst_host_same_src_port_rate',\n",
        "          'dst_host_srv_diff_host_rate', 'dst_host_serror_rate',\n",
        "          'dst_host_srv_serror_rate', 'dst_host_rerror_rate',\n",
        "          'dst_host_srv_rerror_rate', 'attack_type', 'difficulty_level']"
      ],
      "execution_count": null,
      "outputs": []
    },
    {
      "cell_type": "code",
      "metadata": {
        "colab_type": "code",
        "id": "KB6MyNwBlw2k",
        "colab": {}
      },
      "source": [
        "data = pd.read_csv('/content/drive/My Drive/ML_Project/NSL_KDD-master/KDDTrain+_20Percent.txt', names=header)"
      ],
      "execution_count": null,
      "outputs": []
    },
    {
      "cell_type": "code",
      "metadata": {
        "colab_type": "code",
        "id": "4fegHeuQm-Al",
        "colab": {
          "base_uri": "https://localhost:8080/"
        },
        "outputId": "a276c12b-61dd-4d8d-b2f8-af488b422625"
      },
      "source": [
        "print('Data has {} rows & {} columns'.format(data.shape[0],data.shape[1]))\n",
        "data.head()"
      ],
      "execution_count": null,
      "outputs": [
        {
          "output_type": "stream",
          "text": [
            "Data has 25192 rows & 43 columns\n"
          ],
          "name": "stdout"
        },
        {
          "output_type": "execute_result",
          "data": {
            "text/html": [
              "<div>\n",
              "<style scoped>\n",
              "    .dataframe tbody tr th:only-of-type {\n",
              "        vertical-align: middle;\n",
              "    }\n",
              "\n",
              "    .dataframe tbody tr th {\n",
              "        vertical-align: top;\n",
              "    }\n",
              "\n",
              "    .dataframe thead th {\n",
              "        text-align: right;\n",
              "    }\n",
              "</style>\n",
              "<table border=\"1\" class=\"dataframe\">\n",
              "  <thead>\n",
              "    <tr style=\"text-align: right;\">\n",
              "      <th></th>\n",
              "      <th>duration</th>\n",
              "      <th>protocol_type</th>\n",
              "      <th>service</th>\n",
              "      <th>flag</th>\n",
              "      <th>src_bytes</th>\n",
              "      <th>dst_bytes</th>\n",
              "      <th>land</th>\n",
              "      <th>wrong_fragment</th>\n",
              "      <th>urgent</th>\n",
              "      <th>hot</th>\n",
              "      <th>num_failed_logins</th>\n",
              "      <th>logged_in</th>\n",
              "      <th>num_compromised</th>\n",
              "      <th>root_shell</th>\n",
              "      <th>su_attempted</th>\n",
              "      <th>num_root</th>\n",
              "      <th>num_file_creations</th>\n",
              "      <th>num_shells</th>\n",
              "      <th>num_access_files</th>\n",
              "      <th>num_outbound_cmds</th>\n",
              "      <th>is_host_login</th>\n",
              "      <th>is_guest_login</th>\n",
              "      <th>count</th>\n",
              "      <th>srv_count</th>\n",
              "      <th>serror_rate</th>\n",
              "      <th>srv_serror_rate</th>\n",
              "      <th>rerror_rate</th>\n",
              "      <th>srv_rerror_rate</th>\n",
              "      <th>same_srv_rate</th>\n",
              "      <th>diff_srv_rate</th>\n",
              "      <th>srv_diff_host_rate</th>\n",
              "      <th>dst_host_count</th>\n",
              "      <th>dst_host_srv_count</th>\n",
              "      <th>dst_host_same_srv_rate</th>\n",
              "      <th>dst_host_diff_srv_rate</th>\n",
              "      <th>dst_host_same_src_port_rate</th>\n",
              "      <th>dst_host_srv_diff_host_rate</th>\n",
              "      <th>dst_host_serror_rate</th>\n",
              "      <th>dst_host_srv_serror_rate</th>\n",
              "      <th>dst_host_rerror_rate</th>\n",
              "      <th>dst_host_srv_rerror_rate</th>\n",
              "      <th>attack_type</th>\n",
              "      <th>difficulty_level</th>\n",
              "    </tr>\n",
              "  </thead>\n",
              "  <tbody>\n",
              "    <tr>\n",
              "      <th>0</th>\n",
              "      <td>0</td>\n",
              "      <td>tcp</td>\n",
              "      <td>ftp_data</td>\n",
              "      <td>SF</td>\n",
              "      <td>491</td>\n",
              "      <td>0</td>\n",
              "      <td>0</td>\n",
              "      <td>0</td>\n",
              "      <td>0</td>\n",
              "      <td>0</td>\n",
              "      <td>0</td>\n",
              "      <td>0</td>\n",
              "      <td>0</td>\n",
              "      <td>0</td>\n",
              "      <td>0</td>\n",
              "      <td>0</td>\n",
              "      <td>0</td>\n",
              "      <td>0</td>\n",
              "      <td>0</td>\n",
              "      <td>0</td>\n",
              "      <td>0</td>\n",
              "      <td>0</td>\n",
              "      <td>2</td>\n",
              "      <td>2</td>\n",
              "      <td>0.0</td>\n",
              "      <td>0.0</td>\n",
              "      <td>0.0</td>\n",
              "      <td>0.0</td>\n",
              "      <td>1.00</td>\n",
              "      <td>0.00</td>\n",
              "      <td>0.00</td>\n",
              "      <td>150</td>\n",
              "      <td>25</td>\n",
              "      <td>0.17</td>\n",
              "      <td>0.03</td>\n",
              "      <td>0.17</td>\n",
              "      <td>0.00</td>\n",
              "      <td>0.00</td>\n",
              "      <td>0.00</td>\n",
              "      <td>0.05</td>\n",
              "      <td>0.00</td>\n",
              "      <td>normal</td>\n",
              "      <td>20</td>\n",
              "    </tr>\n",
              "    <tr>\n",
              "      <th>1</th>\n",
              "      <td>0</td>\n",
              "      <td>udp</td>\n",
              "      <td>other</td>\n",
              "      <td>SF</td>\n",
              "      <td>146</td>\n",
              "      <td>0</td>\n",
              "      <td>0</td>\n",
              "      <td>0</td>\n",
              "      <td>0</td>\n",
              "      <td>0</td>\n",
              "      <td>0</td>\n",
              "      <td>0</td>\n",
              "      <td>0</td>\n",
              "      <td>0</td>\n",
              "      <td>0</td>\n",
              "      <td>0</td>\n",
              "      <td>0</td>\n",
              "      <td>0</td>\n",
              "      <td>0</td>\n",
              "      <td>0</td>\n",
              "      <td>0</td>\n",
              "      <td>0</td>\n",
              "      <td>13</td>\n",
              "      <td>1</td>\n",
              "      <td>0.0</td>\n",
              "      <td>0.0</td>\n",
              "      <td>0.0</td>\n",
              "      <td>0.0</td>\n",
              "      <td>0.08</td>\n",
              "      <td>0.15</td>\n",
              "      <td>0.00</td>\n",
              "      <td>255</td>\n",
              "      <td>1</td>\n",
              "      <td>0.00</td>\n",
              "      <td>0.60</td>\n",
              "      <td>0.88</td>\n",
              "      <td>0.00</td>\n",
              "      <td>0.00</td>\n",
              "      <td>0.00</td>\n",
              "      <td>0.00</td>\n",
              "      <td>0.00</td>\n",
              "      <td>normal</td>\n",
              "      <td>15</td>\n",
              "    </tr>\n",
              "    <tr>\n",
              "      <th>2</th>\n",
              "      <td>0</td>\n",
              "      <td>tcp</td>\n",
              "      <td>private</td>\n",
              "      <td>S0</td>\n",
              "      <td>0</td>\n",
              "      <td>0</td>\n",
              "      <td>0</td>\n",
              "      <td>0</td>\n",
              "      <td>0</td>\n",
              "      <td>0</td>\n",
              "      <td>0</td>\n",
              "      <td>0</td>\n",
              "      <td>0</td>\n",
              "      <td>0</td>\n",
              "      <td>0</td>\n",
              "      <td>0</td>\n",
              "      <td>0</td>\n",
              "      <td>0</td>\n",
              "      <td>0</td>\n",
              "      <td>0</td>\n",
              "      <td>0</td>\n",
              "      <td>0</td>\n",
              "      <td>123</td>\n",
              "      <td>6</td>\n",
              "      <td>1.0</td>\n",
              "      <td>1.0</td>\n",
              "      <td>0.0</td>\n",
              "      <td>0.0</td>\n",
              "      <td>0.05</td>\n",
              "      <td>0.07</td>\n",
              "      <td>0.00</td>\n",
              "      <td>255</td>\n",
              "      <td>26</td>\n",
              "      <td>0.10</td>\n",
              "      <td>0.05</td>\n",
              "      <td>0.00</td>\n",
              "      <td>0.00</td>\n",
              "      <td>1.00</td>\n",
              "      <td>1.00</td>\n",
              "      <td>0.00</td>\n",
              "      <td>0.00</td>\n",
              "      <td>neptune</td>\n",
              "      <td>19</td>\n",
              "    </tr>\n",
              "    <tr>\n",
              "      <th>3</th>\n",
              "      <td>0</td>\n",
              "      <td>tcp</td>\n",
              "      <td>http</td>\n",
              "      <td>SF</td>\n",
              "      <td>232</td>\n",
              "      <td>8153</td>\n",
              "      <td>0</td>\n",
              "      <td>0</td>\n",
              "      <td>0</td>\n",
              "      <td>0</td>\n",
              "      <td>0</td>\n",
              "      <td>1</td>\n",
              "      <td>0</td>\n",
              "      <td>0</td>\n",
              "      <td>0</td>\n",
              "      <td>0</td>\n",
              "      <td>0</td>\n",
              "      <td>0</td>\n",
              "      <td>0</td>\n",
              "      <td>0</td>\n",
              "      <td>0</td>\n",
              "      <td>0</td>\n",
              "      <td>5</td>\n",
              "      <td>5</td>\n",
              "      <td>0.2</td>\n",
              "      <td>0.2</td>\n",
              "      <td>0.0</td>\n",
              "      <td>0.0</td>\n",
              "      <td>1.00</td>\n",
              "      <td>0.00</td>\n",
              "      <td>0.00</td>\n",
              "      <td>30</td>\n",
              "      <td>255</td>\n",
              "      <td>1.00</td>\n",
              "      <td>0.00</td>\n",
              "      <td>0.03</td>\n",
              "      <td>0.04</td>\n",
              "      <td>0.03</td>\n",
              "      <td>0.01</td>\n",
              "      <td>0.00</td>\n",
              "      <td>0.01</td>\n",
              "      <td>normal</td>\n",
              "      <td>21</td>\n",
              "    </tr>\n",
              "    <tr>\n",
              "      <th>4</th>\n",
              "      <td>0</td>\n",
              "      <td>tcp</td>\n",
              "      <td>http</td>\n",
              "      <td>SF</td>\n",
              "      <td>199</td>\n",
              "      <td>420</td>\n",
              "      <td>0</td>\n",
              "      <td>0</td>\n",
              "      <td>0</td>\n",
              "      <td>0</td>\n",
              "      <td>0</td>\n",
              "      <td>1</td>\n",
              "      <td>0</td>\n",
              "      <td>0</td>\n",
              "      <td>0</td>\n",
              "      <td>0</td>\n",
              "      <td>0</td>\n",
              "      <td>0</td>\n",
              "      <td>0</td>\n",
              "      <td>0</td>\n",
              "      <td>0</td>\n",
              "      <td>0</td>\n",
              "      <td>30</td>\n",
              "      <td>32</td>\n",
              "      <td>0.0</td>\n",
              "      <td>0.0</td>\n",
              "      <td>0.0</td>\n",
              "      <td>0.0</td>\n",
              "      <td>1.00</td>\n",
              "      <td>0.00</td>\n",
              "      <td>0.09</td>\n",
              "      <td>255</td>\n",
              "      <td>255</td>\n",
              "      <td>1.00</td>\n",
              "      <td>0.00</td>\n",
              "      <td>0.00</td>\n",
              "      <td>0.00</td>\n",
              "      <td>0.00</td>\n",
              "      <td>0.00</td>\n",
              "      <td>0.00</td>\n",
              "      <td>0.00</td>\n",
              "      <td>normal</td>\n",
              "      <td>21</td>\n",
              "    </tr>\n",
              "  </tbody>\n",
              "</table>\n",
              "</div>"
            ],
            "text/plain": [
              "   duration protocol_type   service flag  src_bytes  dst_bytes  land  \\\n",
              "0         0           tcp  ftp_data   SF        491          0     0   \n",
              "1         0           udp     other   SF        146          0     0   \n",
              "2         0           tcp   private   S0          0          0     0   \n",
              "3         0           tcp      http   SF        232       8153     0   \n",
              "4         0           tcp      http   SF        199        420     0   \n",
              "\n",
              "   wrong_fragment  urgent  hot  num_failed_logins  logged_in  num_compromised  \\\n",
              "0               0       0    0                  0          0                0   \n",
              "1               0       0    0                  0          0                0   \n",
              "2               0       0    0                  0          0                0   \n",
              "3               0       0    0                  0          1                0   \n",
              "4               0       0    0                  0          1                0   \n",
              "\n",
              "   root_shell  su_attempted  num_root  num_file_creations  num_shells  \\\n",
              "0           0             0         0                   0           0   \n",
              "1           0             0         0                   0           0   \n",
              "2           0             0         0                   0           0   \n",
              "3           0             0         0                   0           0   \n",
              "4           0             0         0                   0           0   \n",
              "\n",
              "   num_access_files  num_outbound_cmds  is_host_login  is_guest_login  count  \\\n",
              "0                 0                  0              0               0      2   \n",
              "1                 0                  0              0               0     13   \n",
              "2                 0                  0              0               0    123   \n",
              "3                 0                  0              0               0      5   \n",
              "4                 0                  0              0               0     30   \n",
              "\n",
              "   srv_count  serror_rate  srv_serror_rate  rerror_rate  srv_rerror_rate  \\\n",
              "0          2          0.0              0.0          0.0              0.0   \n",
              "1          1          0.0              0.0          0.0              0.0   \n",
              "2          6          1.0              1.0          0.0              0.0   \n",
              "3          5          0.2              0.2          0.0              0.0   \n",
              "4         32          0.0              0.0          0.0              0.0   \n",
              "\n",
              "   same_srv_rate  diff_srv_rate  srv_diff_host_rate  dst_host_count  \\\n",
              "0           1.00           0.00                0.00             150   \n",
              "1           0.08           0.15                0.00             255   \n",
              "2           0.05           0.07                0.00             255   \n",
              "3           1.00           0.00                0.00              30   \n",
              "4           1.00           0.00                0.09             255   \n",
              "\n",
              "   dst_host_srv_count  dst_host_same_srv_rate  dst_host_diff_srv_rate  \\\n",
              "0                  25                    0.17                    0.03   \n",
              "1                   1                    0.00                    0.60   \n",
              "2                  26                    0.10                    0.05   \n",
              "3                 255                    1.00                    0.00   \n",
              "4                 255                    1.00                    0.00   \n",
              "\n",
              "   dst_host_same_src_port_rate  dst_host_srv_diff_host_rate  \\\n",
              "0                         0.17                         0.00   \n",
              "1                         0.88                         0.00   \n",
              "2                         0.00                         0.00   \n",
              "3                         0.03                         0.04   \n",
              "4                         0.00                         0.00   \n",
              "\n",
              "   dst_host_serror_rate  dst_host_srv_serror_rate  dst_host_rerror_rate  \\\n",
              "0                  0.00                      0.00                  0.05   \n",
              "1                  0.00                      0.00                  0.00   \n",
              "2                  1.00                      1.00                  0.00   \n",
              "3                  0.03                      0.01                  0.00   \n",
              "4                  0.00                      0.00                  0.00   \n",
              "\n",
              "   dst_host_srv_rerror_rate attack_type  difficulty_level  \n",
              "0                      0.00      normal                20  \n",
              "1                      0.00      normal                15  \n",
              "2                      0.00     neptune                19  \n",
              "3                      0.01      normal                21  \n",
              "4                      0.00      normal                21  "
            ]
          },
          "metadata": {
            "tags": []
          },
          "execution_count": 5
        }
      ]
    },
    {
      "cell_type": "markdown",
      "metadata": {
        "colab_type": "text",
        "id": "rn1qb3AKoC0x"
      },
      "source": [
        "# Exploratory Analysis"
      ]
    },
    {
      "cell_type": "code",
      "metadata": {
        "colab_type": "code",
        "id": "dqKS0Jq3n1F6",
        "colab": {
          "base_uri": "https://localhost:8080/"
        },
        "outputId": "dfe31898-9fe2-4904-e09b-f25e8ad025d2"
      },
      "source": [
        "# Descriptive Statistics\n",
        "data.describe().transpose()"
      ],
      "execution_count": null,
      "outputs": [
        {
          "output_type": "execute_result",
          "data": {
            "text/html": [
              "<div>\n",
              "<style scoped>\n",
              "    .dataframe tbody tr th:only-of-type {\n",
              "        vertical-align: middle;\n",
              "    }\n",
              "\n",
              "    .dataframe tbody tr th {\n",
              "        vertical-align: top;\n",
              "    }\n",
              "\n",
              "    .dataframe thead th {\n",
              "        text-align: right;\n",
              "    }\n",
              "</style>\n",
              "<table border=\"1\" class=\"dataframe\">\n",
              "  <thead>\n",
              "    <tr style=\"text-align: right;\">\n",
              "      <th></th>\n",
              "      <th>count</th>\n",
              "      <th>mean</th>\n",
              "      <th>std</th>\n",
              "      <th>min</th>\n",
              "      <th>25%</th>\n",
              "      <th>50%</th>\n",
              "      <th>75%</th>\n",
              "      <th>max</th>\n",
              "    </tr>\n",
              "  </thead>\n",
              "  <tbody>\n",
              "    <tr>\n",
              "      <th>duration</th>\n",
              "      <td>25192.0</td>\n",
              "      <td>305.054104</td>\n",
              "      <td>2.686556e+03</td>\n",
              "      <td>0.0</td>\n",
              "      <td>0.00</td>\n",
              "      <td>0.00</td>\n",
              "      <td>0.00</td>\n",
              "      <td>42862.0</td>\n",
              "    </tr>\n",
              "    <tr>\n",
              "      <th>src_bytes</th>\n",
              "      <td>25192.0</td>\n",
              "      <td>24330.628215</td>\n",
              "      <td>2.410805e+06</td>\n",
              "      <td>0.0</td>\n",
              "      <td>0.00</td>\n",
              "      <td>44.00</td>\n",
              "      <td>279.00</td>\n",
              "      <td>381709090.0</td>\n",
              "    </tr>\n",
              "    <tr>\n",
              "      <th>dst_bytes</th>\n",
              "      <td>25192.0</td>\n",
              "      <td>3491.847174</td>\n",
              "      <td>8.883072e+04</td>\n",
              "      <td>0.0</td>\n",
              "      <td>0.00</td>\n",
              "      <td>0.00</td>\n",
              "      <td>530.25</td>\n",
              "      <td>5151385.0</td>\n",
              "    </tr>\n",
              "    <tr>\n",
              "      <th>land</th>\n",
              "      <td>25192.0</td>\n",
              "      <td>0.000079</td>\n",
              "      <td>8.909946e-03</td>\n",
              "      <td>0.0</td>\n",
              "      <td>0.00</td>\n",
              "      <td>0.00</td>\n",
              "      <td>0.00</td>\n",
              "      <td>1.0</td>\n",
              "    </tr>\n",
              "    <tr>\n",
              "      <th>wrong_fragment</th>\n",
              "      <td>25192.0</td>\n",
              "      <td>0.023738</td>\n",
              "      <td>2.602208e-01</td>\n",
              "      <td>0.0</td>\n",
              "      <td>0.00</td>\n",
              "      <td>0.00</td>\n",
              "      <td>0.00</td>\n",
              "      <td>3.0</td>\n",
              "    </tr>\n",
              "    <tr>\n",
              "      <th>urgent</th>\n",
              "      <td>25192.0</td>\n",
              "      <td>0.000040</td>\n",
              "      <td>6.300408e-03</td>\n",
              "      <td>0.0</td>\n",
              "      <td>0.00</td>\n",
              "      <td>0.00</td>\n",
              "      <td>0.00</td>\n",
              "      <td>1.0</td>\n",
              "    </tr>\n",
              "    <tr>\n",
              "      <th>hot</th>\n",
              "      <td>25192.0</td>\n",
              "      <td>0.198039</td>\n",
              "      <td>2.154202e+00</td>\n",
              "      <td>0.0</td>\n",
              "      <td>0.00</td>\n",
              "      <td>0.00</td>\n",
              "      <td>0.00</td>\n",
              "      <td>77.0</td>\n",
              "    </tr>\n",
              "    <tr>\n",
              "      <th>num_failed_logins</th>\n",
              "      <td>25192.0</td>\n",
              "      <td>0.001191</td>\n",
              "      <td>4.541818e-02</td>\n",
              "      <td>0.0</td>\n",
              "      <td>0.00</td>\n",
              "      <td>0.00</td>\n",
              "      <td>0.00</td>\n",
              "      <td>4.0</td>\n",
              "    </tr>\n",
              "    <tr>\n",
              "      <th>logged_in</th>\n",
              "      <td>25192.0</td>\n",
              "      <td>0.394768</td>\n",
              "      <td>4.888105e-01</td>\n",
              "      <td>0.0</td>\n",
              "      <td>0.00</td>\n",
              "      <td>0.00</td>\n",
              "      <td>1.00</td>\n",
              "      <td>1.0</td>\n",
              "    </tr>\n",
              "    <tr>\n",
              "      <th>num_compromised</th>\n",
              "      <td>25192.0</td>\n",
              "      <td>0.227850</td>\n",
              "      <td>1.041735e+01</td>\n",
              "      <td>0.0</td>\n",
              "      <td>0.00</td>\n",
              "      <td>0.00</td>\n",
              "      <td>0.00</td>\n",
              "      <td>884.0</td>\n",
              "    </tr>\n",
              "    <tr>\n",
              "      <th>root_shell</th>\n",
              "      <td>25192.0</td>\n",
              "      <td>0.001548</td>\n",
              "      <td>3.931635e-02</td>\n",
              "      <td>0.0</td>\n",
              "      <td>0.00</td>\n",
              "      <td>0.00</td>\n",
              "      <td>0.00</td>\n",
              "      <td>1.0</td>\n",
              "    </tr>\n",
              "    <tr>\n",
              "      <th>su_attempted</th>\n",
              "      <td>25192.0</td>\n",
              "      <td>0.001350</td>\n",
              "      <td>4.878505e-02</td>\n",
              "      <td>0.0</td>\n",
              "      <td>0.00</td>\n",
              "      <td>0.00</td>\n",
              "      <td>0.00</td>\n",
              "      <td>2.0</td>\n",
              "    </tr>\n",
              "    <tr>\n",
              "      <th>num_root</th>\n",
              "      <td>25192.0</td>\n",
              "      <td>0.249841</td>\n",
              "      <td>1.150084e+01</td>\n",
              "      <td>0.0</td>\n",
              "      <td>0.00</td>\n",
              "      <td>0.00</td>\n",
              "      <td>0.00</td>\n",
              "      <td>975.0</td>\n",
              "    </tr>\n",
              "    <tr>\n",
              "      <th>num_file_creations</th>\n",
              "      <td>25192.0</td>\n",
              "      <td>0.014727</td>\n",
              "      <td>5.296023e-01</td>\n",
              "      <td>0.0</td>\n",
              "      <td>0.00</td>\n",
              "      <td>0.00</td>\n",
              "      <td>0.00</td>\n",
              "      <td>40.0</td>\n",
              "    </tr>\n",
              "    <tr>\n",
              "      <th>num_shells</th>\n",
              "      <td>25192.0</td>\n",
              "      <td>0.000357</td>\n",
              "      <td>1.889822e-02</td>\n",
              "      <td>0.0</td>\n",
              "      <td>0.00</td>\n",
              "      <td>0.00</td>\n",
              "      <td>0.00</td>\n",
              "      <td>1.0</td>\n",
              "    </tr>\n",
              "    <tr>\n",
              "      <th>num_access_files</th>\n",
              "      <td>25192.0</td>\n",
              "      <td>0.004327</td>\n",
              "      <td>9.852398e-02</td>\n",
              "      <td>0.0</td>\n",
              "      <td>0.00</td>\n",
              "      <td>0.00</td>\n",
              "      <td>0.00</td>\n",
              "      <td>8.0</td>\n",
              "    </tr>\n",
              "    <tr>\n",
              "      <th>num_outbound_cmds</th>\n",
              "      <td>25192.0</td>\n",
              "      <td>0.000000</td>\n",
              "      <td>0.000000e+00</td>\n",
              "      <td>0.0</td>\n",
              "      <td>0.00</td>\n",
              "      <td>0.00</td>\n",
              "      <td>0.00</td>\n",
              "      <td>0.0</td>\n",
              "    </tr>\n",
              "    <tr>\n",
              "      <th>is_host_login</th>\n",
              "      <td>25192.0</td>\n",
              "      <td>0.000000</td>\n",
              "      <td>0.000000e+00</td>\n",
              "      <td>0.0</td>\n",
              "      <td>0.00</td>\n",
              "      <td>0.00</td>\n",
              "      <td>0.00</td>\n",
              "      <td>0.0</td>\n",
              "    </tr>\n",
              "    <tr>\n",
              "      <th>is_guest_login</th>\n",
              "      <td>25192.0</td>\n",
              "      <td>0.009130</td>\n",
              "      <td>9.511512e-02</td>\n",
              "      <td>0.0</td>\n",
              "      <td>0.00</td>\n",
              "      <td>0.00</td>\n",
              "      <td>0.00</td>\n",
              "      <td>1.0</td>\n",
              "    </tr>\n",
              "    <tr>\n",
              "      <th>count</th>\n",
              "      <td>25192.0</td>\n",
              "      <td>84.591180</td>\n",
              "      <td>1.146735e+02</td>\n",
              "      <td>1.0</td>\n",
              "      <td>2.00</td>\n",
              "      <td>14.00</td>\n",
              "      <td>144.00</td>\n",
              "      <td>511.0</td>\n",
              "    </tr>\n",
              "    <tr>\n",
              "      <th>srv_count</th>\n",
              "      <td>25192.0</td>\n",
              "      <td>27.698754</td>\n",
              "      <td>7.246824e+01</td>\n",
              "      <td>1.0</td>\n",
              "      <td>2.00</td>\n",
              "      <td>8.00</td>\n",
              "      <td>18.00</td>\n",
              "      <td>511.0</td>\n",
              "    </tr>\n",
              "    <tr>\n",
              "      <th>serror_rate</th>\n",
              "      <td>25192.0</td>\n",
              "      <td>0.286338</td>\n",
              "      <td>4.473123e-01</td>\n",
              "      <td>0.0</td>\n",
              "      <td>0.00</td>\n",
              "      <td>0.00</td>\n",
              "      <td>1.00</td>\n",
              "      <td>1.0</td>\n",
              "    </tr>\n",
              "    <tr>\n",
              "      <th>srv_serror_rate</th>\n",
              "      <td>25192.0</td>\n",
              "      <td>0.283762</td>\n",
              "      <td>4.475989e-01</td>\n",
              "      <td>0.0</td>\n",
              "      <td>0.00</td>\n",
              "      <td>0.00</td>\n",
              "      <td>1.00</td>\n",
              "      <td>1.0</td>\n",
              "    </tr>\n",
              "    <tr>\n",
              "      <th>rerror_rate</th>\n",
              "      <td>25192.0</td>\n",
              "      <td>0.118630</td>\n",
              "      <td>3.187455e-01</td>\n",
              "      <td>0.0</td>\n",
              "      <td>0.00</td>\n",
              "      <td>0.00</td>\n",
              "      <td>0.00</td>\n",
              "      <td>1.0</td>\n",
              "    </tr>\n",
              "    <tr>\n",
              "      <th>srv_rerror_rate</th>\n",
              "      <td>25192.0</td>\n",
              "      <td>0.120260</td>\n",
              "      <td>3.223354e-01</td>\n",
              "      <td>0.0</td>\n",
              "      <td>0.00</td>\n",
              "      <td>0.00</td>\n",
              "      <td>0.00</td>\n",
              "      <td>1.0</td>\n",
              "    </tr>\n",
              "    <tr>\n",
              "      <th>same_srv_rate</th>\n",
              "      <td>25192.0</td>\n",
              "      <td>0.660559</td>\n",
              "      <td>4.396374e-01</td>\n",
              "      <td>0.0</td>\n",
              "      <td>0.09</td>\n",
              "      <td>1.00</td>\n",
              "      <td>1.00</td>\n",
              "      <td>1.0</td>\n",
              "    </tr>\n",
              "    <tr>\n",
              "      <th>diff_srv_rate</th>\n",
              "      <td>25192.0</td>\n",
              "      <td>0.062363</td>\n",
              "      <td>1.785500e-01</td>\n",
              "      <td>0.0</td>\n",
              "      <td>0.00</td>\n",
              "      <td>0.00</td>\n",
              "      <td>0.06</td>\n",
              "      <td>1.0</td>\n",
              "    </tr>\n",
              "    <tr>\n",
              "      <th>srv_diff_host_rate</th>\n",
              "      <td>25192.0</td>\n",
              "      <td>0.095931</td>\n",
              "      <td>2.565828e-01</td>\n",
              "      <td>0.0</td>\n",
              "      <td>0.00</td>\n",
              "      <td>0.00</td>\n",
              "      <td>0.00</td>\n",
              "      <td>1.0</td>\n",
              "    </tr>\n",
              "    <tr>\n",
              "      <th>dst_host_count</th>\n",
              "      <td>25192.0</td>\n",
              "      <td>182.532074</td>\n",
              "      <td>9.899390e+01</td>\n",
              "      <td>0.0</td>\n",
              "      <td>84.00</td>\n",
              "      <td>255.00</td>\n",
              "      <td>255.00</td>\n",
              "      <td>255.0</td>\n",
              "    </tr>\n",
              "    <tr>\n",
              "      <th>dst_host_srv_count</th>\n",
              "      <td>25192.0</td>\n",
              "      <td>115.063036</td>\n",
              "      <td>1.106469e+02</td>\n",
              "      <td>0.0</td>\n",
              "      <td>10.00</td>\n",
              "      <td>61.00</td>\n",
              "      <td>255.00</td>\n",
              "      <td>255.0</td>\n",
              "    </tr>\n",
              "    <tr>\n",
              "      <th>dst_host_same_srv_rate</th>\n",
              "      <td>25192.0</td>\n",
              "      <td>0.519791</td>\n",
              "      <td>4.489439e-01</td>\n",
              "      <td>0.0</td>\n",
              "      <td>0.05</td>\n",
              "      <td>0.51</td>\n",
              "      <td>1.00</td>\n",
              "      <td>1.0</td>\n",
              "    </tr>\n",
              "    <tr>\n",
              "      <th>dst_host_diff_srv_rate</th>\n",
              "      <td>25192.0</td>\n",
              "      <td>0.082539</td>\n",
              "      <td>1.871911e-01</td>\n",
              "      <td>0.0</td>\n",
              "      <td>0.00</td>\n",
              "      <td>0.03</td>\n",
              "      <td>0.07</td>\n",
              "      <td>1.0</td>\n",
              "    </tr>\n",
              "    <tr>\n",
              "      <th>dst_host_same_src_port_rate</th>\n",
              "      <td>25192.0</td>\n",
              "      <td>0.147453</td>\n",
              "      <td>3.083666e-01</td>\n",
              "      <td>0.0</td>\n",
              "      <td>0.00</td>\n",
              "      <td>0.00</td>\n",
              "      <td>0.06</td>\n",
              "      <td>1.0</td>\n",
              "    </tr>\n",
              "    <tr>\n",
              "      <th>dst_host_srv_diff_host_rate</th>\n",
              "      <td>25192.0</td>\n",
              "      <td>0.031844</td>\n",
              "      <td>1.105750e-01</td>\n",
              "      <td>0.0</td>\n",
              "      <td>0.00</td>\n",
              "      <td>0.00</td>\n",
              "      <td>0.02</td>\n",
              "      <td>1.0</td>\n",
              "    </tr>\n",
              "    <tr>\n",
              "      <th>dst_host_serror_rate</th>\n",
              "      <td>25192.0</td>\n",
              "      <td>0.285800</td>\n",
              "      <td>4.453165e-01</td>\n",
              "      <td>0.0</td>\n",
              "      <td>0.00</td>\n",
              "      <td>0.00</td>\n",
              "      <td>1.00</td>\n",
              "      <td>1.0</td>\n",
              "    </tr>\n",
              "    <tr>\n",
              "      <th>dst_host_srv_serror_rate</th>\n",
              "      <td>25192.0</td>\n",
              "      <td>0.279846</td>\n",
              "      <td>4.460753e-01</td>\n",
              "      <td>0.0</td>\n",
              "      <td>0.00</td>\n",
              "      <td>0.00</td>\n",
              "      <td>1.00</td>\n",
              "      <td>1.0</td>\n",
              "    </tr>\n",
              "    <tr>\n",
              "      <th>dst_host_rerror_rate</th>\n",
              "      <td>25192.0</td>\n",
              "      <td>0.117800</td>\n",
              "      <td>3.058692e-01</td>\n",
              "      <td>0.0</td>\n",
              "      <td>0.00</td>\n",
              "      <td>0.00</td>\n",
              "      <td>0.00</td>\n",
              "      <td>1.0</td>\n",
              "    </tr>\n",
              "    <tr>\n",
              "      <th>dst_host_srv_rerror_rate</th>\n",
              "      <td>25192.0</td>\n",
              "      <td>0.118769</td>\n",
              "      <td>3.173335e-01</td>\n",
              "      <td>0.0</td>\n",
              "      <td>0.00</td>\n",
              "      <td>0.00</td>\n",
              "      <td>0.00</td>\n",
              "      <td>1.0</td>\n",
              "    </tr>\n",
              "    <tr>\n",
              "      <th>difficulty_level</th>\n",
              "      <td>25192.0</td>\n",
              "      <td>19.487695</td>\n",
              "      <td>2.328541e+00</td>\n",
              "      <td>0.0</td>\n",
              "      <td>18.00</td>\n",
              "      <td>20.00</td>\n",
              "      <td>21.00</td>\n",
              "      <td>21.0</td>\n",
              "    </tr>\n",
              "  </tbody>\n",
              "</table>\n",
              "</div>"
            ],
            "text/plain": [
              "                               count          mean           std  min    25%  \\\n",
              "duration                     25192.0    305.054104  2.686556e+03  0.0   0.00   \n",
              "src_bytes                    25192.0  24330.628215  2.410805e+06  0.0   0.00   \n",
              "dst_bytes                    25192.0   3491.847174  8.883072e+04  0.0   0.00   \n",
              "land                         25192.0      0.000079  8.909946e-03  0.0   0.00   \n",
              "wrong_fragment               25192.0      0.023738  2.602208e-01  0.0   0.00   \n",
              "urgent                       25192.0      0.000040  6.300408e-03  0.0   0.00   \n",
              "hot                          25192.0      0.198039  2.154202e+00  0.0   0.00   \n",
              "num_failed_logins            25192.0      0.001191  4.541818e-02  0.0   0.00   \n",
              "logged_in                    25192.0      0.394768  4.888105e-01  0.0   0.00   \n",
              "num_compromised              25192.0      0.227850  1.041735e+01  0.0   0.00   \n",
              "root_shell                   25192.0      0.001548  3.931635e-02  0.0   0.00   \n",
              "su_attempted                 25192.0      0.001350  4.878505e-02  0.0   0.00   \n",
              "num_root                     25192.0      0.249841  1.150084e+01  0.0   0.00   \n",
              "num_file_creations           25192.0      0.014727  5.296023e-01  0.0   0.00   \n",
              "num_shells                   25192.0      0.000357  1.889822e-02  0.0   0.00   \n",
              "num_access_files             25192.0      0.004327  9.852398e-02  0.0   0.00   \n",
              "num_outbound_cmds            25192.0      0.000000  0.000000e+00  0.0   0.00   \n",
              "is_host_login                25192.0      0.000000  0.000000e+00  0.0   0.00   \n",
              "is_guest_login               25192.0      0.009130  9.511512e-02  0.0   0.00   \n",
              "count                        25192.0     84.591180  1.146735e+02  1.0   2.00   \n",
              "srv_count                    25192.0     27.698754  7.246824e+01  1.0   2.00   \n",
              "serror_rate                  25192.0      0.286338  4.473123e-01  0.0   0.00   \n",
              "srv_serror_rate              25192.0      0.283762  4.475989e-01  0.0   0.00   \n",
              "rerror_rate                  25192.0      0.118630  3.187455e-01  0.0   0.00   \n",
              "srv_rerror_rate              25192.0      0.120260  3.223354e-01  0.0   0.00   \n",
              "same_srv_rate                25192.0      0.660559  4.396374e-01  0.0   0.09   \n",
              "diff_srv_rate                25192.0      0.062363  1.785500e-01  0.0   0.00   \n",
              "srv_diff_host_rate           25192.0      0.095931  2.565828e-01  0.0   0.00   \n",
              "dst_host_count               25192.0    182.532074  9.899390e+01  0.0  84.00   \n",
              "dst_host_srv_count           25192.0    115.063036  1.106469e+02  0.0  10.00   \n",
              "dst_host_same_srv_rate       25192.0      0.519791  4.489439e-01  0.0   0.05   \n",
              "dst_host_diff_srv_rate       25192.0      0.082539  1.871911e-01  0.0   0.00   \n",
              "dst_host_same_src_port_rate  25192.0      0.147453  3.083666e-01  0.0   0.00   \n",
              "dst_host_srv_diff_host_rate  25192.0      0.031844  1.105750e-01  0.0   0.00   \n",
              "dst_host_serror_rate         25192.0      0.285800  4.453165e-01  0.0   0.00   \n",
              "dst_host_srv_serror_rate     25192.0      0.279846  4.460753e-01  0.0   0.00   \n",
              "dst_host_rerror_rate         25192.0      0.117800  3.058692e-01  0.0   0.00   \n",
              "dst_host_srv_rerror_rate     25192.0      0.118769  3.173335e-01  0.0   0.00   \n",
              "difficulty_level             25192.0     19.487695  2.328541e+00  0.0  18.00   \n",
              "\n",
              "                                50%     75%          max  \n",
              "duration                       0.00    0.00      42862.0  \n",
              "src_bytes                     44.00  279.00  381709090.0  \n",
              "dst_bytes                      0.00  530.25    5151385.0  \n",
              "land                           0.00    0.00          1.0  \n",
              "wrong_fragment                 0.00    0.00          3.0  \n",
              "urgent                         0.00    0.00          1.0  \n",
              "hot                            0.00    0.00         77.0  \n",
              "num_failed_logins              0.00    0.00          4.0  \n",
              "logged_in                      0.00    1.00          1.0  \n",
              "num_compromised                0.00    0.00        884.0  \n",
              "root_shell                     0.00    0.00          1.0  \n",
              "su_attempted                   0.00    0.00          2.0  \n",
              "num_root                       0.00    0.00        975.0  \n",
              "num_file_creations             0.00    0.00         40.0  \n",
              "num_shells                     0.00    0.00          1.0  \n",
              "num_access_files               0.00    0.00          8.0  \n",
              "num_outbound_cmds              0.00    0.00          0.0  \n",
              "is_host_login                  0.00    0.00          0.0  \n",
              "is_guest_login                 0.00    0.00          1.0  \n",
              "count                         14.00  144.00        511.0  \n",
              "srv_count                      8.00   18.00        511.0  \n",
              "serror_rate                    0.00    1.00          1.0  \n",
              "srv_serror_rate                0.00    1.00          1.0  \n",
              "rerror_rate                    0.00    0.00          1.0  \n",
              "srv_rerror_rate                0.00    0.00          1.0  \n",
              "same_srv_rate                  1.00    1.00          1.0  \n",
              "diff_srv_rate                  0.00    0.06          1.0  \n",
              "srv_diff_host_rate             0.00    0.00          1.0  \n",
              "dst_host_count               255.00  255.00        255.0  \n",
              "dst_host_srv_count            61.00  255.00        255.0  \n",
              "dst_host_same_srv_rate         0.51    1.00          1.0  \n",
              "dst_host_diff_srv_rate         0.03    0.07          1.0  \n",
              "dst_host_same_src_port_rate    0.00    0.06          1.0  \n",
              "dst_host_srv_diff_host_rate    0.00    0.02          1.0  \n",
              "dst_host_serror_rate           0.00    1.00          1.0  \n",
              "dst_host_srv_serror_rate       0.00    1.00          1.0  \n",
              "dst_host_rerror_rate           0.00    0.00          1.0  \n",
              "dst_host_srv_rerror_rate       0.00    0.00          1.0  \n",
              "difficulty_level              20.00   21.00         21.0  "
            ]
          },
          "metadata": {
            "tags": []
          },
          "execution_count": 6
        }
      ]
    },
    {
      "cell_type": "code",
      "metadata": {
        "colab_type": "code",
        "id": "w5P7Ih4OoMva",
        "colab": {
          "base_uri": "https://localhost:8080/"
        },
        "outputId": "6c991899-1e1f-4374-95ed-554ed961cd53"
      },
      "source": [
        "print(data['num_outbound_cmds'].value_counts())"
      ],
      "execution_count": null,
      "outputs": [
        {
          "output_type": "stream",
          "text": [
            "0    25192\n",
            "Name: num_outbound_cmds, dtype: int64\n"
          ],
          "name": "stdout"
        }
      ]
    },
    {
      "cell_type": "code",
      "metadata": {
        "colab_type": "code",
        "id": "qdy92zeNofeA",
        "colab": {}
      },
      "source": [
        "# since num_outbound_cmds is a redundant colums, so remove it from dataset\n",
        "data.drop(['num_outbound_cmds'], axis=1, inplace=True)\n",
        "data.drop(['difficulty_level'], axis=1, inplace=True)"
      ],
      "execution_count": null,
      "outputs": []
    },
    {
      "cell_type": "code",
      "metadata": {
        "colab_type": "code",
        "id": "nrtUuz5Uo5wg",
        "colab": {
          "base_uri": "https://localhost:8080/"
        },
        "outputId": "4da17182-873e-49fa-b7ab-246810f073d7"
      },
      "source": [
        "# Attack class Distribution\n",
        "data['attack_type'].value_counts()"
      ],
      "execution_count": null,
      "outputs": [
        {
          "output_type": "execute_result",
          "data": {
            "text/plain": [
              "normal             13449\n",
              "neptune             8282\n",
              "ipsweep              710\n",
              "satan                691\n",
              "portsweep            587\n",
              "smurf                529\n",
              "nmap                 301\n",
              "back                 196\n",
              "teardrop             188\n",
              "warezclient          181\n",
              "pod                   38\n",
              "guess_passwd          10\n",
              "warezmaster            7\n",
              "buffer_overflow        6\n",
              "imap                   5\n",
              "rootkit                4\n",
              "multihop               2\n",
              "phf                    2\n",
              "loadmodule             1\n",
              "ftp_write              1\n",
              "land                   1\n",
              "spy                    1\n",
              "Name: attack_type, dtype: int64"
            ]
          },
          "metadata": {
            "tags": []
          },
          "execution_count": 9
        }
      ]
    },
    {
      "cell_type": "code",
      "metadata": {
        "id": "3iOFfhtCD4D9",
        "colab_type": "code",
        "colab": {
          "base_uri": "https://localhost:8080/"
        },
        "outputId": "39599c09-0b63-4e7a-85c2-04bfc0a5b270"
      },
      "source": [
        "for i in range(len(data['attack_type'])):\n",
        "      if data['attack_type'][i] in ['neptune', 'land', 'back', 'pod', 'smurf', 'teardrop']:\n",
        "        data['attack_type'][i] = 'dos'\n",
        "      elif data['attack_type'][i] in ['buffer_overflow', 'loadmodule', 'perl', 'rootkit']:\n",
        "        data['attack_type'][i] = 'u2r'\n",
        "      elif data['attack_type'][i] in ['ftp_write', 'guess_passwd', 'imap', 'multihop', 'phf', 'spy', 'warezclient', 'warezmaster']:\n",
        "        data['attack_type'][i] = 'r2l'\n",
        "      elif data['attack_type'][i] in ['ipsweep', 'nmap', 'portsweep', 'satan']:\n",
        "        data['attack_type'][i] = 'probe'\n",
        "\n",
        "data['attack_type'].value_counts()"
      ],
      "execution_count": null,
      "outputs": [
        {
          "output_type": "execute_result",
          "data": {
            "text/plain": [
              "normal    13449\n",
              "dos        9234\n",
              "probe      2289\n",
              "r2l         209\n",
              "u2r          11\n",
              "Name: attack_type, dtype: int64"
            ]
          },
          "metadata": {
            "tags": []
          },
          "execution_count": 10
        }
      ]
    },
    {
      "cell_type": "code",
      "metadata": {
        "id": "WTKQZhCRPGdp",
        "colab_type": "code",
        "colab": {
          "base_uri": "https://localhost:8080/"
        },
        "outputId": "c6ae468c-a1e5-479a-84f1-0a453b4eef71"
      },
      "source": [
        "X = data.iloc[:,:-1].values\n",
        "Y = data.iloc[:,-1].values\n",
        "Y = Y.reshape(-1,1)\n",
        "print([X.shape, Y.shape])\n",
        "Y"
      ],
      "execution_count": null,
      "outputs": [
        {
          "output_type": "stream",
          "text": [
            "[(25192, 40), (25192, 1)]\n"
          ],
          "name": "stdout"
        },
        {
          "output_type": "execute_result",
          "data": {
            "text/plain": [
              "array([['normal'],\n",
              "       ['normal'],\n",
              "       ['dos'],\n",
              "       ...,\n",
              "       ['dos'],\n",
              "       ['dos'],\n",
              "       ['dos']], dtype=object)"
            ]
          },
          "metadata": {
            "tags": []
          },
          "execution_count": 11
        }
      ]
    },
    {
      "cell_type": "markdown",
      "metadata": {
        "colab_type": "text",
        "id": "Sn6P3lTJr9lH"
      },
      "source": [
        "# Encoding Categorical Attributes"
      ]
    },
    {
      "cell_type": "code",
      "metadata": {
        "colab_type": "code",
        "id": "koRKSD7crgv9",
        "colab": {
          "base_uri": "https://localhost:8080/"
        },
        "outputId": "f94f6d4f-e9ae-4fd6-fba3-e88e867837a6"
      },
      "source": [
        "from sklearn.preprocessing import LabelEncoder, OneHotEncoder\n",
        "encoder = LabelEncoder()\n",
        "\n",
        "X[:,1] = encoder.fit_transform(X[:,1])\n",
        "X[:,2] = encoder.fit_transform(X[:,2])\n",
        "X[:,3] = encoder.fit_transform(X[:,3])\n",
        "\n",
        "ohe_y = OneHotEncoder()\n",
        "y = encoder.fit_transform(Y).reshape(-1,1)\n",
        "Y = ohe_y.fit_transform(y).toarray()\n",
        "X.shape, Y.shape\n",
        "Y"
      ],
      "execution_count": null,
      "outputs": [
        {
          "output_type": "execute_result",
          "data": {
            "text/plain": [
              "array([[0., 1., 0., 0., 0.],\n",
              "       [0., 1., 0., 0., 0.],\n",
              "       [1., 0., 0., 0., 0.],\n",
              "       ...,\n",
              "       [1., 0., 0., 0., 0.],\n",
              "       [1., 0., 0., 0., 0.],\n",
              "       [1., 0., 0., 0., 0.]])"
            ]
          },
          "metadata": {
            "tags": []
          },
          "execution_count": 12
        }
      ]
    },
    {
      "cell_type": "code",
      "metadata": {
        "id": "dMzYMjnEUX6d",
        "colab_type": "code",
        "colab": {}
      },
      "source": [
        "cols = ['duration', 'protocol_type', 'service', 'flag', 'src_bytes',\n",
        "          'dst_bytes', 'land', 'wrong_fragment', 'urgent', 'hot',\n",
        "          'num_failed_logins', 'logged_in', 'num_compromised', 'root_shell',\n",
        "          'su_attempted', 'num_root', 'num_file_creations', 'num_shells',\n",
        "          'num_access_files', 'is_host_login',\n",
        "          'is_guest_login', 'count', 'srv_count', 'serror_rate',\n",
        "          'srv_serror_rate', 'rerror_rate', 'srv_rerror_rate', 'same_srv_rate',\n",
        "          'diff_srv_rate', 'srv_diff_host_rate', 'dst_host_count',\n",
        "          'dst_host_srv_count', 'dst_host_same_srv_rate', 'dst_host_diff_srv_rate', 'dst_host_same_src_port_rate',\n",
        "          'dst_host_srv_diff_host_rate', 'dst_host_serror_rate',\n",
        "          'dst_host_srv_serror_rate', 'dst_host_rerror_rate',\n",
        "          'dst_host_srv_rerror_rate']"
      ],
      "execution_count": null,
      "outputs": []
    },
    {
      "cell_type": "code",
      "metadata": {
        "id": "7BiCR0uMUGxy",
        "colab_type": "code",
        "colab": {
          "base_uri": "https://localhost:8080/"
        },
        "outputId": "76a70b05-88a9-465d-d835-58652918f45e"
      },
      "source": [
        "data_x = pd.DataFrame(X,columns=cols)\n",
        "data_y = pd.DataFrame(y)\n",
        "data_y"
      ],
      "execution_count": null,
      "outputs": [
        {
          "output_type": "execute_result",
          "data": {
            "text/html": [
              "<div>\n",
              "<style scoped>\n",
              "    .dataframe tbody tr th:only-of-type {\n",
              "        vertical-align: middle;\n",
              "    }\n",
              "\n",
              "    .dataframe tbody tr th {\n",
              "        vertical-align: top;\n",
              "    }\n",
              "\n",
              "    .dataframe thead th {\n",
              "        text-align: right;\n",
              "    }\n",
              "</style>\n",
              "<table border=\"1\" class=\"dataframe\">\n",
              "  <thead>\n",
              "    <tr style=\"text-align: right;\">\n",
              "      <th></th>\n",
              "      <th>0</th>\n",
              "    </tr>\n",
              "  </thead>\n",
              "  <tbody>\n",
              "    <tr>\n",
              "      <th>0</th>\n",
              "      <td>1</td>\n",
              "    </tr>\n",
              "    <tr>\n",
              "      <th>1</th>\n",
              "      <td>1</td>\n",
              "    </tr>\n",
              "    <tr>\n",
              "      <th>2</th>\n",
              "      <td>0</td>\n",
              "    </tr>\n",
              "    <tr>\n",
              "      <th>3</th>\n",
              "      <td>1</td>\n",
              "    </tr>\n",
              "    <tr>\n",
              "      <th>4</th>\n",
              "      <td>1</td>\n",
              "    </tr>\n",
              "    <tr>\n",
              "      <th>...</th>\n",
              "      <td>...</td>\n",
              "    </tr>\n",
              "    <tr>\n",
              "      <th>25187</th>\n",
              "      <td>0</td>\n",
              "    </tr>\n",
              "    <tr>\n",
              "      <th>25188</th>\n",
              "      <td>3</td>\n",
              "    </tr>\n",
              "    <tr>\n",
              "      <th>25189</th>\n",
              "      <td>0</td>\n",
              "    </tr>\n",
              "    <tr>\n",
              "      <th>25190</th>\n",
              "      <td>0</td>\n",
              "    </tr>\n",
              "    <tr>\n",
              "      <th>25191</th>\n",
              "      <td>0</td>\n",
              "    </tr>\n",
              "  </tbody>\n",
              "</table>\n",
              "<p>25192 rows × 1 columns</p>\n",
              "</div>"
            ],
            "text/plain": [
              "       0\n",
              "0      1\n",
              "1      1\n",
              "2      0\n",
              "3      1\n",
              "4      1\n",
              "...   ..\n",
              "25187  0\n",
              "25188  3\n",
              "25189  0\n",
              "25190  0\n",
              "25191  0\n",
              "\n",
              "[25192 rows x 1 columns]"
            ]
          },
          "metadata": {
            "tags": []
          },
          "execution_count": 14
        }
      ]
    },
    {
      "cell_type": "markdown",
      "metadata": {
        "colab_type": "text",
        "id": "kwAarQmCwKFr"
      },
      "source": [
        "# Feature Selection"
      ]
    },
    {
      "cell_type": "code",
      "metadata": {
        "id": "V1bKoi00ms4x",
        "colab_type": "code",
        "colab": {
          "base_uri": "https://localhost:8080/"
        },
        "outputId": "8061d7fc-1bce-4fa8-fd23-253d8f816052"
      },
      "source": [
        "corr_matrix = data.corr(method='pearson')\n",
        "# print(corr_matrix)\n",
        "plt.figure(figsize=(6, 6),dpi=125)\n",
        "sns.heatmap(corr_matrix, center=True, square=True, cbar=True, linewidths=1.9, cbar_kws={\"orientation\": \"vertical\"})"
      ],
      "execution_count": null,
      "outputs": [
        {
          "output_type": "execute_result",
          "data": {
            "text/plain": [
              "<matplotlib.axes._subplots.AxesSubplot at 0x7f7245998c18>"
            ]
          },
          "metadata": {
            "tags": []
          },
          "execution_count": 33
        },
        {
          "output_type": "display_data",
          "data": {
            "image/png": "[encoded data removed]",
            "text/plain": [
              "<Figure size 750x750 with 2 Axes>"
            ]
          },
          "metadata": {
            "tags": []
          }
        }
      ]
    },
    {
      "cell_type": "code",
      "metadata": {
        "colab_type": "code",
        "id": "uxIjCzFpwDE_",
        "colab": {
          "base_uri": "https://localhost:8080/"
        },
        "outputId": "6c7ec847-9d84-4d7b-ae96-b84fb8fbd109"
      },
      "source": [
        "from sklearn.ensemble import RandomForestClassifier\n",
        "rfc = RandomForestClassifier()\n",
        "rfc.fit(data_x,data_y)\n",
        "\n",
        "# extract important features\n",
        "score = np.round(rfc.feature_importances_,3)\n",
        "importances = pd.DataFrame({'feature':data_x.columns, 'importance':score})\n",
        "importances = importances.sort_values('importance',ascending=False).set_index('feature')\n",
        "# plot importances\n",
        "plt.rcParams['figure.figsize'] = (15,6)\n",
        "importances.plot.bar()"
      ],
      "execution_count": null,
      "outputs": [
        {
          "output_type": "execute_result",
          "data": {
            "text/plain": [
              "<matplotlib.axes._subplots.AxesSubplot at 0x7f7244999198>"
            ]
          },
          "metadata": {
            "tags": []
          },
          "execution_count": 34
        },
        {
          "output_type": "display_data",
          "data": {
            "image/png": "[encoded data removed]",
            "text/plain": [
              "<Figure size 1080x432 with 1 Axes>"
            ]
          },
          "metadata": {
            "tags": []
          }
        }
      ]
    },
    {
      "cell_type": "code",
      "metadata": {
        "colab_type": "code",
        "id": "_-dGKbMhxNrL",
        "colab": {
          "base_uri": "https://localhost:8080/"
        },
        "outputId": "98d64f6d-fcd3-40f6-c20c-0dc5ab3fc332"
      },
      "source": [
        "from sklearn.feature_selection import RFE\n",
        "import itertools\n",
        "rfc = RandomForestClassifier()\n",
        "\n",
        "# create RFE model and select 15 attributes\n",
        "rfe = RFE(rfc, n_features_to_select = 15)\n",
        "rfe = rfe.fit(data_x, data_y)\n",
        "\n",
        "# summarize the selection of the attributes\n",
        "feature_map = [(i, v) for i, v in itertools.zip_longest(rfe.get_support(), data_x.columns)]\n",
        "selected_features = [v for i, v in feature_map if i == True]\n",
        "\n",
        "selected_features"
      ],
      "execution_count": null,
      "outputs": [
        {
          "output_type": "execute_result",
          "data": {
            "text/plain": [
              "['protocol_type',\n",
              " 'service',\n",
              " 'flag',\n",
              " 'src_bytes',\n",
              " 'dst_bytes',\n",
              " 'count',\n",
              " 'srv_count',\n",
              " 'srv_serror_rate',\n",
              " 'same_srv_rate',\n",
              " 'diff_srv_rate',\n",
              " 'dst_host_srv_count',\n",
              " 'dst_host_diff_srv_rate',\n",
              " 'dst_host_same_src_port_rate',\n",
              " 'dst_host_serror_rate',\n",
              " 'dst_host_srv_serror_rate']"
            ]
          },
          "metadata": {
            "tags": []
          },
          "execution_count": 35
        }
      ]
    },
    {
      "cell_type": "code",
      "metadata": {
        "id": "uID9ZgH8lk66",
        "colab_type": "code",
        "colab": {
          "base_uri": "https://localhost:8080/"
        },
        "outputId": "4b641ed9-f204-4c77-b953-3372a1fa545a"
      },
      "source": [
        "data_x = data_x[selected_features]\n",
        "X = data_x[selected_features]\n",
        "X.head()"
      ],
      "execution_count": null,
      "outputs": [
        {
          "output_type": "execute_result",
          "data": {
            "text/html": [
              "<div>\n",
              "<style scoped>\n",
              "    .dataframe tbody tr th:only-of-type {\n",
              "        vertical-align: middle;\n",
              "    }\n",
              "\n",
              "    .dataframe tbody tr th {\n",
              "        vertical-align: top;\n",
              "    }\n",
              "\n",
              "    .dataframe thead th {\n",
              "        text-align: right;\n",
              "    }\n",
              "</style>\n",
              "<table border=\"1\" class=\"dataframe\">\n",
              "  <thead>\n",
              "    <tr style=\"text-align: right;\">\n",
              "      <th></th>\n",
              "      <th>protocol_type</th>\n",
              "      <th>service</th>\n",
              "      <th>flag</th>\n",
              "      <th>src_bytes</th>\n",
              "      <th>dst_bytes</th>\n",
              "      <th>count</th>\n",
              "      <th>srv_count</th>\n",
              "      <th>srv_serror_rate</th>\n",
              "      <th>same_srv_rate</th>\n",
              "      <th>diff_srv_rate</th>\n",
              "      <th>dst_host_srv_count</th>\n",
              "      <th>dst_host_diff_srv_rate</th>\n",
              "      <th>dst_host_same_src_port_rate</th>\n",
              "      <th>dst_host_serror_rate</th>\n",
              "      <th>dst_host_srv_serror_rate</th>\n",
              "    </tr>\n",
              "  </thead>\n",
              "  <tbody>\n",
              "    <tr>\n",
              "      <th>0</th>\n",
              "      <td>1</td>\n",
              "      <td>19</td>\n",
              "      <td>9</td>\n",
              "      <td>491</td>\n",
              "      <td>0</td>\n",
              "      <td>2</td>\n",
              "      <td>2</td>\n",
              "      <td>0</td>\n",
              "      <td>1</td>\n",
              "      <td>0</td>\n",
              "      <td>25</td>\n",
              "      <td>0.03</td>\n",
              "      <td>0.17</td>\n",
              "      <td>0</td>\n",
              "      <td>0</td>\n",
              "    </tr>\n",
              "    <tr>\n",
              "      <th>1</th>\n",
              "      <td>2</td>\n",
              "      <td>41</td>\n",
              "      <td>9</td>\n",
              "      <td>146</td>\n",
              "      <td>0</td>\n",
              "      <td>13</td>\n",
              "      <td>1</td>\n",
              "      <td>0</td>\n",
              "      <td>0.08</td>\n",
              "      <td>0.15</td>\n",
              "      <td>1</td>\n",
              "      <td>0.6</td>\n",
              "      <td>0.88</td>\n",
              "      <td>0</td>\n",
              "      <td>0</td>\n",
              "    </tr>\n",
              "    <tr>\n",
              "      <th>2</th>\n",
              "      <td>1</td>\n",
              "      <td>46</td>\n",
              "      <td>5</td>\n",
              "      <td>0</td>\n",
              "      <td>0</td>\n",
              "      <td>123</td>\n",
              "      <td>6</td>\n",
              "      <td>1</td>\n",
              "      <td>0.05</td>\n",
              "      <td>0.07</td>\n",
              "      <td>26</td>\n",
              "      <td>0.05</td>\n",
              "      <td>0</td>\n",
              "      <td>1</td>\n",
              "      <td>1</td>\n",
              "    </tr>\n",
              "    <tr>\n",
              "      <th>3</th>\n",
              "      <td>1</td>\n",
              "      <td>22</td>\n",
              "      <td>9</td>\n",
              "      <td>232</td>\n",
              "      <td>8153</td>\n",
              "      <td>5</td>\n",
              "      <td>5</td>\n",
              "      <td>0.2</td>\n",
              "      <td>1</td>\n",
              "      <td>0</td>\n",
              "      <td>255</td>\n",
              "      <td>0</td>\n",
              "      <td>0.03</td>\n",
              "      <td>0.03</td>\n",
              "      <td>0.01</td>\n",
              "    </tr>\n",
              "    <tr>\n",
              "      <th>4</th>\n",
              "      <td>1</td>\n",
              "      <td>22</td>\n",
              "      <td>9</td>\n",
              "      <td>199</td>\n",
              "      <td>420</td>\n",
              "      <td>30</td>\n",
              "      <td>32</td>\n",
              "      <td>0</td>\n",
              "      <td>1</td>\n",
              "      <td>0</td>\n",
              "      <td>255</td>\n",
              "      <td>0</td>\n",
              "      <td>0</td>\n",
              "      <td>0</td>\n",
              "      <td>0</td>\n",
              "    </tr>\n",
              "  </tbody>\n",
              "</table>\n",
              "</div>"
            ],
            "text/plain": [
              "  protocol_type service flag src_bytes dst_bytes count srv_count  \\\n",
              "0             1      19    9       491         0     2         2   \n",
              "1             2      41    9       146         0    13         1   \n",
              "2             1      46    5         0         0   123         6   \n",
              "3             1      22    9       232      8153     5         5   \n",
              "4             1      22    9       199       420    30        32   \n",
              "\n",
              "  srv_serror_rate same_srv_rate diff_srv_rate dst_host_srv_count  \\\n",
              "0               0             1             0                 25   \n",
              "1               0          0.08          0.15                  1   \n",
              "2               1          0.05          0.07                 26   \n",
              "3             0.2             1             0                255   \n",
              "4               0             1             0                255   \n",
              "\n",
              "  dst_host_diff_srv_rate dst_host_same_src_port_rate dst_host_serror_rate  \\\n",
              "0                   0.03                        0.17                    0   \n",
              "1                    0.6                        0.88                    0   \n",
              "2                   0.05                           0                    1   \n",
              "3                      0                        0.03                 0.03   \n",
              "4                      0                           0                    0   \n",
              "\n",
              "  dst_host_srv_serror_rate  \n",
              "0                        0  \n",
              "1                        0  \n",
              "2                        1  \n",
              "3                     0.01  \n",
              "4                        0  "
            ]
          },
          "metadata": {
            "tags": []
          },
          "execution_count": 36
        }
      ]
    },
    {
      "cell_type": "markdown",
      "metadata": {
        "colab_type": "text",
        "id": "nKTuJ5fByvm6"
      },
      "source": [
        "# Dataset Partition"
      ]
    },
    {
      "cell_type": "code",
      "metadata": {
        "colab_type": "code",
        "id": "qFw6FaQcyfaR",
        "colab": {
          "base_uri": "https://localhost:8080/"
        },
        "outputId": "f6d96017-19ec-4d3e-cb21-74ee5bfadfbd"
      },
      "source": [
        "from sklearn.model_selection import train_test_split\n",
        "X_train, X_test, Y_train, Y_test = train_test_split(X, Y, test_size=0.3, random_state=42)\n",
        "print([X_train.shape, X_test.shape, Y_train.shape, Y_test.shape])"
      ],
      "execution_count": null,
      "outputs": [
        {
          "output_type": "stream",
          "text": [
            "[(17634, 15), (7558, 15), (17634, 5), (7558, 5)]\n"
          ],
          "name": "stdout"
        }
      ]
    },
    {
      "cell_type": "code",
      "metadata": {
        "id": "Mp-cKDg7ntSH",
        "colab_type": "code",
        "colab": {
          "base_uri": "https://localhost:8080/"
        },
        "outputId": "fd5427a7-b103-46cd-9263-71166f4fce73"
      },
      "source": [
        "# for RNN\n",
        "X_tr = X_train.to_numpy().reshape(X_train.shape[0],X_train.shape[1], 1)\n",
        "X_te = X_test.to_numpy().reshape(X_test.shape[0],X_test.shape[1], 1)\n",
        "X_tr.shape, X_te.shape"
      ],
      "execution_count": null,
      "outputs": [
        {
          "output_type": "execute_result",
          "data": {
            "text/plain": [
              "((17634, 15, 1), (7558, 15, 1))"
            ]
          },
          "metadata": {
            "tags": []
          },
          "execution_count": 38
        }
      ]
    },
    {
      "cell_type": "code",
      "metadata": {
        "id": "OVCM2KD4ZVku",
        "colab_type": "code",
        "colab": {
          "base_uri": "https://localhost:8080/"
        },
        "outputId": "b69045b4-df09-46fa-89ab-003879299106"
      },
      "source": [
        "data_y.head()"
      ],
      "execution_count": null,
      "outputs": [
        {
          "output_type": "execute_result",
          "data": {
            "text/html": [
              "<div>\n",
              "<style scoped>\n",
              "    .dataframe tbody tr th:only-of-type {\n",
              "        vertical-align: middle;\n",
              "    }\n",
              "\n",
              "    .dataframe tbody tr th {\n",
              "        vertical-align: top;\n",
              "    }\n",
              "\n",
              "    .dataframe thead th {\n",
              "        text-align: right;\n",
              "    }\n",
              "</style>\n",
              "<table border=\"1\" class=\"dataframe\">\n",
              "  <thead>\n",
              "    <tr style=\"text-align: right;\">\n",
              "      <th></th>\n",
              "      <th>0</th>\n",
              "    </tr>\n",
              "  </thead>\n",
              "  <tbody>\n",
              "    <tr>\n",
              "      <th>0</th>\n",
              "      <td>1</td>\n",
              "    </tr>\n",
              "    <tr>\n",
              "      <th>1</th>\n",
              "      <td>1</td>\n",
              "    </tr>\n",
              "    <tr>\n",
              "      <th>2</th>\n",
              "      <td>0</td>\n",
              "    </tr>\n",
              "    <tr>\n",
              "      <th>3</th>\n",
              "      <td>1</td>\n",
              "    </tr>\n",
              "    <tr>\n",
              "      <th>4</th>\n",
              "      <td>1</td>\n",
              "    </tr>\n",
              "  </tbody>\n",
              "</table>\n",
              "</div>"
            ],
            "text/plain": [
              "   0\n",
              "0  1\n",
              "1  1\n",
              "2  0\n",
              "3  1\n",
              "4  1"
            ]
          },
          "metadata": {
            "tags": []
          },
          "execution_count": 39
        }
      ]
    },
    {
      "cell_type": "markdown",
      "metadata": {
        "colab_type": "text",
        "id": "IQmcEZcaqKc1"
      },
      "source": [
        "# Scaling Numerical Attributes"
      ]
    },
    {
      "cell_type": "code",
      "metadata": {
        "colab_type": "code",
        "id": "gWWp-EL2qGox",
        "colab": {
          "base_uri": "https://localhost:8080/"
        },
        "outputId": "cc39098b-51a9-4370-9a5a-341215158a5b"
      },
      "source": [
        "from sklearn.preprocessing import StandardScaler\n",
        "scaler = StandardScaler()\n",
        "X_train = scaler.fit_transform(X_train)\n",
        "X_test = scaler.transform(X_test)\n",
        "X_train.shape, X_test.shape"
      ],
      "execution_count": null,
      "outputs": [
        {
          "output_type": "execute_result",
          "data": {
            "text/plain": [
              "((17634, 15), (7558, 15))"
            ]
          },
          "metadata": {
            "tags": []
          },
          "execution_count": 40
        }
      ]
    },
    {
      "cell_type": "markdown",
      "metadata": {
        "colab_type": "text",
        "id": "Jk3R1A0lzCwa"
      },
      "source": [
        "# Fitting Models\n"
      ]
    },
    {
      "cell_type": "code",
      "metadata": {
        "id": "RRlD8kRFlk7C",
        "colab_type": "code",
        "colab": {
          "base_uri": "https://localhost:8080/"
        },
        "outputId": "ed15abca-12cb-4ea1-ac8d-2e1e1c45bc68"
      },
      "source": [
        "import keras\n",
        "from keras.models import Sequential,Model\n",
        "from keras.layers import Dense,Dropout,LSTM,Input\n",
        "from keras.optimizers import Adam\n",
        "from sklearn.model_selection import cross_val_score\n",
        "from keras.wrappers.scikit_learn import KerasClassifier\n",
        "from sklearn.model_selection import KFold\n",
        "from sklearn.pipeline import Pipeline\n",
        "from sklearn.preprocessing import StandardScaler"
      ],
      "execution_count": null,
      "outputs": [
        {
          "output_type": "stream",
          "text": [
            "Using TensorFlow backend.\n"
          ],
          "name": "stderr"
        }
      ]
    },
    {
      "cell_type": "code",
      "metadata": {
        "id": "9HGOJu-HSwF9",
        "colab_type": "code",
        "colab": {}
      },
      "source": [
        "acc_score_evaluate = [['Model', 'Accuracy']]\n",
        "acc_score_validation = [['Model', 'Accuracy']]"
      ],
      "execution_count": null,
      "outputs": []
    },
    {
      "cell_type": "markdown",
      "metadata": {
        "id": "79kCk62xAQ9J",
        "colab_type": "text"
      },
      "source": [
        "# RNN\n"
      ]
    },
    {
      "cell_type": "code",
      "metadata": {
        "id": "rYXiA-Nbw2nw",
        "colab_type": "code",
        "colab": {}
      },
      "source": [
        "def RNN(units, lr):\n",
        "  input_layer = Input(shape=(15,1), name='Input_layer')\n",
        "  layer = LSTM(units=units, dropout=0.2, recurrent_dropout=0.2, name='lstm_layer1')(input_layer)\n",
        "  layer = Dropout(0.5)(layer)\n",
        "  output_layer = Dense(5, activation='softmax')(layer)\n",
        "  model = Model(input_layer, output_layer, name='RNN_Model')\n",
        "  model.compile(optimizer=Adam(learning_rate=lr),loss='categorical_crossentropy', metrics=['accuracy'])\n",
        "  return model"
      ],
      "execution_count": null,
      "outputs": []
    },
    {
      "cell_type": "code",
      "metadata": {
        "id": "XjzMIVorKXve",
        "colab_type": "code",
        "colab": {}
      },
      "source": [
        "model_rnn = []"
      ],
      "execution_count": null,
      "outputs": []
    },
    {
      "cell_type": "code",
      "metadata": {
        "id": "VwsfwilE00BX",
        "colab_type": "code",
        "colab": {}
      },
      "source": [
        "params = [[20, 0.01], [20, 0.1], [20, 0.5], [60, 0.01], [60, 0.1], [60, 0.5],\n",
        "          [80, 0.01], [80, 0.1], [80, 0.5], [120, 0.01], [120, 0.1], [120, 0.5],\n",
        "          [240, 0.01], [240, 0.1], [240, 0.5]]"
      ],
      "execution_count": null,
      "outputs": []
    },
    {
      "cell_type": "code",
      "metadata": {
        "id": "ZHXQNVx_YtR-",
        "colab_type": "code",
        "colab": {
          "base_uri": "https://localhost:8080/",
          "height": 1000
        },
        "outputId": "7e1c777b-73c0-4201-d267-2fe3e3265135"
      },
      "source": [
        "for i in range(len(params)):\n",
        "  model_rnn.append(RNN(params[i][0], params[i][1]))\n",
        "  model_rnn[i].summary()"
      ],
      "execution_count": null,
      "outputs": [
        {
          "output_type": "stream",
          "text": [
            "Model: \"RNN_Model\"\n",
            "_________________________________________________________________\n",
            "Layer (type)                 Output Shape              Param #   \n",
            "=================================================================\n",
            "Input_layer (InputLayer)     (None, 15, 1)             0         \n",
            "_________________________________________________________________\n",
            "lstm_layer1 (LSTM)           (None, 20)                1760      \n",
            "_________________________________________________________________\n",
            "dropout_31 (Dropout)         (None, 20)                0         \n",
            "_________________________________________________________________\n",
            "dense_31 (Dense)             (None, 5)                 105       \n",
            "=================================================================\n",
            "Total params: 1,865\n",
            "Trainable params: 1,865\n",
            "Non-trainable params: 0\n",
            "_________________________________________________________________\n",
            "Model: \"RNN_Model\"\n",
            "_________________________________________________________________\n",
            "Layer (type)                 Output Shape              Param #   \n",
            "=================================================================\n",
            "Input_layer (InputLayer)     (None, 15, 1)             0         \n",
            "_________________________________________________________________\n",
            "lstm_layer1 (LSTM)           (None, 20)                1760      \n",
            "_________________________________________________________________\n",
            "dropout_32 (Dropout)         (None, 20)                0         \n",
            "_________________________________________________________________\n",
            "dense_32 (Dense)             (None, 5)                 105       \n",
            "=================================================================\n",
            "Total params: 1,865\n",
            "Trainable params: 1,865\n",
            "Non-trainable params: 0\n",
            "_________________________________________________________________\n",
            "Model: \"RNN_Model\"\n",
            "_________________________________________________________________\n",
            "Layer (type)                 Output Shape              Param #   \n",
            "=================================================================\n",
            "Input_layer (InputLayer)     (None, 15, 1)             0         \n",
            "_________________________________________________________________\n",
            "lstm_layer1 (LSTM)           (None, 20)                1760      \n",
            "_________________________________________________________________\n",
            "dropout_33 (Dropout)         (None, 20)                0         \n",
            "_________________________________________________________________\n",
            "dense_33 (Dense)             (None, 5)                 105       \n",
            "=================================================================\n",
            "Total params: 1,865\n",
            "Trainable params: 1,865\n",
            "Non-trainable params: 0\n",
            "_________________________________________________________________\n",
            "Model: \"RNN_Model\"\n",
            "_________________________________________________________________\n",
            "Layer (type)                 Output Shape              Param #   \n",
            "=================================================================\n",
            "Input_layer (InputLayer)     (None, 15, 1)             0         \n",
            "_________________________________________________________________\n",
            "lstm_layer1 (LSTM)           (None, 60)                14880     \n",
            "_________________________________________________________________\n",
            "dropout_34 (Dropout)         (None, 60)                0         \n",
            "_________________________________________________________________\n",
            "dense_34 (Dense)             (None, 5)                 305       \n",
            "=================================================================\n",
            "Total params: 15,185\n",
            "Trainable params: 15,185\n",
            "Non-trainable params: 0\n",
            "_________________________________________________________________\n",
            "Model: \"RNN_Model\"\n",
            "_________________________________________________________________\n",
            "Layer (type)                 Output Shape              Param #   \n",
            "=================================================================\n",
            "Input_layer (InputLayer)     (None, 15, 1)             0         \n",
            "_________________________________________________________________\n",
            "lstm_layer1 (LSTM)           (None, 60)                14880     \n",
            "_________________________________________________________________\n",
            "dropout_35 (Dropout)         (None, 60)                0         \n",
            "_________________________________________________________________\n",
            "dense_35 (Dense)             (None, 5)                 305       \n",
            "=================================================================\n",
            "Total params: 15,185\n",
            "Trainable params: 15,185\n",
            "Non-trainable params: 0\n",
            "_________________________________________________________________\n",
            "Model: \"RNN_Model\"\n",
            "_________________________________________________________________\n",
            "Layer (type)                 Output Shape              Param #   \n",
            "=================================================================\n",
            "Input_layer (InputLayer)     (None, 15, 1)             0         \n",
            "_________________________________________________________________\n",
            "lstm_layer1 (LSTM)           (None, 60)                14880     \n",
            "_________________________________________________________________\n",
            "dropout_36 (Dropout)         (None, 60)                0         \n",
            "_________________________________________________________________\n",
            "dense_36 (Dense)             (None, 5)                 305       \n",
            "=================================================================\n",
            "Total params: 15,185\n",
            "Trainable params: 15,185\n",
            "Non-trainable params: 0\n",
            "_________________________________________________________________\n",
            "Model: \"RNN_Model\"\n",
            "_________________________________________________________________\n",
            "Layer (type)                 Output Shape              Param #   \n",
            "=================================================================\n",
            "Input_layer (InputLayer)     (None, 15, 1)             0         \n",
            "_________________________________________________________________\n",
            "lstm_layer1 (LSTM)           (None, 80)                26240     \n",
            "_________________________________________________________________\n",
            "dropout_37 (Dropout)         (None, 80)                0         \n",
            "_________________________________________________________________\n",
            "dense_37 (Dense)             (None, 5)                 405       \n",
            "=================================================================\n",
            "Total params: 26,645\n",
            "Trainable params: 26,645\n",
            "Non-trainable params: 0\n",
            "_________________________________________________________________\n",
            "Model: \"RNN_Model\"\n",
            "_________________________________________________________________\n",
            "Layer (type)                 Output Shape              Param #   \n",
            "=================================================================\n",
            "Input_layer (InputLayer)     (None, 15, 1)             0         \n",
            "_________________________________________________________________\n",
            "lstm_layer1 (LSTM)           (None, 80)                26240     \n",
            "_________________________________________________________________\n",
            "dropout_38 (Dropout)         (None, 80)                0         \n",
            "_________________________________________________________________\n",
            "dense_38 (Dense)             (None, 5)                 405       \n",
            "=================================================================\n",
            "Total params: 26,645\n",
            "Trainable params: 26,645\n",
            "Non-trainable params: 0\n",
            "_________________________________________________________________\n",
            "Model: \"RNN_Model\"\n",
            "_________________________________________________________________\n",
            "Layer (type)                 Output Shape              Param #   \n",
            "=================================================================\n",
            "Input_layer (InputLayer)     (None, 15, 1)             0         \n",
            "_________________________________________________________________\n",
            "lstm_layer1 (LSTM)           (None, 80)                26240     \n",
            "_________________________________________________________________\n",
            "dropout_39 (Dropout)         (None, 80)                0         \n",
            "_________________________________________________________________\n",
            "dense_39 (Dense)             (None, 5)                 405       \n",
            "=================================================================\n",
            "Total params: 26,645\n",
            "Trainable params: 26,645\n",
            "Non-trainable params: 0\n",
            "_________________________________________________________________\n",
            "Model: \"RNN_Model\"\n",
            "_________________________________________________________________\n",
            "Layer (type)                 Output Shape              Param #   \n",
            "=================================================================\n",
            "Input_layer (InputLayer)     (None, 15, 1)             0         \n",
            "_________________________________________________________________\n",
            "lstm_layer1 (LSTM)           (None, 120)               58560     \n",
            "_________________________________________________________________\n",
            "dropout_40 (Dropout)         (None, 120)               0         \n",
            "_________________________________________________________________\n",
            "dense_40 (Dense)             (None, 5)                 605       \n",
            "=================================================================\n",
            "Total params: 59,165\n",
            "Trainable params: 59,165\n",
            "Non-trainable params: 0\n",
            "_________________________________________________________________\n",
            "Model: \"RNN_Model\"\n",
            "_________________________________________________________________\n",
            "Layer (type)                 Output Shape              Param #   \n",
            "=================================================================\n",
            "Input_layer (InputLayer)     (None, 15, 1)             0         \n",
            "_________________________________________________________________\n",
            "lstm_layer1 (LSTM)           (None, 120)               58560     \n",
            "_________________________________________________________________\n",
            "dropout_41 (Dropout)         (None, 120)               0         \n",
            "_________________________________________________________________\n",
            "dense_41 (Dense)             (None, 5)                 605       \n",
            "=================================================================\n",
            "Total params: 59,165\n",
            "Trainable params: 59,165\n",
            "Non-trainable params: 0\n",
            "_________________________________________________________________\n",
            "Model: \"RNN_Model\"\n",
            "_________________________________________________________________\n",
            "Layer (type)                 Output Shape              Param #   \n",
            "=================================================================\n",
            "Input_layer (InputLayer)     (None, 15, 1)             0         \n",
            "_________________________________________________________________\n",
            "lstm_layer1 (LSTM)           (None, 120)               58560     \n",
            "_________________________________________________________________\n",
            "dropout_42 (Dropout)         (None, 120)               0         \n",
            "_________________________________________________________________\n",
            "dense_42 (Dense)             (None, 5)                 605       \n",
            "=================================================================\n",
            "Total params: 59,165\n",
            "Trainable params: 59,165\n",
            "Non-trainable params: 0\n",
            "_________________________________________________________________\n",
            "Model: \"RNN_Model\"\n",
            "_________________________________________________________________\n",
            "Layer (type)                 Output Shape              Param #   \n",
            "=================================================================\n",
            "Input_layer (InputLayer)     (None, 15, 1)             0         \n",
            "_________________________________________________________________\n",
            "lstm_layer1 (LSTM)           (None, 240)               232320    \n",
            "_________________________________________________________________\n",
            "dropout_43 (Dropout)         (None, 240)               0         \n",
            "_________________________________________________________________\n",
            "dense_43 (Dense)             (None, 5)                 1205      \n",
            "=================================================================\n",
            "Total params: 233,525\n",
            "Trainable params: 233,525\n",
            "Non-trainable params: 0\n",
            "_________________________________________________________________\n",
            "Model: \"RNN_Model\"\n",
            "_________________________________________________________________\n",
            "Layer (type)                 Output Shape              Param #   \n",
            "=================================================================\n",
            "Input_layer (InputLayer)     (None, 15, 1)             0         \n",
            "_________________________________________________________________\n",
            "lstm_layer1 (LSTM)           (None, 240)               232320    \n",
            "_________________________________________________________________\n",
            "dropout_44 (Dropout)         (None, 240)               0         \n",
            "_________________________________________________________________\n",
            "dense_44 (Dense)             (None, 5)                 1205      \n",
            "=================================================================\n",
            "Total params: 233,525\n",
            "Trainable params: 233,525\n",
            "Non-trainable params: 0\n",
            "_________________________________________________________________\n",
            "Model: \"RNN_Model\"\n",
            "_________________________________________________________________\n",
            "Layer (type)                 Output Shape              Param #   \n",
            "=================================================================\n",
            "Input_layer (InputLayer)     (None, 15, 1)             0         \n",
            "_________________________________________________________________\n",
            "lstm_layer1 (LSTM)           (None, 240)               232320    \n",
            "_________________________________________________________________\n",
            "dropout_45 (Dropout)         (None, 240)               0         \n",
            "_________________________________________________________________\n",
            "dense_45 (Dense)             (None, 5)                 1205      \n",
            "=================================================================\n",
            "Total params: 233,525\n",
            "Trainable params: 233,525\n",
            "Non-trainable params: 0\n",
            "_________________________________________________________________\n"
          ],
          "name": "stdout"
        }
      ]
    },
    {
      "cell_type": "code",
      "metadata": {
        "id": "osuZwx71wYBF",
        "colab_type": "code",
        "colab": {
          "base_uri": "https://localhost:8080/",
          "height": 537
        },
        "outputId": "882fc22f-3f0b-47f5-9015-1fe13f5f97bf"
      },
      "source": [
        "from IPython.display import display\n",
        "for i in range(0,len(params),3):\n",
        "  img = keras.utils.plot_model(model_rnn[i], show_shapes=True, rankdir='LR')\n",
        "  display(img)"
      ],
      "execution_count": null,
      "outputs": [
        {
          "output_type": "display_data",
          "data": {
            "image/png": "[encoded data removed]",
            "text/plain": [
              "<IPython.core.display.Image object>"
            ]
          },
          "metadata": {
            "tags": []
          }
        },
        {
          "output_type": "display_data",
          "data": {
            "image/png": "[encoded data removed]",
            "text/plain": [
              "<IPython.core.display.Image object>"
            ]
          },
          "metadata": {
            "tags": []
          }
        },
        {
          "output_type": "display_data",
          "data": {
            "image/png": "[encoded data removed]",
            "text/plain": [
              "<IPython.core.display.Image object>"
            ]
          },
          "metadata": {
            "tags": []
          }
        },
        {
          "output_type": "display_data",
          "data": {
            "image/png": "[encoded data removed]",
            "text/plain": [
              "<IPython.core.display.Image object>"
            ]
          },
          "metadata": {
            "tags": []
          }
        },
        {
          "output_type": "display_data",
          "data": {
            "image/png": "[encoded data removed]",
            "text/plain": [
              "<IPython.core.display.Image object>"
            ]
          },
          "metadata": {
            "tags": []
          }
        }
      ]
    },
    {
      "cell_type": "code",
      "metadata": {
        "id": "2kCBQzSxdCR8",
        "colab_type": "code",
        "colab": {
          "base_uri": "https://localhost:8080/",
          "height": 1000
        },
        "outputId": "e78981e3-1efc-4a16-ad7d-928f74da270b"
      },
      "source": [
        "for i in range(len(params)):\n",
        "  print(f'Units: {params[i][0]} and Learning rate: {params[i][1]}\\n')\n",
        "  print('-'*100)\n",
        "  model_rnn[i].fit(X_tr, Y_train, batch_size=64,epochs=5)\n",
        "  print('-'*100)\n",
        "  print('\\n\\n')"
      ],
      "execution_count": null,
      "outputs": [
        {
          "output_type": "stream",
          "text": [
            "Units: 20 and Learning rate: 0.01\n",
            "\n",
            "Epoch 1/5\n",
            "17634/17634 [==============================] - 14s 791us/step - loss: 0.5921 - accuracy: 0.7785\n",
            "Epoch 2/5\n",
            "17634/17634 [==============================] - 13s 754us/step - loss: 0.4103 - accuracy: 0.8455\n",
            "Epoch 3/5\n",
            "17634/17634 [==============================] - 13s 758us/step - loss: 0.3752 - accuracy: 0.8559\n",
            "Epoch 4/5\n",
            "17634/17634 [==============================] - 13s 750us/step - loss: 0.3677 - accuracy: 0.8592\n",
            "Epoch 5/5\n",
            "17634/17634 [==============================] - 13s 765us/step - loss: 0.3493 - accuracy: 0.8640\n",
            "--------------------\n",
            "\n",
            "\n",
            "\n",
            "Units: 20 and Learning rate: 0.1\n",
            "\n",
            "Epoch 1/5\n",
            "17634/17634 [==============================] - 13s 757us/step - loss: 0.6015 - accuracy: 0.7622\n",
            "Epoch 2/5\n",
            "17634/17634 [==============================] - 13s 746us/step - loss: 0.5223 - accuracy: 0.7950\n",
            "Epoch 3/5\n",
            "17634/17634 [==============================] - 13s 739us/step - loss: 0.5358 - accuracy: 0.7876\n",
            "Epoch 4/5\n",
            "17634/17634 [==============================] - 13s 747us/step - loss: 0.5716 - accuracy: 0.7737\n",
            "Epoch 5/5\n",
            "17634/17634 [==============================] - 13s 756us/step - loss: 0.6064 - accuracy: 0.7624\n",
            "--------------------\n",
            "\n",
            "\n",
            "\n",
            "Units: 20 and Learning rate: 0.5\n",
            "\n",
            "Epoch 1/5\n",
            "17634/17634 [==============================] - 14s 785us/step - loss: 0.7726 - accuracy: 0.7242\n",
            "Epoch 2/5\n",
            "17634/17634 [==============================] - 13s 762us/step - loss: 0.7721 - accuracy: 0.7189\n",
            "Epoch 3/5\n",
            "17634/17634 [==============================] - 14s 766us/step - loss: 0.7691 - accuracy: 0.7221\n",
            "Epoch 4/5\n",
            "17634/17634 [==============================] - 13s 760us/step - loss: 0.7787 - accuracy: 0.7165\n",
            "Epoch 5/5\n",
            "17634/17634 [==============================] - 13s 759us/step - loss: 0.7984 - accuracy: 0.7107\n",
            "--------------------\n",
            "\n",
            "\n",
            "\n",
            "Units: 60 and Learning rate: 0.01\n",
            "\n",
            "Epoch 1/5\n",
            "17634/17634 [==============================] - 14s 803us/step - loss: 0.4804 - accuracy: 0.8146\n",
            "Epoch 2/5\n",
            "17634/17634 [==============================] - 14s 772us/step - loss: 0.3352 - accuracy: 0.8696\n",
            "Epoch 3/5\n",
            "17634/17634 [==============================] - 14s 769us/step - loss: 0.3247 - accuracy: 0.8683\n",
            "Epoch 4/5\n",
            "17634/17634 [==============================] - 14s 785us/step - loss: 0.3035 - accuracy: 0.8754\n",
            "Epoch 5/5\n",
            "17634/17634 [==============================] - 14s 776us/step - loss: 0.2997 - accuracy: 0.8791\n",
            "--------------------\n",
            "\n",
            "\n",
            "\n",
            "Units: 60 and Learning rate: 0.1\n",
            "\n",
            "Epoch 1/5\n",
            "17634/17634 [==============================] - 14s 783us/step - loss: 0.6145 - accuracy: 0.7530\n",
            "Epoch 2/5\n",
            "17634/17634 [==============================] - 14s 775us/step - loss: 0.5094 - accuracy: 0.7998\n",
            "Epoch 3/5\n",
            "17634/17634 [==============================] - 13s 764us/step - loss: 0.5056 - accuracy: 0.8000\n",
            "Epoch 4/5\n",
            "17634/17634 [==============================] - 14s 766us/step - loss: 0.5860 - accuracy: 0.7748\n",
            "Epoch 5/5\n",
            "17634/17634 [==============================] - 14s 772us/step - loss: 1.1815 - accuracy: 0.5557\n",
            "--------------------\n",
            "\n",
            "\n",
            "\n",
            "Units: 60 and Learning rate: 0.5\n",
            "\n",
            "Epoch 1/5\n",
            "17634/17634 [==============================] - 14s 798us/step - loss: 1.1779 - accuracy: 0.6042\n",
            "Epoch 2/5\n",
            "17634/17634 [==============================] - 14s 769us/step - loss: 1.0363 - accuracy: 0.6267\n",
            "Epoch 3/5\n",
            "17634/17634 [==============================] - 13s 758us/step - loss: 1.0123 - accuracy: 0.6257\n",
            "Epoch 4/5\n",
            "17634/17634 [==============================] - 14s 767us/step - loss: 1.0733 - accuracy: 0.6101\n",
            "Epoch 5/5\n",
            "17634/17634 [==============================] - 14s 770us/step - loss: 1.0316 - accuracy: 0.6219\n",
            "--------------------\n",
            "\n",
            "\n",
            "\n",
            "Units: 80 and Learning rate: 0.01\n",
            "\n",
            "Epoch 1/5\n",
            "17634/17634 [==============================] - 14s 791us/step - loss: 0.4766 - accuracy: 0.8136\n",
            "Epoch 2/5\n",
            "17634/17634 [==============================] - 14s 770us/step - loss: 0.3285 - accuracy: 0.8735\n",
            "Epoch 3/5\n",
            "17634/17634 [==============================] - 14s 777us/step - loss: 0.3136 - accuracy: 0.8782\n",
            "Epoch 4/5\n",
            "17634/17634 [==============================] - 14s 777us/step - loss: 0.3016 - accuracy: 0.8767\n",
            "Epoch 5/5\n",
            "17634/17634 [==============================] - 14s 774us/step - loss: 0.2988 - accuracy: 0.8797\n",
            "--------------------\n",
            "\n",
            "\n",
            "\n",
            "Units: 80 and Learning rate: 0.1\n",
            "\n",
            "Epoch 1/5\n",
            "17634/17634 [==============================] - 14s 781us/step - loss: 0.6128 - accuracy: 0.7496\n",
            "Epoch 2/5\n",
            "17634/17634 [==============================] - 14s 771us/step - loss: 0.6444 - accuracy: 0.7443\n",
            "Epoch 3/5\n",
            "17634/17634 [==============================] - 13s 760us/step - loss: 0.6207 - accuracy: 0.7510\n",
            "Epoch 4/5\n",
            "17634/17634 [==============================] - 14s 772us/step - loss: 0.6379 - accuracy: 0.7512\n",
            "Epoch 5/5\n",
            "17634/17634 [==============================] - 14s 771us/step - loss: 0.5939 - accuracy: 0.7652\n",
            "--------------------\n",
            "\n",
            "\n",
            "\n",
            "Units: 80 and Learning rate: 0.5\n",
            "\n",
            "Epoch 1/5\n",
            "17634/17634 [==============================] - 14s 778us/step - loss: 1.6975 - accuracy: 0.4471\n",
            "Epoch 2/5\n",
            "17634/17634 [==============================] - 14s 781us/step - loss: 1.4682 - accuracy: 0.4619\n",
            "Epoch 3/5\n",
            "17634/17634 [==============================] - 13s 740us/step - loss: 1.1973 - accuracy: 0.5150\n",
            "Epoch 4/5\n",
            "17634/17634 [==============================] - 13s 762us/step - loss: 1.3850 - accuracy: 0.4955\n",
            "Epoch 5/5\n",
            "17634/17634 [==============================] - 13s 751us/step - loss: 1.3496 - accuracy: 0.4985\n",
            "--------------------\n",
            "\n",
            "\n",
            "\n",
            "Units: 120 and Learning rate: 0.01\n",
            "\n",
            "Epoch 1/5\n",
            "17634/17634 [==============================] - 14s 784us/step - loss: 0.4784 - accuracy: 0.8159\n",
            "Epoch 2/5\n",
            "17634/17634 [==============================] - 14s 768us/step - loss: 0.3244 - accuracy: 0.8708\n",
            "Epoch 3/5\n",
            "17634/17634 [==============================] - 14s 782us/step - loss: 0.3025 - accuracy: 0.8798\n",
            "Epoch 4/5\n",
            "17634/17634 [==============================] - 14s 777us/step - loss: 0.3045 - accuracy: 0.8758\n",
            "Epoch 5/5\n",
            "17634/17634 [==============================] - 14s 767us/step - loss: 0.2916 - accuracy: 0.8814\n",
            "--------------------\n",
            "\n",
            "\n",
            "\n",
            "Units: 120 and Learning rate: 0.1\n",
            "\n",
            "Epoch 1/5\n",
            "17634/17634 [==============================] - 14s 796us/step - loss: 0.6290 - accuracy: 0.7471\n",
            "Epoch 2/5\n",
            "17634/17634 [==============================] - 14s 770us/step - loss: 1.1507 - accuracy: 0.6060\n",
            "Epoch 3/5\n",
            "17634/17634 [==============================] - 14s 784us/step - loss: 1.1513 - accuracy: 0.5354\n",
            "Epoch 4/5\n",
            "17634/17634 [==============================] - 14s 784us/step - loss: 1.2211 - accuracy: 0.5140\n",
            "Epoch 5/5\n",
            "17634/17634 [==============================] - 14s 777us/step - loss: 1.3721 - accuracy: 0.5050\n",
            "--------------------\n",
            "\n",
            "\n",
            "\n",
            "Units: 120 and Learning rate: 0.5\n",
            "\n",
            "Epoch 1/5\n",
            "17634/17634 [==============================] - 14s 807us/step - loss: 2.8452 - accuracy: 0.4340\n",
            "Epoch 2/5\n",
            "17634/17634 [==============================] - 14s 784us/step - loss: 2.1283 - accuracy: 0.4361\n",
            "Epoch 3/5\n",
            "17634/17634 [==============================] - 14s 777us/step - loss: 2.2422 - accuracy: 0.4343\n",
            "Epoch 4/5\n",
            "17634/17634 [==============================] - 14s 780us/step - loss: 2.4268 - accuracy: 0.4414\n",
            "Epoch 5/5\n",
            "17634/17634 [==============================] - 14s 781us/step - loss: 2.4590 - accuracy: 0.4305\n",
            "--------------------\n",
            "\n",
            "\n",
            "\n",
            "Units: 240 and Learning rate: 0.01\n",
            "\n",
            "Epoch 1/5\n",
            "17634/17634 [==============================] - 14s 814us/step - loss: 0.4661 - accuracy: 0.8181\n",
            "Epoch 2/5\n",
            "17634/17634 [==============================] - 14s 781us/step - loss: 0.3258 - accuracy: 0.8739\n",
            "Epoch 3/5\n",
            "17634/17634 [==============================] - 14s 794us/step - loss: 0.3044 - accuracy: 0.8763\n",
            "Epoch 4/5\n",
            "17634/17634 [==============================] - 14s 806us/step - loss: 0.3163 - accuracy: 0.8734\n",
            "Epoch 5/5\n",
            "17634/17634 [==============================] - 14s 790us/step - loss: 0.2969 - accuracy: 0.8795\n",
            "--------------------\n",
            "\n",
            "\n",
            "\n",
            "Units: 240 and Learning rate: 0.1\n",
            "\n",
            "Epoch 1/5\n",
            "17634/17634 [==============================] - 14s 816us/step - loss: 1.4334 - accuracy: 0.4699\n",
            "Epoch 2/5\n",
            "17634/17634 [==============================] - 14s 781us/step - loss: 1.2016 - accuracy: 0.5116\n",
            "Epoch 3/5\n",
            "17634/17634 [==============================] - 14s 771us/step - loss: 1.0899 - accuracy: 0.5404\n",
            "Epoch 4/5\n",
            "17634/17634 [==============================] - 14s 799us/step - loss: 1.0648 - accuracy: 0.5471\n",
            "Epoch 5/5\n",
            "17634/17634 [==============================] - 14s 804us/step - loss: 1.0711 - accuracy: 0.5529\n",
            "--------------------\n",
            "\n",
            "\n",
            "\n",
            "Units: 240 and Learning rate: 0.5\n",
            "\n",
            "Epoch 1/5\n",
            "17634/17634 [==============================] - 14s 812us/step - loss: 3.9279 - accuracy: 0.5095\n",
            "Epoch 2/5\n",
            "17634/17634 [==============================] - 14s 801us/step - loss: 4.8911 - accuracy: 0.4914\n",
            "Epoch 3/5\n",
            "17634/17634 [==============================] - 14s 798us/step - loss: 3.0565 - accuracy: 0.5206\n",
            "Epoch 4/5\n",
            "17634/17634 [==============================] - 14s 804us/step - loss: 2.7391 - accuracy: 0.5489\n",
            "Epoch 5/5\n",
            "17634/17634 [==============================] - 14s 798us/step - loss: 3.0881 - accuracy: 0.5475\n",
            "--------------------\n",
            "\n",
            "\n",
            "\n"
          ],
          "name": "stdout"
        }
      ]
    },
    {
      "cell_type": "code",
      "metadata": {
        "id": "3aZgm7dMdT6O",
        "colab_type": "code",
        "colab": {}
      },
      "source": [
        "rnn_acc_train = []\n",
        "rnn_acc_test = []"
      ],
      "execution_count": null,
      "outputs": []
    },
    {
      "cell_type": "code",
      "metadata": {
        "id": "I1lQ2703Q2N0",
        "colab_type": "code",
        "colab": {
          "base_uri": "https://localhost:8080/",
          "height": 773
        },
        "outputId": "f53d3543-af2d-4a95-85fd-9cb6b70eead5"
      },
      "source": [
        "for i in range(15):\n",
        "  score_rnn_eval = model_rnn[i].evaluate(X_tr, Y_train)\n",
        "  rnn_acc_train.append([(params[i][0], params[i][1]), score_rnn_eval[1]])\n",
        "  print(\"Loss: %.3f \\nAccuracy: %.3f \" %(score_rnn_eval[0],score_rnn_eval[1]))"
      ],
      "execution_count": null,
      "outputs": [
        {
          "output_type": "stream",
          "text": [
            "17634/17634 [==============================] - 3s 193us/step\n",
            "Loss: 0.132 \n",
            "Accuracy: 0.964 \n",
            "17634/17634 [==============================] - 3s 191us/step\n",
            "Loss: 0.307 \n",
            "Accuracy: 0.910 \n",
            "17634/17634 [==============================] - 3s 193us/step\n",
            "Loss: 0.921 \n",
            "Accuracy: 0.533 \n",
            "17634/17634 [==============================] - 3s 196us/step\n",
            "Loss: 0.112 \n",
            "Accuracy: 0.970 \n",
            "17634/17634 [==============================] - 3s 194us/step\n",
            "Loss: 0.792 \n",
            "Accuracy: 0.769 \n",
            "17634/17634 [==============================] - 3s 196us/step\n",
            "Loss: 0.671 \n",
            "Accuracy: 0.802 \n",
            "17634/17634 [==============================] - 3s 198us/step\n",
            "Loss: 0.108 \n",
            "Accuracy: 0.968 \n",
            "17634/17634 [==============================] - 3s 198us/step\n",
            "Loss: 0.432 \n",
            "Accuracy: 0.821 \n",
            "17634/17634 [==============================] - 4s 201us/step\n",
            "Loss: 1.458 \n",
            "Accuracy: 0.533 \n",
            "17634/17634 [==============================] - 4s 208us/step\n",
            "Loss: 0.102 \n",
            "Accuracy: 0.974 \n",
            "17634/17634 [==============================] - 4s 212us/step\n",
            "Loss: 0.977 \n",
            "Accuracy: 0.671 \n",
            "17634/17634 [==============================] - 4s 216us/step\n",
            "Loss: 2.933 \n",
            "Accuracy: 0.533 \n",
            "17634/17634 [==============================] - 4s 240us/step\n",
            "Loss: 0.115 \n",
            "Accuracy: 0.969 \n",
            "17634/17634 [==============================] - 4s 242us/step\n",
            "Loss: 0.724 \n",
            "Accuracy: 0.645 \n",
            "17634/17634 [==============================] - 4s 241us/step\n",
            "Loss: 1.055 \n",
            "Accuracy: 0.791 \n"
          ],
          "name": "stdout"
        }
      ]
    },
    {
      "cell_type": "code",
      "metadata": {
        "id": "eklare3oj6Gr",
        "colab_type": "code",
        "colab": {
          "base_uri": "https://localhost:8080/",
          "height": 491
        },
        "outputId": "9fc5212f-1816-48b6-c094-31dc77bb3e25"
      },
      "source": [
        "rnn_acc_train.sort(key=lambda rnn_acc_train: rnn_acc_train[1],reverse=True)\n",
        "df = pd.DataFrame(rnn_acc_train,columns=['(Units, Learning)','Accuracy'])\n",
        "df"
      ],
      "execution_count": null,
      "outputs": [
        {
          "output_type": "execute_result",
          "data": {
            "text/html": [
              "<div>\n",
              "<style scoped>\n",
              "    .dataframe tbody tr th:only-of-type {\n",
              "        vertical-align: middle;\n",
              "    }\n",
              "\n",
              "    .dataframe tbody tr th {\n",
              "        vertical-align: top;\n",
              "    }\n",
              "\n",
              "    .dataframe thead th {\n",
              "        text-align: right;\n",
              "    }\n",
              "</style>\n",
              "<table border=\"1\" class=\"dataframe\">\n",
              "  <thead>\n",
              "    <tr style=\"text-align: right;\">\n",
              "      <th></th>\n",
              "      <th>(Units, Learning)</th>\n",
              "      <th>Accuracy</th>\n",
              "    </tr>\n",
              "  </thead>\n",
              "  <tbody>\n",
              "    <tr>\n",
              "      <th>0</th>\n",
              "      <td>(120, 0.01)</td>\n",
              "      <td>0.973857</td>\n",
              "    </tr>\n",
              "    <tr>\n",
              "      <th>1</th>\n",
              "      <td>(60, 0.01)</td>\n",
              "      <td>0.969888</td>\n",
              "    </tr>\n",
              "    <tr>\n",
              "      <th>2</th>\n",
              "      <td>(240, 0.01)</td>\n",
              "      <td>0.969377</td>\n",
              "    </tr>\n",
              "    <tr>\n",
              "      <th>3</th>\n",
              "      <td>(80, 0.01)</td>\n",
              "      <td>0.968186</td>\n",
              "    </tr>\n",
              "    <tr>\n",
              "      <th>4</th>\n",
              "      <td>(20, 0.01)</td>\n",
              "      <td>0.963650</td>\n",
              "    </tr>\n",
              "    <tr>\n",
              "      <th>5</th>\n",
              "      <td>(20, 0.1)</td>\n",
              "      <td>0.909550</td>\n",
              "    </tr>\n",
              "    <tr>\n",
              "      <th>6</th>\n",
              "      <td>(80, 0.1)</td>\n",
              "      <td>0.821028</td>\n",
              "    </tr>\n",
              "    <tr>\n",
              "      <th>7</th>\n",
              "      <td>(60, 0.5)</td>\n",
              "      <td>0.801576</td>\n",
              "    </tr>\n",
              "    <tr>\n",
              "      <th>8</th>\n",
              "      <td>(240, 0.5)</td>\n",
              "      <td>0.790972</td>\n",
              "    </tr>\n",
              "    <tr>\n",
              "      <th>9</th>\n",
              "      <td>(60, 0.1)</td>\n",
              "      <td>0.769366</td>\n",
              "    </tr>\n",
              "    <tr>\n",
              "      <th>10</th>\n",
              "      <td>(120, 0.1)</td>\n",
              "      <td>0.671260</td>\n",
              "    </tr>\n",
              "    <tr>\n",
              "      <th>11</th>\n",
              "      <td>(240, 0.1)</td>\n",
              "      <td>0.645061</td>\n",
              "    </tr>\n",
              "    <tr>\n",
              "      <th>12</th>\n",
              "      <td>(20, 0.5)</td>\n",
              "      <td>0.533458</td>\n",
              "    </tr>\n",
              "    <tr>\n",
              "      <th>13</th>\n",
              "      <td>(80, 0.5)</td>\n",
              "      <td>0.533458</td>\n",
              "    </tr>\n",
              "    <tr>\n",
              "      <th>14</th>\n",
              "      <td>(120, 0.5)</td>\n",
              "      <td>0.533458</td>\n",
              "    </tr>\n",
              "  </tbody>\n",
              "</table>\n",
              "</div>"
            ],
            "text/plain": [
              "   (Units, Learning)  Accuracy\n",
              "0        (120, 0.01)  0.973857\n",
              "1         (60, 0.01)  0.969888\n",
              "2        (240, 0.01)  0.969377\n",
              "3         (80, 0.01)  0.968186\n",
              "4         (20, 0.01)  0.963650\n",
              "5          (20, 0.1)  0.909550\n",
              "6          (80, 0.1)  0.821028\n",
              "7          (60, 0.5)  0.801576\n",
              "8         (240, 0.5)  0.790972\n",
              "9          (60, 0.1)  0.769366\n",
              "10        (120, 0.1)  0.671260\n",
              "11        (240, 0.1)  0.645061\n",
              "12         (20, 0.5)  0.533458\n",
              "13         (80, 0.5)  0.533458\n",
              "14        (120, 0.5)  0.533458"
            ]
          },
          "metadata": {
            "tags": []
          },
          "execution_count": 104
        }
      ]
    },
    {
      "cell_type": "code",
      "metadata": {
        "id": "4ALRb2L_oq5j",
        "colab_type": "code",
        "colab": {
          "base_uri": "https://localhost:8080/",
          "height": 34
        },
        "outputId": "4f7de048-44f4-48b5-c4b8-d7e226e6dce9"
      },
      "source": [
        "best_params = df['(Units, Learning)'][0]\n",
        "best_score = df['Accuracy'][0]\n",
        "best_params, best_score"
      ],
      "execution_count": null,
      "outputs": [
        {
          "output_type": "execute_result",
          "data": {
            "text/plain": [
              "((120, 0.01), 0.9738573431968689)"
            ]
          },
          "metadata": {
            "tags": []
          },
          "execution_count": 105
        }
      ]
    },
    {
      "cell_type": "code",
      "metadata": {
        "id": "mytl1mEYWuzF",
        "colab_type": "code",
        "colab": {}
      },
      "source": [
        "acc_score_evaluate.append([f'RNN Classifier ({best_params})', best_score])"
      ],
      "execution_count": null,
      "outputs": []
    },
    {
      "cell_type": "code",
      "metadata": {
        "id": "LfEQhCmClk7K",
        "colab_type": "code",
        "colab": {
          "base_uri": "https://localhost:8080/",
          "height": 773
        },
        "outputId": "5d6c917f-a3b9-4965-a63c-95b183f77d05"
      },
      "source": [
        "for i in range(15):\n",
        "  score_rnn_val = model_rnn[i].evaluate(X_te, Y_test)\n",
        "  rnn_acc_test.append([(params[i][0], params[i][1]), score_rnn_val[1]])\n",
        "  print(\"Loss: %.3f \\nAccuracy: %.3f \" %(score_rnn_val[0],score_rnn_val[1]))"
      ],
      "execution_count": null,
      "outputs": [
        {
          "output_type": "stream",
          "text": [
            "7558/7558 [==============================] - 1s 190us/step\n",
            "Loss: 0.121 \n",
            "Accuracy: 0.968 \n",
            "7558/7558 [==============================] - 1s 187us/step\n",
            "Loss: 0.288 \n",
            "Accuracy: 0.912 \n",
            "7558/7558 [==============================] - 1s 186us/step\n",
            "Loss: 0.900 \n",
            "Accuracy: 0.535 \n",
            "7558/7558 [==============================] - 1s 191us/step\n",
            "Loss: 0.104 \n",
            "Accuracy: 0.974 \n",
            "7558/7558 [==============================] - 1s 185us/step\n",
            "Loss: 0.757 \n",
            "Accuracy: 0.778 \n",
            "7558/7558 [==============================] - 1s 188us/step\n",
            "Loss: 0.641 \n",
            "Accuracy: 0.809 \n",
            "7558/7558 [==============================] - 1s 193us/step\n",
            "Loss: 0.096 \n",
            "Accuracy: 0.973 \n",
            "7558/7558 [==============================] - 1s 193us/step\n",
            "Loss: 0.408 \n",
            "Accuracy: 0.828 \n",
            "7558/7558 [==============================] - 1s 195us/step\n",
            "Loss: 1.436 \n",
            "Accuracy: 0.535 \n",
            "7558/7558 [==============================] - 2s 204us/step\n",
            "Loss: 0.098 \n",
            "Accuracy: 0.975 \n",
            "7558/7558 [==============================] - 2s 208us/step\n",
            "Loss: 0.923 \n",
            "Accuracy: 0.676 \n",
            "7558/7558 [==============================] - 2s 213us/step\n",
            "Loss: 2.809 \n",
            "Accuracy: 0.535 \n",
            "7558/7558 [==============================] - 2s 232us/step\n",
            "Loss: 0.105 \n",
            "Accuracy: 0.974 \n",
            "7558/7558 [==============================] - 2s 236us/step\n",
            "Loss: 0.690 \n",
            "Accuracy: 0.645 \n",
            "7558/7558 [==============================] - 2s 233us/step\n",
            "Loss: 0.964 \n",
            "Accuracy: 0.802 \n"
          ],
          "name": "stdout"
        }
      ]
    },
    {
      "cell_type": "code",
      "metadata": {
        "id": "8D4EdH9Wnezu",
        "colab_type": "code",
        "colab": {
          "base_uri": "https://localhost:8080/",
          "height": 935
        },
        "outputId": "ab778c27-7258-42e2-f88f-1b17284d8e51"
      },
      "source": [
        "rnn_acc_test.sort(key=lambda rnn_acc_test: rnn_acc_test[1],reverse=True)\n",
        "df = pd.DataFrame(rnn_acc_test,columns=['(Units, Learning)','Accuracy'])\n",
        "df"
      ],
      "execution_count": null,
      "outputs": [
        {
          "output_type": "execute_result",
          "data": {
            "text/html": [
              "<div>\n",
              "<style scoped>\n",
              "    .dataframe tbody tr th:only-of-type {\n",
              "        vertical-align: middle;\n",
              "    }\n",
              "\n",
              "    .dataframe tbody tr th {\n",
              "        vertical-align: top;\n",
              "    }\n",
              "\n",
              "    .dataframe thead th {\n",
              "        text-align: right;\n",
              "    }\n",
              "</style>\n",
              "<table border=\"1\" class=\"dataframe\">\n",
              "  <thead>\n",
              "    <tr style=\"text-align: right;\">\n",
              "      <th></th>\n",
              "      <th>(Units, Learning)</th>\n",
              "      <th>Accuracy</th>\n",
              "    </tr>\n",
              "  </thead>\n",
              "  <tbody>\n",
              "    <tr>\n",
              "      <th>0</th>\n",
              "      <td>(120, 0.01)</td>\n",
              "      <td>0.974993</td>\n",
              "    </tr>\n",
              "    <tr>\n",
              "      <th>1</th>\n",
              "      <td>(120, 0.01)</td>\n",
              "      <td>0.974993</td>\n",
              "    </tr>\n",
              "    <tr>\n",
              "      <th>2</th>\n",
              "      <td>(60, 0.01)</td>\n",
              "      <td>0.974464</td>\n",
              "    </tr>\n",
              "    <tr>\n",
              "      <th>3</th>\n",
              "      <td>(60, 0.01)</td>\n",
              "      <td>0.974464</td>\n",
              "    </tr>\n",
              "    <tr>\n",
              "      <th>4</th>\n",
              "      <td>(240, 0.01)</td>\n",
              "      <td>0.974332</td>\n",
              "    </tr>\n",
              "    <tr>\n",
              "      <th>5</th>\n",
              "      <td>(240, 0.01)</td>\n",
              "      <td>0.974332</td>\n",
              "    </tr>\n",
              "    <tr>\n",
              "      <th>6</th>\n",
              "      <td>(80, 0.01)</td>\n",
              "      <td>0.973273</td>\n",
              "    </tr>\n",
              "    <tr>\n",
              "      <th>7</th>\n",
              "      <td>(80, 0.01)</td>\n",
              "      <td>0.973273</td>\n",
              "    </tr>\n",
              "    <tr>\n",
              "      <th>8</th>\n",
              "      <td>(20, 0.01)</td>\n",
              "      <td>0.967849</td>\n",
              "    </tr>\n",
              "    <tr>\n",
              "      <th>9</th>\n",
              "      <td>(20, 0.01)</td>\n",
              "      <td>0.967849</td>\n",
              "    </tr>\n",
              "    <tr>\n",
              "      <th>10</th>\n",
              "      <td>(20, 0.1)</td>\n",
              "      <td>0.912014</td>\n",
              "    </tr>\n",
              "    <tr>\n",
              "      <th>11</th>\n",
              "      <td>(20, 0.1)</td>\n",
              "      <td>0.912014</td>\n",
              "    </tr>\n",
              "    <tr>\n",
              "      <th>12</th>\n",
              "      <td>(80, 0.1)</td>\n",
              "      <td>0.827600</td>\n",
              "    </tr>\n",
              "    <tr>\n",
              "      <th>13</th>\n",
              "      <td>(80, 0.1)</td>\n",
              "      <td>0.827600</td>\n",
              "    </tr>\n",
              "    <tr>\n",
              "      <th>14</th>\n",
              "      <td>(60, 0.5)</td>\n",
              "      <td>0.809209</td>\n",
              "    </tr>\n",
              "    <tr>\n",
              "      <th>15</th>\n",
              "      <td>(60, 0.5)</td>\n",
              "      <td>0.809209</td>\n",
              "    </tr>\n",
              "    <tr>\n",
              "      <th>16</th>\n",
              "      <td>(240, 0.5)</td>\n",
              "      <td>0.801535</td>\n",
              "    </tr>\n",
              "    <tr>\n",
              "      <th>17</th>\n",
              "      <td>(240, 0.5)</td>\n",
              "      <td>0.801535</td>\n",
              "    </tr>\n",
              "    <tr>\n",
              "      <th>18</th>\n",
              "      <td>(60, 0.1)</td>\n",
              "      <td>0.777851</td>\n",
              "    </tr>\n",
              "    <tr>\n",
              "      <th>19</th>\n",
              "      <td>(60, 0.1)</td>\n",
              "      <td>0.777851</td>\n",
              "    </tr>\n",
              "    <tr>\n",
              "      <th>20</th>\n",
              "      <td>(120, 0.1)</td>\n",
              "      <td>0.676105</td>\n",
              "    </tr>\n",
              "    <tr>\n",
              "      <th>21</th>\n",
              "      <td>(120, 0.1)</td>\n",
              "      <td>0.676105</td>\n",
              "    </tr>\n",
              "    <tr>\n",
              "      <th>22</th>\n",
              "      <td>(240, 0.1)</td>\n",
              "      <td>0.645144</td>\n",
              "    </tr>\n",
              "    <tr>\n",
              "      <th>23</th>\n",
              "      <td>(240, 0.1)</td>\n",
              "      <td>0.645144</td>\n",
              "    </tr>\n",
              "    <tr>\n",
              "      <th>24</th>\n",
              "      <td>(20, 0.5)</td>\n",
              "      <td>0.534798</td>\n",
              "    </tr>\n",
              "    <tr>\n",
              "      <th>25</th>\n",
              "      <td>(80, 0.5)</td>\n",
              "      <td>0.534798</td>\n",
              "    </tr>\n",
              "    <tr>\n",
              "      <th>26</th>\n",
              "      <td>(120, 0.5)</td>\n",
              "      <td>0.534798</td>\n",
              "    </tr>\n",
              "    <tr>\n",
              "      <th>27</th>\n",
              "      <td>(20, 0.5)</td>\n",
              "      <td>0.534798</td>\n",
              "    </tr>\n",
              "    <tr>\n",
              "      <th>28</th>\n",
              "      <td>(80, 0.5)</td>\n",
              "      <td>0.534798</td>\n",
              "    </tr>\n",
              "    <tr>\n",
              "      <th>29</th>\n",
              "      <td>(120, 0.5)</td>\n",
              "      <td>0.534798</td>\n",
              "    </tr>\n",
              "  </tbody>\n",
              "</table>\n",
              "</div>"
            ],
            "text/plain": [
              "   (Units, Learning)  Accuracy\n",
              "0        (120, 0.01)  0.974993\n",
              "1        (120, 0.01)  0.974993\n",
              "2         (60, 0.01)  0.974464\n",
              "3         (60, 0.01)  0.974464\n",
              "4        (240, 0.01)  0.974332\n",
              "5        (240, 0.01)  0.974332\n",
              "6         (80, 0.01)  0.973273\n",
              "7         (80, 0.01)  0.973273\n",
              "8         (20, 0.01)  0.967849\n",
              "9         (20, 0.01)  0.967849\n",
              "10         (20, 0.1)  0.912014\n",
              "11         (20, 0.1)  0.912014\n",
              "12         (80, 0.1)  0.827600\n",
              "13         (80, 0.1)  0.827600\n",
              "14         (60, 0.5)  0.809209\n",
              "15         (60, 0.5)  0.809209\n",
              "16        (240, 0.5)  0.801535\n",
              "17        (240, 0.5)  0.801535\n",
              "18         (60, 0.1)  0.777851\n",
              "19         (60, 0.1)  0.777851\n",
              "20        (120, 0.1)  0.676105\n",
              "21        (120, 0.1)  0.676105\n",
              "22        (240, 0.1)  0.645144\n",
              "23        (240, 0.1)  0.645144\n",
              "24         (20, 0.5)  0.534798\n",
              "25         (80, 0.5)  0.534798\n",
              "26        (120, 0.5)  0.534798\n",
              "27         (20, 0.5)  0.534798\n",
              "28         (80, 0.5)  0.534798\n",
              "29        (120, 0.5)  0.534798"
            ]
          },
          "metadata": {
            "tags": []
          },
          "execution_count": 108
        }
      ]
    },
    {
      "cell_type": "code",
      "metadata": {
        "id": "5QqMwjvhpMaG",
        "colab_type": "code",
        "colab": {
          "base_uri": "https://localhost:8080/",
          "height": 34
        },
        "outputId": "c332308a-d8d8-4721-e502-0c56f27775cb"
      },
      "source": [
        "best_params = df['(Units, Learning)'][0]\n",
        "best_score = df['Accuracy'][0]\n",
        "best_params, best_score"
      ],
      "execution_count": null,
      "outputs": [
        {
          "output_type": "execute_result",
          "data": {
            "text/plain": [
              "((120, 0.01), 0.9749934077262878)"
            ]
          },
          "metadata": {
            "tags": []
          },
          "execution_count": 109
        }
      ]
    },
    {
      "cell_type": "code",
      "metadata": {
        "id": "64-t6fHSpQls",
        "colab_type": "code",
        "colab": {}
      },
      "source": [
        "acc_score_validation.append([f'RNN Classifier ({best_params})', best_score])"
      ],
      "execution_count": null,
      "outputs": []
    },
    {
      "cell_type": "code",
      "metadata": {
        "id": "6CG0hoi-vT6S",
        "colab_type": "code",
        "colab": {
          "base_uri": "https://localhost:8080/",
          "height": 1000
        },
        "outputId": "016e13e6-3807-4239-8a6e-0f76ed10dec5"
      },
      "source": [
        "from sklearn import metrics\n",
        "for i in range(len(params)):\n",
        "  print(f'[Units, Learning] = {params[i]}\\n\\ncm = ',metrics.confusion_matrix(Y_test.argmax(axis=1), model_rnn[i].predict(X_te).argmax(axis=1)))\n",
        "  print('\\n')"
      ],
      "execution_count": null,
      "outputs": [
        {
          "output_type": "stream",
          "text": [
            "[Units, Learning] = [20, 0.01]\n",
            "\n",
            "cm =  [[2731   84    1    0    0]\n",
            " [  11 3980   51    0    0]\n",
            " [  28   18  604    0    0]\n",
            " [   1   42    4    0    0]\n",
            " [   0    2    1    0    0]]\n",
            "\n",
            "\n",
            "[Units, Learning] = [20, 0.1]\n",
            "\n",
            "cm =  [[2515  223   78    0    0]\n",
            " [  46 3819  177    0    0]\n",
            " [  38   53  559    0    0]\n",
            " [   1   42    4    0    0]\n",
            " [   0    2    1    0    0]]\n",
            "\n",
            "\n",
            "[Units, Learning] = [20, 0.5]\n",
            "\n",
            "cm =  [[   0 2816    0    0    0]\n",
            " [   0 4042    0    0    0]\n",
            " [   0  650    0    0    0]\n",
            " [   0   47    0    0    0]\n",
            " [   0    3    0    0    0]]\n",
            "\n",
            "\n",
            "[Units, Learning] = [60, 0.01]\n",
            "\n",
            "cm =  [[2737   78    1    0    0]\n",
            " [  13 4022    7    0    0]\n",
            " [  24   20  606    0    0]\n",
            " [   0   43    4    0    0]\n",
            " [   0    2    1    0    0]]\n",
            "\n",
            "\n",
            "[Units, Learning] = [60, 0.1]\n",
            "\n",
            "cm =  [[2506  310    0    0    0]\n",
            " [ 668 3373    1    0    0]\n",
            " [ 337  313    0    0    0]\n",
            " [  36   11    0    0    0]\n",
            " [   3    0    0    0    0]]\n",
            "\n",
            "\n",
            "[Units, Learning] = [60, 0.5]\n",
            "\n",
            "cm =  [[2091  725    0    0    0]\n",
            " [  17 4025    0    0    0]\n",
            " [  24  626    0    0    0]\n",
            " [   0   47    0    0    0]\n",
            " [   0    3    0    0    0]]\n",
            "\n",
            "\n",
            "[Units, Learning] = [80, 0.01]\n",
            "\n",
            "cm =  [[2736   80    0    0    0]\n",
            " [   9 3994   39    0    0]\n",
            " [   5   19  626    0    0]\n",
            " [   0   47    0    0    0]\n",
            " [   0    3    0    0    0]]\n",
            "\n",
            "\n",
            "[Units, Learning] = [80, 0.1]\n",
            "\n",
            "cm =  [[2109  706    1    0    0]\n",
            " [  39 3916   87    0    0]\n",
            " [  30  390  230    0    0]\n",
            " [   1   46    0    0    0]\n",
            " [   0    2    1    0    0]]\n",
            "\n",
            "\n",
            "[Units, Learning] = [80, 0.5]\n",
            "\n",
            "cm =  [[   0 2816    0    0    0]\n",
            " [   0 4042    0    0    0]\n",
            " [   0  650    0    0    0]\n",
            " [   0   47    0    0    0]\n",
            " [   0    3    0    0    0]]\n",
            "\n",
            "\n",
            "[Units, Learning] = [120, 0.01]\n",
            "\n",
            "cm =  [[2741   75    0    0    0]\n",
            " [   6 4021    6    9    0]\n",
            " [  13   58  578    1    0]\n",
            " [   0   17    1   29    0]\n",
            " [   0    2    1    0    0]]\n",
            "\n",
            "\n",
            "[Units, Learning] = [120, 0.1]\n",
            "\n",
            "cm =  [[1151 1604   61    0    0]\n",
            " [  81 3945   16    0    0]\n",
            " [  54  582   14    0    0]\n",
            " [   4   42    1    0    0]\n",
            " [   0    3    0    0    0]]\n",
            "\n",
            "\n",
            "[Units, Learning] = [120, 0.5]\n",
            "\n",
            "cm =  [[   0 2816    0    0    0]\n",
            " [   0 4042    0    0    0]\n",
            " [   0  650    0    0    0]\n",
            " [   0   47    0    0    0]\n",
            " [   0    3    0    0    0]]\n",
            "\n",
            "\n",
            "[Units, Learning] = [240, 0.01]\n",
            "\n",
            "cm =  [[2724   91    1    0    0]\n",
            " [   0 3997   43    2    0]\n",
            " [   0   19  631    0    0]\n",
            " [   0   31    4   12    0]\n",
            " [   0    2    1    0    0]]\n",
            "\n",
            "\n",
            "[Units, Learning] = [240, 0.1]\n",
            "\n",
            "cm =  [[1158 1658    0    0    0]\n",
            " [ 324 3718    0    0    0]\n",
            " [ 513  137    0    0    0]\n",
            " [   2   45    0    0    0]\n",
            " [   0    3    0    0    0]]\n",
            "\n",
            "\n",
            "[Units, Learning] = [240, 0.5]\n",
            "\n",
            "cm =  [[2478  332    6    0    0]\n",
            " [ 540 3461   41    0    0]\n",
            " [ 462   69  119    0    0]\n",
            " [  32   15    0    0    0]\n",
            " [   3    0    0    0    0]]\n",
            "\n",
            "\n"
          ],
          "name": "stdout"
        }
      ]
    },
    {
      "cell_type": "markdown",
      "metadata": {
        "id": "lqJ8lzYyAlKB",
        "colab_type": "text"
      },
      "source": [
        "# ANN"
      ]
    },
    {
      "cell_type": "code",
      "metadata": {
        "id": "v1XZXpLepGu_",
        "colab_type": "code",
        "colab": {}
      },
      "source": [
        "model_ann = Sequential()\n",
        "model_ann.add(Dense(80,activation='relu',input_dim=15))\n",
        "model_ann.add(Dropout(0.5))\n",
        "model_ann.add(Dense(80,activation='relu'))\n",
        "model_ann.add(Dropout(0.5))\n",
        "model_ann.add(Dense(5,activation='softmax'))\n",
        "model_ann.compile(optimizer='Adam', loss='categorical_crossentropy',metrics=['accuracy'])"
      ],
      "execution_count": null,
      "outputs": []
    },
    {
      "cell_type": "code",
      "metadata": {
        "id": "JhYq64BPq4aS",
        "colab_type": "code",
        "colab": {
          "base_uri": "https://localhost:8080/",
          "height": 1000
        },
        "outputId": "f2b41b33-7dab-4dc0-d61a-9e627db4df11"
      },
      "source": [
        "model_ann.fit(X_train, Y_train,batch_size=128, epochs=100)"
      ],
      "execution_count": null,
      "outputs": [
        {
          "output_type": "stream",
          "text": [
            "Epoch 1/100\n",
            "17634/17634 [==============================] - 1s 42us/step - loss: 0.5442 - accuracy: 0.8349\n",
            "Epoch 2/100\n",
            "17634/17634 [==============================] - 1s 33us/step - loss: 0.2675 - accuracy: 0.9250\n",
            "Epoch 3/100\n",
            "17634/17634 [==============================] - 1s 34us/step - loss: 0.2176 - accuracy: 0.9373\n",
            "Epoch 4/100\n",
            "17634/17634 [==============================] - 1s 34us/step - loss: 0.2051 - accuracy: 0.9420\n",
            "Epoch 5/100\n",
            "17634/17634 [==============================] - 1s 33us/step - loss: 0.1940 - accuracy: 0.9448\n",
            "Epoch 6/100\n",
            "17634/17634 [==============================] - 1s 34us/step - loss: 0.1789 - accuracy: 0.9487\n",
            "Epoch 7/100\n",
            "17634/17634 [==============================] - 1s 34us/step - loss: 0.1717 - accuracy: 0.9515\n",
            "Epoch 8/100\n",
            "17634/17634 [==============================] - 1s 35us/step - loss: 0.1654 - accuracy: 0.9530\n",
            "Epoch 9/100\n",
            "17634/17634 [==============================] - 1s 34us/step - loss: 0.1626 - accuracy: 0.9549\n",
            "Epoch 10/100\n",
            "17634/17634 [==============================] - 1s 33us/step - loss: 0.1546 - accuracy: 0.9546\n",
            "Epoch 11/100\n",
            "17634/17634 [==============================] - 1s 35us/step - loss: 0.1492 - accuracy: 0.9575\n",
            "Epoch 12/100\n",
            "17634/17634 [==============================] - 1s 33us/step - loss: 0.1440 - accuracy: 0.9593\n",
            "Epoch 13/100\n",
            "17634/17634 [==============================] - 1s 35us/step - loss: 0.1444 - accuracy: 0.9586\n",
            "Epoch 14/100\n",
            "17634/17634 [==============================] - 1s 34us/step - loss: 0.1416 - accuracy: 0.9594\n",
            "Epoch 15/100\n",
            "17634/17634 [==============================] - 1s 33us/step - loss: 0.1432 - accuracy: 0.9605\n",
            "Epoch 16/100\n",
            "17634/17634 [==============================] - 1s 33us/step - loss: 0.1349 - accuracy: 0.9617\n",
            "Epoch 17/100\n",
            "17634/17634 [==============================] - 1s 33us/step - loss: 0.1339 - accuracy: 0.9625\n",
            "Epoch 18/100\n",
            "17634/17634 [==============================] - 1s 33us/step - loss: 0.1301 - accuracy: 0.9636\n",
            "Epoch 19/100\n",
            "17634/17634 [==============================] - 1s 33us/step - loss: 0.1274 - accuracy: 0.9630\n",
            "Epoch 20/100\n",
            "17634/17634 [==============================] - 1s 33us/step - loss: 0.1236 - accuracy: 0.9643\n",
            "Epoch 21/100\n",
            "17634/17634 [==============================] - 1s 33us/step - loss: 0.1241 - accuracy: 0.9643\n",
            "Epoch 22/100\n",
            "17634/17634 [==============================] - 1s 33us/step - loss: 0.1224 - accuracy: 0.9642\n",
            "Epoch 23/100\n",
            "17634/17634 [==============================] - 1s 34us/step - loss: 0.1197 - accuracy: 0.9657\n",
            "Epoch 24/100\n",
            "17634/17634 [==============================] - 1s 33us/step - loss: 0.1165 - accuracy: 0.9655\n",
            "Epoch 25/100\n",
            "17634/17634 [==============================] - 1s 34us/step - loss: 0.1154 - accuracy: 0.9661\n",
            "Epoch 26/100\n",
            "17634/17634 [==============================] - 1s 34us/step - loss: 0.1159 - accuracy: 0.9677\n",
            "Epoch 27/100\n",
            "17634/17634 [==============================] - 1s 34us/step - loss: 0.1124 - accuracy: 0.9673\n",
            "Epoch 28/100\n",
            "17634/17634 [==============================] - 1s 34us/step - loss: 0.1142 - accuracy: 0.9652\n",
            "Epoch 29/100\n",
            "17634/17634 [==============================] - 1s 37us/step - loss: 0.1126 - accuracy: 0.9665\n",
            "Epoch 30/100\n",
            "17634/17634 [==============================] - 1s 37us/step - loss: 0.1101 - accuracy: 0.9677\n",
            "Epoch 31/100\n",
            "17634/17634 [==============================] - 1s 37us/step - loss: 0.1119 - accuracy: 0.9664\n",
            "Epoch 32/100\n",
            "17634/17634 [==============================] - 1s 36us/step - loss: 0.1061 - accuracy: 0.9688\n",
            "Epoch 33/100\n",
            "17634/17634 [==============================] - 1s 37us/step - loss: 0.1067 - accuracy: 0.9671\n",
            "Epoch 34/100\n",
            "17634/17634 [==============================] - 1s 36us/step - loss: 0.1043 - accuracy: 0.9673\n",
            "Epoch 35/100\n",
            "17634/17634 [==============================] - 1s 36us/step - loss: 0.1024 - accuracy: 0.9685\n",
            "Epoch 36/100\n",
            "17634/17634 [==============================] - 1s 37us/step - loss: 0.1048 - accuracy: 0.9694\n",
            "Epoch 37/100\n",
            "17634/17634 [==============================] - 1s 33us/step - loss: 0.1068 - accuracy: 0.9695\n",
            "Epoch 38/100\n",
            "17634/17634 [==============================] - 1s 34us/step - loss: 0.1019 - accuracy: 0.9691\n",
            "Epoch 39/100\n",
            "17634/17634 [==============================] - 1s 33us/step - loss: 0.0997 - accuracy: 0.9685\n",
            "Epoch 40/100\n",
            "17634/17634 [==============================] - 1s 33us/step - loss: 0.0975 - accuracy: 0.9694\n",
            "Epoch 41/100\n",
            "17634/17634 [==============================] - 1s 34us/step - loss: 0.0979 - accuracy: 0.9692\n",
            "Epoch 42/100\n",
            "17634/17634 [==============================] - 1s 33us/step - loss: 0.0947 - accuracy: 0.9697\n",
            "Epoch 43/100\n",
            "17634/17634 [==============================] - 1s 34us/step - loss: 0.0943 - accuracy: 0.9709\n",
            "Epoch 44/100\n",
            "17634/17634 [==============================] - 1s 34us/step - loss: 0.0975 - accuracy: 0.9694\n",
            "Epoch 45/100\n",
            "17634/17634 [==============================] - 1s 34us/step - loss: 0.0906 - accuracy: 0.9710\n",
            "Epoch 46/100\n",
            "17634/17634 [==============================] - 1s 33us/step - loss: 0.0937 - accuracy: 0.9704\n",
            "Epoch 47/100\n",
            "17634/17634 [==============================] - 1s 33us/step - loss: 0.0943 - accuracy: 0.9707\n",
            "Epoch 48/100\n",
            "17634/17634 [==============================] - 1s 34us/step - loss: 0.0910 - accuracy: 0.9719\n",
            "Epoch 49/100\n",
            "17634/17634 [==============================] - 1s 33us/step - loss: 0.0909 - accuracy: 0.9709\n",
            "Epoch 50/100\n",
            "17634/17634 [==============================] - 1s 34us/step - loss: 0.0910 - accuracy: 0.9705\n",
            "Epoch 51/100\n",
            "17634/17634 [==============================] - 1s 34us/step - loss: 0.0902 - accuracy: 0.9709\n",
            "Epoch 52/100\n",
            "17634/17634 [==============================] - 1s 34us/step - loss: 0.0879 - accuracy: 0.9707\n",
            "Epoch 53/100\n",
            "17634/17634 [==============================] - 1s 35us/step - loss: 0.0865 - accuracy: 0.9715\n",
            "Epoch 54/100\n",
            "17634/17634 [==============================] - 1s 33us/step - loss: 0.0861 - accuracy: 0.9724\n",
            "Epoch 55/100\n",
            "17634/17634 [==============================] - 1s 34us/step - loss: 0.0880 - accuracy: 0.9712\n",
            "Epoch 56/100\n",
            "17634/17634 [==============================] - 1s 34us/step - loss: 0.0885 - accuracy: 0.9718\n",
            "Epoch 57/100\n",
            "17634/17634 [==============================] - 1s 34us/step - loss: 0.0861 - accuracy: 0.9729\n",
            "Epoch 58/100\n",
            "17634/17634 [==============================] - 1s 35us/step - loss: 0.0874 - accuracy: 0.9716\n",
            "Epoch 59/100\n",
            "17634/17634 [==============================] - 1s 33us/step - loss: 0.0847 - accuracy: 0.9718\n",
            "Epoch 60/100\n",
            "17634/17634 [==============================] - 1s 35us/step - loss: 0.0847 - accuracy: 0.9732\n",
            "Epoch 61/100\n",
            "17634/17634 [==============================] - 1s 33us/step - loss: 0.0845 - accuracy: 0.9729\n",
            "Epoch 62/100\n",
            "17634/17634 [==============================] - 1s 34us/step - loss: 0.0863 - accuracy: 0.9720\n",
            "Epoch 63/100\n",
            "17634/17634 [==============================] - 1s 33us/step - loss: 0.0822 - accuracy: 0.9732\n",
            "Epoch 64/100\n",
            "17634/17634 [==============================] - 1s 34us/step - loss: 0.0840 - accuracy: 0.9725\n",
            "Epoch 65/100\n",
            "17634/17634 [==============================] - 1s 36us/step - loss: 0.0803 - accuracy: 0.9740\n",
            "Epoch 66/100\n",
            "17634/17634 [==============================] - 1s 34us/step - loss: 0.0825 - accuracy: 0.9735\n",
            "Epoch 67/100\n",
            "17634/17634 [==============================] - 1s 34us/step - loss: 0.0820 - accuracy: 0.9734\n",
            "Epoch 68/100\n",
            "17634/17634 [==============================] - 1s 35us/step - loss: 0.0805 - accuracy: 0.9740\n",
            "Epoch 69/100\n",
            "17634/17634 [==============================] - 1s 33us/step - loss: 0.0790 - accuracy: 0.9747\n",
            "Epoch 70/100\n",
            "17634/17634 [==============================] - 1s 35us/step - loss: 0.0827 - accuracy: 0.9732\n",
            "Epoch 71/100\n",
            "17634/17634 [==============================] - 1s 34us/step - loss: 0.0792 - accuracy: 0.9731\n",
            "Epoch 72/100\n",
            "17634/17634 [==============================] - 1s 34us/step - loss: 0.0846 - accuracy: 0.9735\n",
            "Epoch 73/100\n",
            "17634/17634 [==============================] - 1s 33us/step - loss: 0.0830 - accuracy: 0.9728\n",
            "Epoch 74/100\n",
            "17634/17634 [==============================] - 1s 34us/step - loss: 0.0831 - accuracy: 0.9728\n",
            "Epoch 75/100\n",
            "17634/17634 [==============================] - 1s 35us/step - loss: 0.0792 - accuracy: 0.9744\n",
            "Epoch 76/100\n",
            "17634/17634 [==============================] - 1s 34us/step - loss: 0.0795 - accuracy: 0.9746\n",
            "Epoch 77/100\n",
            "17634/17634 [==============================] - 1s 34us/step - loss: 0.0807 - accuracy: 0.9737\n",
            "Epoch 78/100\n",
            "17634/17634 [==============================] - 1s 34us/step - loss: 0.0763 - accuracy: 0.9747\n",
            "Epoch 79/100\n",
            "17634/17634 [==============================] - 1s 33us/step - loss: 0.0786 - accuracy: 0.9747\n",
            "Epoch 80/100\n",
            "17634/17634 [==============================] - 1s 33us/step - loss: 0.0783 - accuracy: 0.9743\n",
            "Epoch 81/100\n",
            "17634/17634 [==============================] - 1s 34us/step - loss: 0.0781 - accuracy: 0.9737\n",
            "Epoch 82/100\n",
            "17634/17634 [==============================] - 1s 34us/step - loss: 0.0796 - accuracy: 0.9743\n",
            "Epoch 83/100\n",
            "17634/17634 [==============================] - 1s 34us/step - loss: 0.0756 - accuracy: 0.9743\n",
            "Epoch 84/100\n",
            "17634/17634 [==============================] - 1s 34us/step - loss: 0.0799 - accuracy: 0.9749\n",
            "Epoch 85/100\n",
            "17634/17634 [==============================] - 1s 33us/step - loss: 0.0765 - accuracy: 0.9751\n",
            "Epoch 86/100\n",
            "17634/17634 [==============================] - 1s 33us/step - loss: 0.0773 - accuracy: 0.9748\n",
            "Epoch 87/100\n",
            "17634/17634 [==============================] - 1s 34us/step - loss: 0.0764 - accuracy: 0.9743\n",
            "Epoch 88/100\n",
            "17634/17634 [==============================] - 1s 34us/step - loss: 0.0740 - accuracy: 0.9750\n",
            "Epoch 89/100\n",
            "17634/17634 [==============================] - 1s 33us/step - loss: 0.0744 - accuracy: 0.9752\n",
            "Epoch 90/100\n",
            "17634/17634 [==============================] - 1s 34us/step - loss: 0.0751 - accuracy: 0.9753\n",
            "Epoch 91/100\n",
            "17634/17634 [==============================] - 1s 32us/step - loss: 0.0747 - accuracy: 0.9748\n",
            "Epoch 92/100\n",
            "17634/17634 [==============================] - 1s 33us/step - loss: 0.0721 - accuracy: 0.9752\n",
            "Epoch 93/100\n",
            "17634/17634 [==============================] - 1s 34us/step - loss: 0.0712 - accuracy: 0.9763\n",
            "Epoch 94/100\n",
            "17634/17634 [==============================] - 1s 33us/step - loss: 0.0697 - accuracy: 0.9760\n",
            "Epoch 95/100\n",
            "17634/17634 [==============================] - 1s 33us/step - loss: 0.0705 - accuracy: 0.9771\n",
            "Epoch 96/100\n",
            "17634/17634 [==============================] - 1s 34us/step - loss: 0.0714 - accuracy: 0.9764\n",
            "Epoch 97/100\n",
            "17634/17634 [==============================] - 1s 33us/step - loss: 0.0731 - accuracy: 0.9756\n",
            "Epoch 98/100\n",
            "17634/17634 [==============================] - 1s 33us/step - loss: 0.0681 - accuracy: 0.9758\n",
            "Epoch 99/100\n",
            "17634/17634 [==============================] - 1s 33us/step - loss: 0.0760 - accuracy: 0.9756\n",
            "Epoch 100/100\n",
            "17634/17634 [==============================] - 1s 33us/step - loss: 0.0675 - accuracy: 0.9769\n"
          ],
          "name": "stdout"
        },
        {
          "output_type": "execute_result",
          "data": {
            "text/plain": [
              "<keras.callbacks.callbacks.History at 0x7f71a8855c88>"
            ]
          },
          "metadata": {
            "tags": []
          },
          "execution_count": 135
        }
      ]
    },
    {
      "cell_type": "code",
      "metadata": {
        "id": "LVwFxJbsS3ui",
        "colab_type": "code",
        "colab": {
          "base_uri": "https://localhost:8080/",
          "height": 67
        },
        "outputId": "0c473e25-4e08-46f6-fe60-11f7de884471"
      },
      "source": [
        "score_ann_eval = model_ann.evaluate(X_train,Y_train)\n",
        "print(\"Loss: %.3f \\nAccuracy: %.3f \" %(score_ann_eval[0],score_ann_eval[1]))"
      ],
      "execution_count": null,
      "outputs": [
        {
          "output_type": "stream",
          "text": [
            "17634/17634 [==============================] - 1s 72us/step\n",
            "Loss: 0.045 \n",
            "Accuracy: 0.982 \n"
          ],
          "name": "stdout"
        }
      ]
    },
    {
      "cell_type": "code",
      "metadata": {
        "id": "7YPePJcXrBci",
        "colab_type": "code",
        "colab": {
          "base_uri": "https://localhost:8080/",
          "height": 67
        },
        "outputId": "7815e388-5da1-4f93-afb7-a5f5051f1be7"
      },
      "source": [
        "score_ann_val = model_ann.evaluate(X_test,Y_test)\n",
        "print(\"Loss: %.3f \\nAccuracy: %.3f \" %(score_ann_val[0],score_ann_val[1]))"
      ],
      "execution_count": null,
      "outputs": [
        {
          "output_type": "stream",
          "text": [
            "7558/7558 [==============================] - 1s 71us/step\n",
            "Loss: 0.052 \n",
            "Accuracy: 0.982 \n"
          ],
          "name": "stdout"
        }
      ]
    },
    {
      "cell_type": "code",
      "metadata": {
        "id": "jb8zosUoZQaV",
        "colab_type": "code",
        "colab": {}
      },
      "source": [
        "acc_score_evaluate.append(['ANN Classifier',score_ann_eval[1]])\n",
        "acc_score_validation.append(['ANN Classifier',score_ann_val[1]])"
      ],
      "execution_count": null,
      "outputs": []
    },
    {
      "cell_type": "code",
      "metadata": {
        "id": "W8xIELsWy3l5",
        "colab_type": "code",
        "colab": {
          "base_uri": "https://localhost:8080/",
          "height": 101
        },
        "outputId": "95abd8a1-b107-4ffa-e2d6-e0f2452fa308"
      },
      "source": [
        "from sklearn import metrics\n",
        "metrics.confusion_matrix(Y_test.argmax(axis=1), model_ann.predict(X_test).argmax(axis=1))"
      ],
      "execution_count": null,
      "outputs": [
        {
          "output_type": "execute_result",
          "data": {
            "text/plain": [
              "array([[2778,   27,   11,    0,    0],\n",
              "       [   6, 3978,   41,   17,    0],\n",
              "       [   7,   10,  633,    0,    0],\n",
              "       [   0,   17,    0,   30,    0],\n",
              "       [   0,    3,    0,    0,    0]])"
            ]
          },
          "metadata": {
            "tags": []
          },
          "execution_count": 140
        }
      ]
    },
    {
      "cell_type": "markdown",
      "metadata": {
        "id": "t9PVhjwdAWPv",
        "colab_type": "text"
      },
      "source": [
        "# Keras Classifier with pipelining"
      ]
    },
    {
      "cell_type": "code",
      "metadata": {
        "id": "b92AMZXZlk7F",
        "colab_type": "code",
        "colab": {}
      },
      "source": [
        "def create_model():\n",
        "    model = Sequential()\n",
        "    model.add(Dense(60,activation='relu',input_dim=15))\n",
        "    model.add(Dropout(0.5))\n",
        "    model.add(Dense(30,activation='relu'))\n",
        "    model.add(Dropout(0.5))\n",
        "    model.add(Dense(5,activation='softmax'))\n",
        "    model.compile(optimizer='Adam', loss='categorical_crossentropy',metrics=['accuracy'])\n",
        "    return model"
      ],
      "execution_count": null,
      "outputs": []
    },
    {
      "cell_type": "code",
      "metadata": {
        "id": "sn_GaJpslk7H",
        "colab_type": "code",
        "colab": {
          "base_uri": "https://localhost:8080/",
          "height": 34
        },
        "outputId": "02f7348b-22e6-43b1-c4c8-1dc70071f676"
      },
      "source": [
        "estimators = []\n",
        "estimators.append(('standardize', StandardScaler()))\n",
        "estimators.append(('mlp', KerasClassifier(build_fn=create_model, epochs=100, batch_size=128, verbose=0)))\n",
        "pipeline = Pipeline(estimators)\n",
        "kfold = KFold(n_splits=10, shuffle=True)\n",
        "results = cross_val_score(pipeline, X_train, Y_train, cv=kfold)\n",
        "score_kcp = results.mean()\n",
        "print(\"Model: %.2f%% (%.2f%%)\" % (results.mean()*100, results.std()*100))"
      ],
      "execution_count": null,
      "outputs": [
        {
          "output_type": "stream",
          "text": [
            "Model: 97.34% (0.53%)\n"
          ],
          "name": "stdout"
        }
      ]
    },
    {
      "cell_type": "code",
      "metadata": {
        "id": "AMOV7sudTuV6",
        "colab_type": "code",
        "colab": {}
      },
      "source": [
        "acc_score_evaluate.append(['Keras Classifier', score_kcp])\n",
        "acc_score_validation.append(['Keras Classifier', score_kcp])"
      ],
      "execution_count": null,
      "outputs": []
    },
    {
      "cell_type": "markdown",
      "metadata": {
        "id": "S4Xf_CFlCCle",
        "colab_type": "text"
      },
      "source": [
        "# Multi-Layer Perceptron"
      ]
    },
    {
      "cell_type": "code",
      "metadata": {
        "id": "vnPe_sQTlk7j",
        "colab_type": "code",
        "colab": {
          "base_uri": "https://localhost:8080/",
          "height": 151
        },
        "outputId": "62f7dea5-25cb-42f4-cd7e-0ef75e6b3e80"
      },
      "source": [
        "from sklearn.neural_network import MLPClassifier\n",
        "clf_mlp = MLPClassifier(hidden_layer_sizes=(100, 30, 30), solver='adam', shuffle=False, tol = 0.0001, early_stopping = True)\n",
        "clf_mlp.fit(X_train, Y_train)"
      ],
      "execution_count": null,
      "outputs": [
        {
          "output_type": "execute_result",
          "data": {
            "text/plain": [
              "MLPClassifier(activation='relu', alpha=0.0001, batch_size='auto', beta_1=0.9,\n",
              "              beta_2=0.999, early_stopping=True, epsilon=1e-08,\n",
              "              hidden_layer_sizes=(100, 30, 30), learning_rate='constant',\n",
              "              learning_rate_init=0.001, max_fun=15000, max_iter=200,\n",
              "              momentum=0.9, n_iter_no_change=10, nesterovs_momentum=True,\n",
              "              power_t=0.5, random_state=None, shuffle=False, solver='adam',\n",
              "              tol=0.0001, validation_fraction=0.1, verbose=False,\n",
              "              warm_start=False)"
            ]
          },
          "metadata": {
            "tags": []
          },
          "execution_count": 145
        }
      ]
    },
    {
      "cell_type": "code",
      "metadata": {
        "id": "R7OoV_LNlk7p",
        "colab_type": "code",
        "colab": {
          "base_uri": "https://localhost:8080/",
          "height": 34
        },
        "outputId": "39728d12-22e8-41b3-e982-941a02b1b226"
      },
      "source": [
        "mlp_score_eval = clf_mlp.score(X_train, Y_train)\n",
        "\n",
        "print('MLP_final Score: %.3f ' % mlp_score_eval)"
      ],
      "execution_count": null,
      "outputs": [
        {
          "output_type": "stream",
          "text": [
            "MLP_final Score: 0.980 \n"
          ],
          "name": "stdout"
        }
      ]
    },
    {
      "cell_type": "code",
      "metadata": {
        "id": "LqZe_OIwlk70",
        "colab_type": "code",
        "colab": {
          "base_uri": "https://localhost:8080/",
          "height": 34
        },
        "outputId": "0d583337-582c-4779-f91c-531296c9ae81"
      },
      "source": [
        "mlp_score_val = clf_mlp.score(X_test, Y_test)\n",
        "print('MLP_final Score: %.3f ' % mlp_score_val)"
      ],
      "execution_count": null,
      "outputs": [
        {
          "output_type": "stream",
          "text": [
            "MLP_final Score: 0.977 \n"
          ],
          "name": "stdout"
        }
      ]
    },
    {
      "cell_type": "code",
      "metadata": {
        "id": "pf2-TPV_ZbZ7",
        "colab_type": "code",
        "colab": {}
      },
      "source": [
        "acc_score_evaluate.append(['MLP Classifier', mlp_score_eval])\n",
        "acc_score_validation.append(['MLP Classifier', mlp_score_val])"
      ],
      "execution_count": null,
      "outputs": []
    },
    {
      "cell_type": "code",
      "metadata": {
        "id": "rorIOIN-zUJr",
        "colab_type": "code",
        "colab": {
          "base_uri": "https://localhost:8080/",
          "height": 101
        },
        "outputId": "fe2795dd-7753-42c5-c0ac-eac40675b0aa"
      },
      "source": [
        "metrics.confusion_matrix(Y_test.argmax(axis=1), clf_mlp.predict(X_test).argmax(axis=1))"
      ],
      "execution_count": null,
      "outputs": [
        {
          "output_type": "execute_result",
          "data": {
            "text/plain": [
              "array([[2782,   23,   11,    0,    0],\n",
              "       [  35, 3958,   36,   13,    0],\n",
              "       [  10,    9,  631,    0,    0],\n",
              "       [   6,   16,    0,   25,    0],\n",
              "       [   0,    3,    0,    0,    0]])"
            ]
          },
          "metadata": {
            "tags": []
          },
          "execution_count": 150
        }
      ]
    },
    {
      "cell_type": "markdown",
      "metadata": {
        "id": "7iK_1BXLlk7a",
        "colab_type": "text"
      },
      "source": [
        "# Different Classifiers"
      ]
    },
    {
      "cell_type": "code",
      "metadata": {
        "colab_type": "code",
        "id": "XsvtD8L-zKy7",
        "colab": {}
      },
      "source": [
        "from sklearn.linear_model import LogisticRegression\n",
        "from sklearn.naive_bayes import BernoulliNB\n",
        "from sklearn.tree import DecisionTreeClassifier\n",
        "from sklearn.ensemble import RandomForestClassifier\n",
        "from sklearn.neighbors import KNeighborsClassifier\n",
        "from sklearn.svm import SVC\n",
        "from sklearn.model_selection import cross_val_score"
      ],
      "execution_count": null,
      "outputs": []
    },
    {
      "cell_type": "code",
      "metadata": {
        "id": "uyR-t701dXft",
        "colab_type": "code",
        "colab": {
          "base_uri": "https://localhost:8080/",
          "height": 34
        },
        "outputId": "87ea9a5d-48f6-489b-bae0-07413ca7eea6"
      },
      "source": [
        "from sklearn.model_selection import train_test_split\n",
        "X_train, X_test, Y_train, Y_test = train_test_split(data_x, data_y, test_size=0.3, random_state=42)\n",
        "print([X_train.shape, X_test.shape, Y_train.shape, Y_test.shape])"
      ],
      "execution_count": null,
      "outputs": [
        {
          "output_type": "stream",
          "text": [
            "[(17634, 15), (7558, 15), (17634, 1), (7558, 1)]\n"
          ],
          "name": "stdout"
        }
      ]
    },
    {
      "cell_type": "code",
      "metadata": {
        "colab_type": "code",
        "id": "NTMiBkLezznq",
        "colab": {
          "base_uri": "https://localhost:8080/",
          "height": 84
        },
        "outputId": "14534f25-0a70-4792-fc72-5dacbd46274e"
      },
      "source": [
        "# Train LogisticRegression Model\n",
        "LGR_Classifier = LogisticRegression(n_jobs=-1, random_state=0)\n",
        "LGR_Classifier.fit(X_train, Y_train)\n",
        "\n",
        "# Train Gaussian Naive Bayes Model\n",
        "BNB_Classifier = BernoulliNB()\n",
        "BNB_Classifier.fit(X_train, Y_train)\n",
        "\n",
        "# Train Decision Tree Model\n",
        "DTC_Classifier = DecisionTreeClassifier(criterion='entropy', random_state=0)\n",
        "DTC_Classifier.fit(X_train, Y_train)\n",
        "\n",
        "# Train Random Forest Model\n",
        "RFC_Classifier = RandomForestClassifier()\n",
        "RFC_Classifier.fit(X_train, Y_train)\n",
        "\n",
        "# Train KNeighborsClassifier Model\n",
        "KNN_Classifier = KNeighborsClassifier(n_jobs=-1)\n",
        "KNN_Classifier.fit(X_train, Y_train)\n",
        "\n",
        "# Train SVM Model\n",
        "svc_Classifier = SVC()\n",
        "svc_Classifier.fit(X_train, Y_train)"
      ],
      "execution_count": null,
      "outputs": [
        {
          "output_type": "execute_result",
          "data": {
            "text/plain": [
              "SVC(C=1.0, break_ties=False, cache_size=200, class_weight=None, coef0=0.0,\n",
              "    decision_function_shape='ovr', degree=3, gamma='scale', kernel='rbf',\n",
              "    max_iter=-1, probability=False, random_state=None, shrinking=True,\n",
              "    tol=0.001, verbose=False)"
            ]
          },
          "metadata": {
            "tags": []
          },
          "execution_count": 153
        }
      ]
    },
    {
      "cell_type": "markdown",
      "metadata": {
        "colab_type": "text",
        "id": "fCx0mw850uBo"
      },
      "source": [
        "# Evaluate Models"
      ]
    },
    {
      "cell_type": "code",
      "metadata": {
        "colab_type": "code",
        "id": "BKX2Zzxx0jrm",
        "colab": {}
      },
      "source": [
        "from sklearn import metrics"
      ],
      "execution_count": null,
      "outputs": []
    },
    {
      "cell_type": "code",
      "metadata": {
        "colab_type": "code",
        "id": "JGA6aUch06kg",
        "colab": {
          "base_uri": "https://localhost:8080/",
          "height": 1000
        },
        "outputId": "879dba04-a825-46fc-c5ce-32db12a4e1b2"
      },
      "source": [
        "models = []\n",
        "models.append(('Logistic Regression', LGR_Classifier))\n",
        "models.append(('Naive Bayes Classifier', BNB_Classifier))\n",
        "models.append(('Decision Tree Classifier', DTC_Classifier))\n",
        "models.append(('Random Forest Classifier', RFC_Classifier))\n",
        "models.append(('KNeighbors Classifier', KNN_Classifier))\n",
        "models.append(('Support Vector Classifier', svc_Classifier))\n",
        "for i, v in models:\n",
        "    \n",
        "    scores = cross_val_score(v, X_train, Y_train, cv = 10)\n",
        "\n",
        "    accuracy = metrics.accuracy_score(Y_train, v.predict(X_train))\n",
        "    cm = metrics.confusion_matrix(Y_train, v.predict(X_train))\n",
        "    cr = metrics.classification_report(Y_train, v.predict(X_train))\n",
        "    acc_score_evaluate.append([i, accuracy])\n",
        "    \n",
        "    \n",
        "    print()\n",
        "    print('============={} Model Evaluation========='.format(i))\n",
        "    print()\n",
        "    print(\"Cross Validation Mean Score: \" \"\\n\", scores.mean())\n",
        "    print()\n",
        "    print(\"Model Accuracy: \" \"\\n\", accuracy)\n",
        "    print()\n",
        "    print(\"Confusion Matrix: \" \"\\n\", cm)\n",
        "    print()\n",
        "    print(\"Classification Report: \" \"\\n\", cr)\n",
        "    print()"
      ],
      "execution_count": null,
      "outputs": [
        {
          "output_type": "stream",
          "text": [
            "\n",
            "=============Logistic Regression Model Evaluation=========\n",
            "\n",
            "Cross Validation Mean Score: \n",
            " 0.8341269198168962\n",
            "\n",
            "Model Accuracy: \n",
            " 0.8330497901780651\n",
            "\n",
            "Confusion Matrix: \n",
            " [[5700  718    0    0    0]\n",
            " [ 419 8986    0    2    0]\n",
            " [ 914  724    1    0    0]\n",
            " [   1  158    0    3    0]\n",
            " [   1    7    0    0    0]]\n",
            "\n",
            "Classification Report: \n",
            "               precision    recall  f1-score   support\n",
            "\n",
            "           0       0.81      0.89      0.85      6418\n",
            "           1       0.85      0.96      0.90      9407\n",
            "           2       1.00      0.00      0.00      1639\n",
            "           3       0.60      0.02      0.04       162\n",
            "           4       0.00      0.00      0.00         8\n",
            "\n",
            "    accuracy                           0.83     17634\n",
            "   macro avg       0.65      0.37      0.36     17634\n",
            "weighted avg       0.85      0.83      0.79     17634\n",
            "\n",
            "\n",
            "\n",
            "=============Naive Bayes Classifier Model Evaluation=========\n",
            "\n",
            "Cross Validation Mean Score: \n",
            " 0.8701360994388301\n",
            "\n",
            "Model Accuracy: \n",
            " 0.8700238176250426\n",
            "\n",
            "Confusion Matrix: \n",
            " [[5704  197  517    0    0]\n",
            " [  99 8592  716    0    0]\n",
            " [ 334  259 1046    0    0]\n",
            " [   5  157    0    0    0]\n",
            " [   0    8    0    0    0]]\n",
            "\n",
            "Classification Report: \n",
            "               precision    recall  f1-score   support\n",
            "\n",
            "           0       0.93      0.89      0.91      6418\n",
            "           1       0.93      0.91      0.92      9407\n",
            "           2       0.46      0.64      0.53      1639\n",
            "           3       0.00      0.00      0.00       162\n",
            "           4       0.00      0.00      0.00         8\n",
            "\n",
            "    accuracy                           0.87     17634\n",
            "   macro avg       0.46      0.49      0.47     17634\n",
            "weighted avg       0.88      0.87      0.87     17634\n",
            "\n",
            "\n",
            "\n",
            "=============Decision Tree Classifier Model Evaluation=========\n",
            "\n",
            "Cross Validation Mean Score: \n",
            " 0.9937621144127908\n",
            "\n",
            "Model Accuracy: \n",
            " 1.0\n",
            "\n",
            "Confusion Matrix: \n",
            " [[6418    0    0    0    0]\n",
            " [   0 9407    0    0    0]\n",
            " [   0    0 1639    0    0]\n",
            " [   0    0    0  162    0]\n",
            " [   0    0    0    0    8]]\n",
            "\n",
            "Classification Report: \n",
            "               precision    recall  f1-score   support\n",
            "\n",
            "           0       1.00      1.00      1.00      6418\n",
            "           1       1.00      1.00      1.00      9407\n",
            "           2       1.00      1.00      1.00      1639\n",
            "           3       1.00      1.00      1.00       162\n",
            "           4       1.00      1.00      1.00         8\n",
            "\n",
            "    accuracy                           1.00     17634\n",
            "   macro avg       1.00      1.00      1.00     17634\n",
            "weighted avg       1.00      1.00      1.00     17634\n",
            "\n",
            "\n",
            "\n",
            "=============Random Forest Classifier Model Evaluation=========\n",
            "\n",
            "Cross Validation Mean Score: \n",
            " 0.9964841353444385\n",
            "\n",
            "Model Accuracy: \n",
            " 1.0\n",
            "\n",
            "Confusion Matrix: \n",
            " [[6418    0    0    0    0]\n",
            " [   0 9407    0    0    0]\n",
            " [   0    0 1639    0    0]\n",
            " [   0    0    0  162    0]\n",
            " [   0    0    0    0    8]]\n",
            "\n",
            "Classification Report: \n",
            "               precision    recall  f1-score   support\n",
            "\n",
            "           0       1.00      1.00      1.00      6418\n",
            "           1       1.00      1.00      1.00      9407\n",
            "           2       1.00      1.00      1.00      1639\n",
            "           3       1.00      1.00      1.00       162\n",
            "           4       1.00      1.00      1.00         8\n",
            "\n",
            "    accuracy                           1.00     17634\n",
            "   macro avg       1.00      1.00      1.00     17634\n",
            "weighted avg       1.00      1.00      1.00     17634\n",
            "\n",
            "\n",
            "\n",
            "=============KNeighbors Classifier Model Evaluation=========\n",
            "\n",
            "Cross Validation Mean Score: \n",
            " 0.9823066549365066\n",
            "\n",
            "Model Accuracy: \n",
            " 0.9882613133718952\n",
            "\n",
            "Confusion Matrix: \n",
            " [[6376   15   27    0    0]\n",
            " [  19 9355   25    8    0]\n",
            " [  59   25 1554    1    0]\n",
            " [   0   18    2  142    0]\n",
            " [   0    7    1    0    0]]\n",
            "\n",
            "Classification Report: \n",
            "               precision    recall  f1-score   support\n",
            "\n",
            "           0       0.99      0.99      0.99      6418\n",
            "           1       0.99      0.99      0.99      9407\n",
            "           2       0.97      0.95      0.96      1639\n",
            "           3       0.94      0.88      0.91       162\n",
            "           4       0.00      0.00      0.00         8\n",
            "\n",
            "    accuracy                           0.99     17634\n",
            "   macro avg       0.78      0.76      0.77     17634\n",
            "weighted avg       0.99      0.99      0.99     17634\n",
            "\n",
            "\n",
            "\n",
            "=============Support Vector Classifier Model Evaluation=========\n",
            "\n",
            "Cross Validation Mean Score: \n",
            " 0.5342517778523774\n",
            "\n",
            "Model Accuracy: \n",
            " 0.5340251786321878\n",
            "\n",
            "Confusion Matrix: \n",
            " [[   0 6418    0    0    0]\n",
            " [   0 9406    0    1    0]\n",
            " [   0 1638    1    0    0]\n",
            " [   0  152    0   10    0]\n",
            " [   0    8    0    0    0]]\n",
            "\n",
            "Classification Report: \n",
            "               precision    recall  f1-score   support\n",
            "\n",
            "           0       0.00      0.00      0.00      6418\n",
            "           1       0.53      1.00      0.70      9407\n",
            "           2       1.00      0.00      0.00      1639\n",
            "           3       0.91      0.06      0.12       162\n",
            "           4       0.00      0.00      0.00         8\n",
            "\n",
            "    accuracy                           0.53     17634\n",
            "   macro avg       0.49      0.21      0.16     17634\n",
            "weighted avg       0.39      0.53      0.37     17634\n",
            "\n",
            "\n"
          ],
          "name": "stdout"
        }
      ]
    },
    {
      "cell_type": "code",
      "metadata": {
        "id": "6SbvoArp_40u",
        "colab_type": "code",
        "colab": {
          "base_uri": "https://localhost:8080/",
          "height": 34
        },
        "outputId": "3ba47c4d-96e0-4046-b8f2-89195b65a7e2"
      },
      "source": [
        "!pip install texttable"
      ],
      "execution_count": null,
      "outputs": [
        {
          "output_type": "stream",
          "text": [
            "Requirement already satisfied: texttable in /usr/local/lib/python3.6/dist-packages (1.6.2)\n"
          ],
          "name": "stdout"
        }
      ]
    },
    {
      "cell_type": "code",
      "metadata": {
        "id": "hQycdO_Hlk7r",
        "colab_type": "code",
        "colab": {
          "base_uri": "https://localhost:8080/",
          "height": 403
        },
        "outputId": "24f935f2-68d7-4e7d-d3ed-1d01ec898bc8"
      },
      "source": [
        "from texttable import Texttable\n",
        "t = Texttable()\n",
        "t.add_rows(acc_score_evaluate,header=False)\n",
        "print(t.draw())"
      ],
      "execution_count": null,
      "outputs": [
        {
          "output_type": "stream",
          "text": [
            "+------------------------------+----------+\n",
            "| Model                        | Accuracy |\n",
            "+------------------------------+----------+\n",
            "| RNN Classifier ((120, 0.01)) | 0.975    |\n",
            "+------------------------------+----------+\n",
            "| ANN Classifier               | 0.982    |\n",
            "+------------------------------+----------+\n",
            "| Keras Classifier             | 0.973    |\n",
            "+------------------------------+----------+\n",
            "| MLP Classifier               | 0.980    |\n",
            "+------------------------------+----------+\n",
            "| Logistic Regression          | 0.833    |\n",
            "+------------------------------+----------+\n",
            "| Naive Bayes Classifier       | 0.870    |\n",
            "+------------------------------+----------+\n",
            "| Decision Tree Classifier     | 1        |\n",
            "+------------------------------+----------+\n",
            "| Random Forest Classifier     | 1        |\n",
            "+------------------------------+----------+\n",
            "| KNeighbors Classifier        | 0.988    |\n",
            "+------------------------------+----------+\n",
            "| Support Vector Classifier    | 0.534    |\n",
            "+------------------------------+----------+\n"
          ],
          "name": "stdout"
        }
      ]
    },
    {
      "cell_type": "markdown",
      "metadata": {
        "colab_type": "text",
        "id": "nx5YYHgj9gux"
      },
      "source": [
        "# Validating Models"
      ]
    },
    {
      "cell_type": "code",
      "metadata": {
        "colab_type": "code",
        "id": "euavwoJo3av-",
        "colab": {
          "base_uri": "https://localhost:8080/",
          "height": 1000
        },
        "outputId": "6523bcce-56c9-40c9-9bf6-6d3d23ad9702"
      },
      "source": [
        "for i, v in models:\n",
        "    scores = cross_val_score(v, X_test, Y_test, cv = 10)\n",
        "    accuracy = metrics.accuracy_score(Y_test, v.predict(X_test))\n",
        "    cm = metrics.confusion_matrix(Y_test, v.predict(X_test))\n",
        "    cr = metrics.classification_report(Y_test, v.predict(X_test))\n",
        "    acc_score_validation.append([i,accuracy])\n",
        "    print()\n",
        "    print('============={} Model Evaluation========='.format(i))\n",
        "    print()\n",
        "    print(\"Cross Validation Mean Score: \" \"\\n\", scores.mean())\n",
        "    print()\n",
        "    print(\"Model Accuracy: \" \"\\n\", accuracy)\n",
        "    print()\n",
        "    print(\"Confusion Matrix: \" \"\\n\", cm)\n",
        "    print()\n",
        "    print(\"Classification Report: \" \"\\n\", cr)"
      ],
      "execution_count": null,
      "outputs": [
        {
          "output_type": "stream",
          "text": [
            "\n",
            "=============Logistic Regression Model Evaluation=========\n",
            "\n",
            "Cross Validation Mean Score: \n",
            " 0.8373891867269352\n",
            "\n",
            "Model Accuracy: \n",
            " 0.8449325218311723\n",
            "\n",
            "Confusion Matrix: \n",
            " [[2510  306    0    0    0]\n",
            " [ 167 3873    0    2    0]\n",
            " [ 367  283    0    0    0]\n",
            " [   0   43    1    3    0]\n",
            " [   0    3    0    0    0]]\n",
            "\n",
            "Classification Report: \n",
            "               precision    recall  f1-score   support\n",
            "\n",
            "           0       0.82      0.89      0.86      2816\n",
            "           1       0.86      0.96      0.91      4042\n",
            "           2       0.00      0.00      0.00       650\n",
            "           3       0.60      0.06      0.12        47\n",
            "           4       0.00      0.00      0.00         3\n",
            "\n",
            "    accuracy                           0.84      7558\n",
            "   macro avg       0.46      0.38      0.38      7558\n",
            "weighted avg       0.77      0.84      0.80      7558\n",
            "\n",
            "\n",
            "=============Naive Bayes Classifier Model Evaluation=========\n",
            "\n",
            "Cross Validation Mean Score: \n",
            " 0.8743030589719331\n",
            "\n",
            "Model Accuracy: \n",
            " 0.8754961630060862\n",
            "\n",
            "Confusion Matrix: \n",
            " [[2498   90  228    0    0]\n",
            " [  37 3705  300    0    0]\n",
            " [ 146   90  414    0    0]\n",
            " [   1   45    1    0    0]\n",
            " [   0    3    0    0    0]]\n",
            "\n",
            "Classification Report: \n",
            "               precision    recall  f1-score   support\n",
            "\n",
            "           0       0.93      0.89      0.91      2816\n",
            "           1       0.94      0.92      0.93      4042\n",
            "           2       0.44      0.64      0.52       650\n",
            "           3       0.00      0.00      0.00        47\n",
            "           4       0.00      0.00      0.00         3\n",
            "\n",
            "    accuracy                           0.88      7558\n",
            "   macro avg       0.46      0.49      0.47      7558\n",
            "weighted avg       0.89      0.88      0.88      7558\n",
            "\n",
            "\n",
            "=============Decision Tree Classifier Model Evaluation=========\n",
            "\n",
            "Cross Validation Mean Score: \n",
            " 0.9896792109043766\n",
            "\n",
            "Model Accuracy: \n",
            " 0.9936491135220958\n",
            "\n",
            "Confusion Matrix: \n",
            " [[2811    3    2    0    0]\n",
            " [   2 4016   13    8    3]\n",
            " [   1    8  641    0    0]\n",
            " [   0    5    1   41    0]\n",
            " [   0    2    0    0    1]]\n",
            "\n",
            "Classification Report: \n",
            "               precision    recall  f1-score   support\n",
            "\n",
            "           0       1.00      1.00      1.00      2816\n",
            "           1       1.00      0.99      0.99      4042\n",
            "           2       0.98      0.99      0.98       650\n",
            "           3       0.84      0.87      0.85        47\n",
            "           4       0.25      0.33      0.29         3\n",
            "\n",
            "    accuracy                           0.99      7558\n",
            "   macro avg       0.81      0.84      0.82      7558\n",
            "weighted avg       0.99      0.99      0.99      7558\n",
            "\n",
            "\n",
            "=============Random Forest Classifier Model Evaluation=========\n",
            "\n",
            "Cross Validation Mean Score: \n",
            " 0.9953691439784155\n",
            "\n",
            "Model Accuracy: \n",
            " 0.9973537973008733\n",
            "\n",
            "Confusion Matrix: \n",
            " [[2814    2    0    0    0]\n",
            " [   0 4034    5    2    1]\n",
            " [   0    3  647    0    0]\n",
            " [   0    5    0   42    0]\n",
            " [   0    2    0    0    1]]\n",
            "\n",
            "Classification Report: \n",
            "               precision    recall  f1-score   support\n",
            "\n",
            "           0       1.00      1.00      1.00      2816\n",
            "           1       1.00      1.00      1.00      4042\n",
            "           2       0.99      1.00      0.99       650\n",
            "           3       0.95      0.89      0.92        47\n",
            "           4       0.50      0.33      0.40         3\n",
            "\n",
            "    accuracy                           1.00      7558\n",
            "   macro avg       0.89      0.84      0.86      7558\n",
            "weighted avg       1.00      1.00      1.00      7558\n",
            "\n",
            "\n",
            "=============KNeighbors Classifier Model Evaluation=========\n",
            "\n",
            "Cross Validation Mean Score: \n",
            " 0.9736702407232208\n",
            "\n",
            "Model Accuracy: \n",
            " 0.9855781952897592\n",
            "\n",
            "Confusion Matrix: \n",
            " [[2785   10   21    0    0]\n",
            " [   8 4014   11    9    0]\n",
            " [  23   14  613    0    0]\n",
            " [   0    9    1   37    0]\n",
            " [   0    3    0    0    0]]\n",
            "\n",
            "Classification Report: \n",
            "               precision    recall  f1-score   support\n",
            "\n",
            "           0       0.99      0.99      0.99      2816\n",
            "           1       0.99      0.99      0.99      4042\n",
            "           2       0.95      0.94      0.95       650\n",
            "           3       0.80      0.79      0.80        47\n",
            "           4       0.00      0.00      0.00         3\n",
            "\n",
            "    accuracy                           0.99      7558\n",
            "   macro avg       0.75      0.74      0.74      7558\n",
            "weighted avg       0.99      0.99      0.99      7558\n",
            "\n",
            "\n",
            "=============Support Vector Classifier Model Evaluation=========\n",
            "\n",
            "Cross Validation Mean Score: \n",
            " 0.535459196187673\n",
            "\n",
            "Model Accuracy: \n",
            " 0.5355914263032548\n",
            "\n",
            "Confusion Matrix: \n",
            " [[   0 2816    0    0    0]\n",
            " [   0 4040    0    2    0]\n",
            " [   0  650    0    0    0]\n",
            " [   0   39    0    8    0]\n",
            " [   0    3    0    0    0]]\n",
            "\n",
            "Classification Report: \n",
            "               precision    recall  f1-score   support\n",
            "\n",
            "           0       0.00      0.00      0.00      2816\n",
            "           1       0.54      1.00      0.70      4042\n",
            "           2       0.00      0.00      0.00       650\n",
            "           3       0.80      0.17      0.28        47\n",
            "           4       0.00      0.00      0.00         3\n",
            "\n",
            "    accuracy                           0.54      7558\n",
            "   macro avg       0.27      0.23      0.20      7558\n",
            "weighted avg       0.29      0.54      0.37      7558\n",
            "\n"
          ],
          "name": "stdout"
        }
      ]
    },
    {
      "cell_type": "code",
      "metadata": {
        "id": "sxV_q66Flk72",
        "colab_type": "code",
        "colab": {
          "base_uri": "https://localhost:8080/",
          "height": 403
        },
        "outputId": "06a39053-691f-4d22-c30b-9bb80256be0a"
      },
      "source": [
        "from texttable import Texttable\n",
        "t = Texttable()\n",
        "t.add_rows(acc_score_validation,header=True)\n",
        "print(t.draw())"
      ],
      "execution_count": null,
      "outputs": [
        {
          "output_type": "stream",
          "text": [
            "+------------------------------+----------+\n",
            "|            Model             | Accuracy |\n",
            "+==============================+==========+\n",
            "| RNN Classifier ((120, 0.01)) | 0.975    |\n",
            "+------------------------------+----------+\n",
            "| ANN Classifier               | 0.982    |\n",
            "+------------------------------+----------+\n",
            "| Keras Classifier             | 0.973    |\n",
            "+------------------------------+----------+\n",
            "| MLP Classifier               | 0.977    |\n",
            "+------------------------------+----------+\n",
            "| Logistic Regression          | 0.845    |\n",
            "+------------------------------+----------+\n",
            "| Naive Bayes Classifier       | 0.875    |\n",
            "+------------------------------+----------+\n",
            "| Decision Tree Classifier     | 0.994    |\n",
            "+------------------------------+----------+\n",
            "| Random Forest Classifier     | 0.997    |\n",
            "+------------------------------+----------+\n",
            "| KNeighbors Classifier        | 0.986    |\n",
            "+------------------------------+----------+\n",
            "| Support Vector Classifier    | 0.536    |\n",
            "+------------------------------+----------+\n"
          ],
          "name": "stdout"
        }
      ]
    },
    {
      "cell_type": "code",
      "metadata": {
        "id": "TlUa0bmTBeVM",
        "colab_type": "code",
        "colab": {
          "base_uri": "https://localhost:8080/",
          "height": 564
        },
        "outputId": "154bda9f-e223-4553-e97e-f9c61cdbde3e"
      },
      "source": [
        "df = pd.DataFrame(acc_score_evaluate[1:],columns=['Model','Accuracy'])\n",
        "df_eval = df.set_index('Model')\n",
        "ax = df_eval.plot(kind='bar', title='Model Evaluation', figsize=(15,6), legend=True, fontsize=12)\n",
        "ax.set_xlabel('Models')\n",
        "ax.set_ylabel('Accuracy')\n",
        "plt.show()"
      ],
      "execution_count": null,
      "outputs": [
        {
          "output_type": "display_data",
          "data": {
            "image/png": "[encoded data removed]",
            "text/plain": [
              "<Figure size 1080x432 with 1 Axes>"
            ]
          },
          "metadata": {
            "tags": []
          }
        }
      ]
    },
    {
      "cell_type": "code",
      "metadata": {
        "id": "u1fMphs9agFW",
        "colab_type": "code",
        "colab": {
          "base_uri": "https://localhost:8080/",
          "height": 564
        },
        "outputId": "039eca07-1d57-4bc7-9705-87e58d29bb05"
      },
      "source": [
        "df_val = pd.DataFrame(acc_score_validation[1:],columns=['Model','Accuracy'],index=df['Model'])\n",
        "ax = df_val.plot(kind='bar', title='Model Validation', figsize=(15,6), legend=True, fontsize=12)\n",
        "ax.set_xlabel('Models')\n",
        "ax.set_ylabel('Accuracy')\n",
        "plt.show()"
      ],
      "execution_count": null,
      "outputs": [
        {
          "output_type": "display_data",
          "data": {
            "image/png": "[encoded data removed]",
            "text/plain": [
              "<Figure size 1080x432 with 1 Axes>"
            ]
          },
          "metadata": {
            "tags": []
          }
        }
      ]
    },
    {
      "cell_type": "code",
      "metadata": {
        "id": "s3lcrYM_lpU_",
        "colab_type": "code",
        "colab": {}
      },
      "source": [
        ""
      ],
      "execution_count": null,
      "outputs": []
    }
  ]
}